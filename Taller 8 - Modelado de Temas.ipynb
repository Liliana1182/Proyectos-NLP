{
 "cells": [
  {
   "cell_type": "markdown",
   "metadata": {},
   "source": [
    "<img src='https://encrypted-tbn0.gstatic.com/images?q=tbn%3AANd9GcQ-VfNtOyJbsaxu43Kztf_cv1mgBG6ZIQZEVw&usqp=CAU'>\n",
    "\n",
    "# Procesamiento de Lenguage Natural\n",
    "\n",
    "## Taller #8: Modelado de temas\n",
    "`Fecha de entrega: 🎃 Octubre 31, 2020. (Antes del inicio de la próxima clase).`\n",
    "\n",
    "`Modo de entrega: Subir link de GitHub al aula virtual.`"
   ]
  },
  {
   "cell_type": "code",
   "execution_count": 1,
   "metadata": {},
   "outputs": [
    {
     "name": "stderr",
     "output_type": "stream",
     "text": [
      "C:\\Users\\ltoquica\\AppData\\Local\\Continuum\\anaconda3\\lib\\site-packages\\scipy\\sparse\\sparsetools.py:21: DeprecationWarning: `scipy.sparse.sparsetools` is deprecated!\n",
      "scipy.sparse.sparsetools is a private module for scipy.sparse, and should not be used.\n",
      "  _deprecated()\n"
     ]
    }
   ],
   "source": [
    "import re\n",
    "import pandas as pd \n",
    "from pprint import pprint\n",
    "\n",
    "from nltk.corpus import stopwords\n",
    "stopwords_sp = stopwords.words('spanish')\n",
    "\n",
    "import pyLDAvis.gensim\n",
    "from gensim.models import LdaModel\n",
    "from gensim.corpora import Dictionary\n",
    "\n",
    "import warnings\n",
    "warnings.filterwarnings(\"ignore\", category=DeprecationWarning)"
   ]
  },
  {
   "cell_type": "code",
   "execution_count": 2,
   "metadata": {},
   "outputs": [
    {
     "data": {
      "text/html": [
       "<div>\n",
       "<style scoped>\n",
       "    .dataframe tbody tr th:only-of-type {\n",
       "        vertical-align: middle;\n",
       "    }\n",
       "\n",
       "    .dataframe tbody tr th {\n",
       "        vertical-align: top;\n",
       "    }\n",
       "\n",
       "    .dataframe thead th {\n",
       "        text-align: right;\n",
       "    }\n",
       "</style>\n",
       "<table border=\"1\" class=\"dataframe\">\n",
       "  <thead>\n",
       "    <tr style=\"text-align: right;\">\n",
       "      <th></th>\n",
       "      <th>review_id</th>\n",
       "      <th>product_id</th>\n",
       "      <th>reviewer_id</th>\n",
       "      <th>stars</th>\n",
       "      <th>review_body</th>\n",
       "      <th>review_title</th>\n",
       "      <th>language</th>\n",
       "      <th>product_category</th>\n",
       "    </tr>\n",
       "  </thead>\n",
       "  <tbody>\n",
       "    <tr>\n",
       "      <td>0</td>\n",
       "      <td>es_0825565</td>\n",
       "      <td>product_es_0370490</td>\n",
       "      <td>reviewer_es_0174781</td>\n",
       "      <td>3</td>\n",
       "      <td>Buen. Buena calidad, y buena presentación.</td>\n",
       "      <td>Contenta</td>\n",
       "      <td>es</td>\n",
       "      <td>jewelry</td>\n",
       "    </tr>\n",
       "    <tr>\n",
       "      <td>1</td>\n",
       "      <td>es_0227934</td>\n",
       "      <td>product_es_0354224</td>\n",
       "      <td>reviewer_es_0411613</td>\n",
       "      <td>3</td>\n",
       "      <td>Un producto a perfecto, para salir de casa con...</td>\n",
       "      <td>Versatilidad</td>\n",
       "      <td>es</td>\n",
       "      <td>video_games</td>\n",
       "    </tr>\n",
       "    <tr>\n",
       "      <td>2</td>\n",
       "      <td>es_0468601</td>\n",
       "      <td>product_es_0665460</td>\n",
       "      <td>reviewer_es_0348315</td>\n",
       "      <td>1</td>\n",
       "      <td>No funciona con Nintendo Switch. No hay forma ...</td>\n",
       "      <td>Decepción absoluta</td>\n",
       "      <td>es</td>\n",
       "      <td>video_games</td>\n",
       "    </tr>\n",
       "    <tr>\n",
       "      <td>3</td>\n",
       "      <td>es_0814494</td>\n",
       "      <td>product_es_0692692</td>\n",
       "      <td>reviewer_es_0951508</td>\n",
       "      <td>5</td>\n",
       "      <td>Recomendado, los utilizo para pc y no me dan n...</td>\n",
       "      <td>Auriculares Pecham ps4</td>\n",
       "      <td>es</td>\n",
       "      <td>video_games</td>\n",
       "    </tr>\n",
       "    <tr>\n",
       "      <td>4</td>\n",
       "      <td>es_0206329</td>\n",
       "      <td>product_es_0728826</td>\n",
       "      <td>reviewer_es_0493255</td>\n",
       "      <td>4</td>\n",
       "      <td>El cable funciona bien podria ser un poco mas ...</td>\n",
       "      <td>Perfecto</td>\n",
       "      <td>es</td>\n",
       "      <td>video_games</td>\n",
       "    </tr>\n",
       "  </tbody>\n",
       "</table>\n",
       "</div>"
      ],
      "text/plain": [
       "    review_id          product_id          reviewer_id  stars  \\\n",
       "0  es_0825565  product_es_0370490  reviewer_es_0174781      3   \n",
       "1  es_0227934  product_es_0354224  reviewer_es_0411613      3   \n",
       "2  es_0468601  product_es_0665460  reviewer_es_0348315      1   \n",
       "3  es_0814494  product_es_0692692  reviewer_es_0951508      5   \n",
       "4  es_0206329  product_es_0728826  reviewer_es_0493255      4   \n",
       "\n",
       "                                         review_body            review_title  \\\n",
       "0         Buen. Buena calidad, y buena presentación.                Contenta   \n",
       "1  Un producto a perfecto, para salir de casa con...            Versatilidad   \n",
       "2  No funciona con Nintendo Switch. No hay forma ...      Decepción absoluta   \n",
       "3  Recomendado, los utilizo para pc y no me dan n...  Auriculares Pecham ps4   \n",
       "4  El cable funciona bien podria ser un poco mas ...                Perfecto   \n",
       "\n",
       "  language product_category  \n",
       "0       es          jewelry  \n",
       "1       es      video_games  \n",
       "2       es      video_games  \n",
       "3       es      video_games  \n",
       "4       es      video_games  "
      ]
     },
     "execution_count": 2,
     "metadata": {},
     "output_type": "execute_result"
    }
   ],
   "source": [
    "# Cargar datos\n",
    "path = 'reviews_vidjew_es.csv'\n",
    "data = pd.read_csv(path)\n",
    "data.head()"
   ]
  },
  {
   "cell_type": "markdown",
   "metadata": {},
   "source": [
    "###  `[12 pts]` Punto 1: Hacer pre-procesamiento del texto"
   ]
  },
  {
   "cell_type": "code",
   "execution_count": 3,
   "metadata": {},
   "outputs": [
    {
     "data": {
      "text/html": [
       "<div>\n",
       "<style scoped>\n",
       "    .dataframe tbody tr th:only-of-type {\n",
       "        vertical-align: middle;\n",
       "    }\n",
       "\n",
       "    .dataframe tbody tr th {\n",
       "        vertical-align: top;\n",
       "    }\n",
       "\n",
       "    .dataframe thead th {\n",
       "        text-align: right;\n",
       "    }\n",
       "</style>\n",
       "<table border=\"1\" class=\"dataframe\">\n",
       "  <thead>\n",
       "    <tr style=\"text-align: right;\">\n",
       "      <th></th>\n",
       "      <th>review_id</th>\n",
       "      <th>product_id</th>\n",
       "      <th>reviewer_id</th>\n",
       "      <th>stars</th>\n",
       "      <th>review_body</th>\n",
       "      <th>review_title</th>\n",
       "      <th>language</th>\n",
       "      <th>product_category</th>\n",
       "      <th>pp</th>\n",
       "    </tr>\n",
       "  </thead>\n",
       "  <tbody>\n",
       "    <tr>\n",
       "      <td>0</td>\n",
       "      <td>es_0825565</td>\n",
       "      <td>product_es_0370490</td>\n",
       "      <td>reviewer_es_0174781</td>\n",
       "      <td>3</td>\n",
       "      <td>Buen. Buena calidad, y buena presentación.</td>\n",
       "      <td>Contenta</td>\n",
       "      <td>es</td>\n",
       "      <td>jewelry</td>\n",
       "      <td>[buen, buena, calidad, buena, presentación]</td>\n",
       "    </tr>\n",
       "    <tr>\n",
       "      <td>1</td>\n",
       "      <td>es_0227934</td>\n",
       "      <td>product_es_0354224</td>\n",
       "      <td>reviewer_es_0411613</td>\n",
       "      <td>3</td>\n",
       "      <td>Un producto a perfecto, para salir de casa con...</td>\n",
       "      <td>Versatilidad</td>\n",
       "      <td>es</td>\n",
       "      <td>video_games</td>\n",
       "      <td>[producto, perfecto, salir, casa, nintendo, sw...</td>\n",
       "    </tr>\n",
       "    <tr>\n",
       "      <td>2</td>\n",
       "      <td>es_0468601</td>\n",
       "      <td>product_es_0665460</td>\n",
       "      <td>reviewer_es_0348315</td>\n",
       "      <td>1</td>\n",
       "      <td>No funciona con Nintendo Switch. No hay forma ...</td>\n",
       "      <td>Decepción absoluta</td>\n",
       "      <td>es</td>\n",
       "      <td>video_games</td>\n",
       "      <td>[funciona, nintendo, switch, forma, emparejarl...</td>\n",
       "    </tr>\n",
       "    <tr>\n",
       "      <td>3</td>\n",
       "      <td>es_0814494</td>\n",
       "      <td>product_es_0692692</td>\n",
       "      <td>reviewer_es_0951508</td>\n",
       "      <td>5</td>\n",
       "      <td>Recomendado, los utilizo para pc y no me dan n...</td>\n",
       "      <td>Auriculares Pecham ps4</td>\n",
       "      <td>es</td>\n",
       "      <td>video_games</td>\n",
       "      <td>[recomendado, utilizo, pc, dan, ningún, proble...</td>\n",
       "    </tr>\n",
       "    <tr>\n",
       "      <td>4</td>\n",
       "      <td>es_0206329</td>\n",
       "      <td>product_es_0728826</td>\n",
       "      <td>reviewer_es_0493255</td>\n",
       "      <td>4</td>\n",
       "      <td>El cable funciona bien podria ser un poco mas ...</td>\n",
       "      <td>Perfecto</td>\n",
       "      <td>es</td>\n",
       "      <td>video_games</td>\n",
       "      <td>[cable, funciona, bien, podria, ser, mas, larg...</td>\n",
       "    </tr>\n",
       "  </tbody>\n",
       "</table>\n",
       "</div>"
      ],
      "text/plain": [
       "    review_id          product_id          reviewer_id  stars  \\\n",
       "0  es_0825565  product_es_0370490  reviewer_es_0174781      3   \n",
       "1  es_0227934  product_es_0354224  reviewer_es_0411613      3   \n",
       "2  es_0468601  product_es_0665460  reviewer_es_0348315      1   \n",
       "3  es_0814494  product_es_0692692  reviewer_es_0951508      5   \n",
       "4  es_0206329  product_es_0728826  reviewer_es_0493255      4   \n",
       "\n",
       "                                         review_body            review_title  \\\n",
       "0         Buen. Buena calidad, y buena presentación.                Contenta   \n",
       "1  Un producto a perfecto, para salir de casa con...            Versatilidad   \n",
       "2  No funciona con Nintendo Switch. No hay forma ...      Decepción absoluta   \n",
       "3  Recomendado, los utilizo para pc y no me dan n...  Auriculares Pecham ps4   \n",
       "4  El cable funciona bien podria ser un poco mas ...                Perfecto   \n",
       "\n",
       "  language product_category                                                 pp  \n",
       "0       es          jewelry        [buen, buena, calidad, buena, presentación]  \n",
       "1       es      video_games  [producto, perfecto, salir, casa, nintendo, sw...  \n",
       "2       es      video_games  [funciona, nintendo, switch, forma, emparejarl...  \n",
       "3       es      video_games  [recomendado, utilizo, pc, dan, ningún, proble...  \n",
       "4       es      video_games  [cable, funciona, bien, podria, ser, mas, larg...  "
      ]
     },
     "execution_count": 3,
     "metadata": {},
     "output_type": "execute_result"
    }
   ],
   "source": [
    "def pre_procesado(texto):\n",
    "    texto = texto.lower()\n",
    "    texto = re.sub(r\"[\\W\\d_]+\", \" \", texto)\n",
    "    texto = [palabra for palabra in texto.split() if palabra not in stopwords_sp]\n",
    "    return texto\n",
    "\n",
    "\n",
    "data['pp'] = data['review_body'].apply(lambda texto: pre_procesado(texto))\n",
    "\n",
    "data.head()\n"
   ]
  },
  {
   "cell_type": "code",
   "execution_count": null,
   "metadata": {},
   "outputs": [],
   "source": []
  },
  {
   "cell_type": "markdown",
   "metadata": {},
   "source": [
    "###  `[13 pts]` Punto 2: Modelo de LDA"
   ]
  },
  {
   "cell_type": "code",
   "execution_count": null,
   "metadata": {},
   "outputs": [],
   "source": [
    "# Crear una representación de los documentos en forma de diccionario\n",
    "dictionary = Dictionary(data['pp'].values)\n",
    "#dictionary.token2id  Le asigna a cada palarabra un numero\n",
    "# Filtrar palabras muy frecuentes o infrecuentes\n",
    "dictionary.filter_extremes(no_below=5, no_above=0.5)\n",
    "corpus = [dictionary.doc2bow(text) for text in data['pp'].values]\n",
    "#corpus\n",
    "#Train the topic model\n",
    "model = LdaModel(corpus=corpus, id2word=dictionary, num_topics=7, passes=50, random_state = 28) #random es la semilla\n",
    "#model"
   ]
  },
  {
   "cell_type": "code",
   "execution_count": null,
   "metadata": {},
   "outputs": [],
   "source": [
    "#Para ver los resultados\n",
    "model.print_topics(num_words= 10)"
   ]
  },
  {
   "cell_type": "markdown",
   "metadata": {},
   "source": [
    "###  `[25 pts]` Punto 3: Visualización de LDA"
   ]
  },
  {
   "cell_type": "code",
   "execution_count": 15,
   "metadata": {},
   "outputs": [
    {
     "name": "stderr",
     "output_type": "stream",
     "text": [
      "C:\\Users\\ltoquica\\AppData\\Local\\Continuum\\anaconda3\\lib\\site-packages\\pyLDAvis\\_prepare.py:257: FutureWarning: Sorting because non-concatenation axis is not aligned. A future version\n",
      "of pandas will change to not sort by default.\n",
      "\n",
      "To accept the future behavior, pass 'sort=False'.\n",
      "\n",
      "To retain the current behavior and silence the warning, pass 'sort=True'.\n",
      "\n",
      "  return pd.concat([default_term_info] + list(topic_dfs))\n"
     ]
    },
    {
     "data": {
      "text/html": [
       "\n",
       "<link rel=\"stylesheet\" type=\"text/css\" href=\"https://cdn.rawgit.com/bmabey/pyLDAvis/files/ldavis.v1.0.0.css\">\n",
       "\n",
       "\n",
       "<div id=\"ldavis_el1853627318084922324922603224\"></div>\n",
       "<script type=\"text/javascript\">\n",
       "\n",
       "var ldavis_el1853627318084922324922603224_data = {\"mdsDat\": {\"x\": [0.13721399547392907, 0.030322564417811875, 0.0560033747447604, 0.00956647905792404, 0.09232951595889134, -0.11892985786644603, -0.2065060717868705], \"y\": [0.04685714694025369, -0.04994289411165548, 0.05334406014048392, 0.16922112840718515, -0.14984298606829677, -0.11494876874017551, 0.045312313432204925], \"topics\": [1, 2, 3, 4, 5, 6, 7], \"cluster\": [1, 1, 1, 1, 1, 1, 1], \"Freq\": [16.861230850219727, 15.77944278717041, 15.327438354492188, 15.282055854797363, 14.041447639465332, 12.306215286254883, 10.40217399597168]}, \"tinfo\": {\"Category\": [\"Default\", \"Default\", \"Default\", \"Default\", \"Default\", \"Default\", \"Default\", \"Default\", \"Default\", \"Default\", \"Default\", \"Default\", \"Default\", \"Default\", \"Default\", \"Default\", \"Default\", \"Default\", \"Default\", \"Default\", \"Default\", \"Default\", \"Default\", \"Default\", \"Default\", \"Default\", \"Default\", \"Default\", \"Default\", \"Default\", \"Topic1\", \"Topic1\", \"Topic1\", \"Topic1\", \"Topic1\", \"Topic1\", \"Topic1\", \"Topic1\", \"Topic1\", \"Topic1\", \"Topic1\", \"Topic1\", \"Topic1\", \"Topic1\", \"Topic1\", \"Topic1\", \"Topic1\", \"Topic1\", \"Topic1\", \"Topic1\", \"Topic1\", \"Topic1\", \"Topic1\", \"Topic1\", \"Topic1\", \"Topic1\", \"Topic1\", \"Topic1\", \"Topic1\", \"Topic1\", \"Topic1\", \"Topic1\", \"Topic1\", \"Topic1\", \"Topic1\", \"Topic1\", \"Topic1\", \"Topic1\", \"Topic1\", \"Topic1\", \"Topic1\", \"Topic1\", \"Topic1\", \"Topic1\", \"Topic1\", \"Topic1\", \"Topic1\", \"Topic1\", \"Topic1\", \"Topic1\", \"Topic1\", \"Topic1\", \"Topic1\", \"Topic2\", \"Topic2\", \"Topic2\", \"Topic2\", \"Topic2\", \"Topic2\", \"Topic2\", \"Topic2\", \"Topic2\", \"Topic2\", \"Topic2\", \"Topic2\", \"Topic2\", \"Topic2\", \"Topic2\", \"Topic2\", \"Topic2\", \"Topic2\", \"Topic2\", \"Topic2\", \"Topic2\", \"Topic2\", \"Topic2\", \"Topic2\", \"Topic2\", \"Topic2\", \"Topic2\", \"Topic2\", \"Topic2\", \"Topic2\", \"Topic2\", \"Topic2\", \"Topic2\", \"Topic2\", \"Topic2\", \"Topic2\", \"Topic2\", \"Topic2\", \"Topic2\", \"Topic2\", \"Topic2\", \"Topic2\", \"Topic2\", \"Topic2\", \"Topic2\", \"Topic2\", \"Topic2\", \"Topic2\", \"Topic2\", \"Topic2\", \"Topic2\", \"Topic3\", \"Topic3\", \"Topic3\", \"Topic3\", \"Topic3\", \"Topic3\", \"Topic3\", \"Topic3\", \"Topic3\", \"Topic3\", \"Topic3\", \"Topic3\", \"Topic3\", \"Topic3\", \"Topic3\", \"Topic3\", \"Topic3\", \"Topic3\", \"Topic3\", \"Topic3\", \"Topic3\", \"Topic3\", \"Topic3\", \"Topic3\", \"Topic3\", \"Topic3\", \"Topic3\", \"Topic3\", \"Topic3\", \"Topic3\", \"Topic3\", \"Topic3\", \"Topic3\", \"Topic3\", \"Topic3\", \"Topic3\", \"Topic3\", \"Topic3\", \"Topic3\", \"Topic3\", \"Topic3\", \"Topic3\", \"Topic3\", \"Topic3\", \"Topic3\", \"Topic3\", \"Topic3\", \"Topic3\", \"Topic3\", \"Topic3\", \"Topic3\", \"Topic3\", \"Topic3\", \"Topic4\", \"Topic4\", \"Topic4\", \"Topic4\", \"Topic4\", \"Topic4\", \"Topic4\", \"Topic4\", \"Topic4\", \"Topic4\", \"Topic4\", \"Topic4\", \"Topic4\", \"Topic4\", \"Topic4\", \"Topic4\", \"Topic4\", \"Topic4\", \"Topic4\", \"Topic4\", \"Topic4\", \"Topic4\", \"Topic4\", \"Topic4\", \"Topic4\", \"Topic4\", \"Topic4\", \"Topic4\", \"Topic4\", \"Topic4\", \"Topic4\", \"Topic4\", \"Topic4\", \"Topic4\", \"Topic4\", \"Topic4\", \"Topic4\", \"Topic4\", \"Topic4\", \"Topic4\", \"Topic4\", \"Topic4\", \"Topic4\", \"Topic4\", \"Topic4\", \"Topic4\", \"Topic4\", \"Topic4\", \"Topic4\", \"Topic4\", \"Topic4\", \"Topic5\", \"Topic5\", \"Topic5\", \"Topic5\", \"Topic5\", \"Topic5\", \"Topic5\", \"Topic5\", \"Topic5\", \"Topic5\", \"Topic5\", \"Topic5\", \"Topic5\", \"Topic5\", \"Topic5\", \"Topic5\", \"Topic5\", \"Topic5\", \"Topic5\", \"Topic5\", \"Topic5\", \"Topic5\", \"Topic5\", \"Topic5\", \"Topic5\", \"Topic5\", \"Topic5\", \"Topic5\", \"Topic5\", \"Topic5\", \"Topic5\", \"Topic5\", \"Topic5\", \"Topic5\", \"Topic5\", \"Topic5\", \"Topic5\", \"Topic5\", \"Topic5\", \"Topic5\", \"Topic5\", \"Topic5\", \"Topic5\", \"Topic5\", \"Topic5\", \"Topic5\", \"Topic5\", \"Topic5\", \"Topic5\", \"Topic5\", \"Topic6\", \"Topic6\", \"Topic6\", \"Topic6\", \"Topic6\", \"Topic6\", \"Topic6\", \"Topic6\", \"Topic6\", \"Topic6\", \"Topic6\", \"Topic6\", \"Topic6\", \"Topic6\", \"Topic6\", \"Topic6\", \"Topic6\", \"Topic6\", \"Topic6\", \"Topic6\", \"Topic6\", \"Topic6\", \"Topic6\", \"Topic6\", \"Topic6\", \"Topic6\", \"Topic6\", \"Topic6\", \"Topic6\", \"Topic6\", \"Topic6\", \"Topic6\", \"Topic6\", \"Topic6\", \"Topic6\", \"Topic6\", \"Topic6\", \"Topic6\", \"Topic6\", \"Topic6\", \"Topic6\", \"Topic6\", \"Topic6\", \"Topic6\", \"Topic6\", \"Topic6\", \"Topic6\", \"Topic6\", \"Topic7\", \"Topic7\", \"Topic7\", \"Topic7\", \"Topic7\", \"Topic7\", \"Topic7\", \"Topic7\", \"Topic7\", \"Topic7\", \"Topic7\", \"Topic7\", \"Topic7\", \"Topic7\", \"Topic7\", \"Topic7\", \"Topic7\", \"Topic7\", \"Topic7\", \"Topic7\", \"Topic7\", \"Topic7\", \"Topic7\", \"Topic7\", \"Topic7\", \"Topic7\", \"Topic7\", \"Topic7\", \"Topic7\", \"Topic7\", \"Topic7\", \"Topic7\", \"Topic7\", \"Topic7\", \"Topic7\", \"Topic7\", \"Topic7\", \"Topic7\", \"Topic7\", \"Topic7\", \"Topic7\", \"Topic7\", \"Topic7\", \"Topic7\", \"Topic7\", \"Topic7\", \"Topic7\", \"Topic7\", \"Topic7\"], \"Freq\": [50.0, 116.0, 143.0, 62.0, 58.0, 52.0, 60.0, 47.0, 52.0, 50.0, 33.0, 24.0, 39.0, 24.0, 65.0, 30.0, 31.0, 104.0, 25.0, 32.0, 36.0, 112.0, 40.0, 34.0, 26.0, 22.0, 32.0, 43.0, 48.0, 15.0, 16.83594512939453, 12.194217681884766, 6.625455379486084, 5.70025634765625, 5.696728706359863, 5.634971618652344, 22.504053115844727, 4.772068977355957, 4.772095203399658, 4.771322727203369, 4.77051305770874, 4.740195274353027, 11.5643310546875, 7.422728538513184, 6.538356304168701, 5.640292167663574, 6.148487091064453, 5.470198154449463, 4.771489143371582, 4.772717475891113, 5.452890396118164, 13.51500415802002, 17.521595001220703, 4.632098197937012, 4.622532367706299, 6.571821212768555, 3.838425874710083, 3.8239989280700684, 3.809880018234253, 7.556346416473389, 68.98835754394531, 70.7883071899414, 23.939800262451172, 31.77738380432129, 18.694467544555664, 8.897513389587402, 16.360740661621094, 14.445429801940918, 14.425765037536621, 33.25614547729492, 15.223104476928711, 37.77842330932617, 14.464573860168457, 14.219731330871582, 23.75072479248047, 13.060245513916016, 10.879342079162598, 10.821148872375488, 11.910662651062012, 12.231732368469238, 9.893101692199707, 8.5858793258667, 8.37086296081543, 12.37939453125, 22.545738220214844, 5.790253639221191, 19.680143356323242, 4.835569858551025, 10.407548904418945, 12.66606616973877, 5.48933744430542, 11.881900787353516, 11.104008674621582, 23.417253494262695, 13.003540992736816, 5.779510974884033, 4.842804908752441, 4.849279403686523, 4.123393535614014, 24.009510040283203, 20.698734283447266, 19.696022033691406, 9.492877006530762, 7.567512035369873, 4.848769187927246, 4.205681324005127, 4.747683525085449, 4.633547782897949, 6.326077461242676, 10.928182601928711, 6.267618656158447, 3.9062483310699463, 3.9067111015319824, 8.333016395568848, 17.81303596496582, 10.100658416748047, 28.507644653320312, 12.57104778289795, 10.906347274780273, 21.25095558166504, 14.67903995513916, 20.15253257751465, 17.01692771911621, 13.235624313354492, 32.87854766845703, 19.353900909423828, 13.37989330291748, 8.613237380981445, 11.15648365020752, 9.14556884765625, 16.201078414916992, 11.377260208129883, 14.853713989257812, 15.898929595947266, 8.463664054870605, 8.460168838500977, 5.686251640319824, 4.7616496086120605, 4.760201454162598, 14.005541801452637, 8.44564151763916, 8.439640998840332, 6.125067710876465, 13.3593111038208, 18.225109100341797, 6.562764644622803, 39.434757232666016, 4.760012149810791, 4.587820529937744, 8.345796585083008, 3.8353769779205322, 3.834113121032715, 17.260671615600586, 5.682569980621338, 3.7605478763580322, 13.094629287719727, 5.584925651550293, 10.361251831054688, 9.038947105407715, 5.877845764160156, 3.4822704792022705, 4.623916149139404, 3.9981675148010254, 5.6855268478393555, 35.45482635498047, 5.688852787017822, 13.489211082458496, 5.635417461395264, 6.532649040222168, 10.19505786895752, 14.23550033569336, 32.00373077392578, 13.63615894317627, 7.511135101318359, 10.610299110412598, 13.228747367858887, 33.799983978271484, 10.52513599395752, 23.97760772705078, 17.336368560791016, 25.604434967041016, 12.669463157653809, 7.119228839874268, 7.779665946960449, 8.133424758911133, 8.427138328552246, 7.989986419677734, 9.495584487915039, 7.622260093688965, 7.621992588043213, 6.686999797821045, 5.750519275665283, 5.750086307525635, 5.749936103820801, 5.7490739822387695, 4.799644470214844, 11.127202987670898, 4.586911678314209, 27.363018035888672, 6.639644145965576, 16.601438522338867, 5.750274658203125, 5.750922203063965, 44.73676681518555, 6.177804946899414, 3.8779237270355225, 3.8018264770507812, 5.68723201751709, 3.4688527584075928, 7.946066379547119, 25.105806350708008, 3.876847267150879, 3.8769772052764893, 4.923694133758545, 11.784595489501953, 6.417631149291992, 11.703088760375977, 23.31631088256836, 11.384699821472168, 11.638758659362793, 17.29086685180664, 19.36602783203125, 33.28431701660156, 12.095673561096191, 13.10057258605957, 25.563413619995117, 24.95953369140625, 13.371612548828125, 25.61141014099121, 12.79589557647705, 8.694097518920898, 9.52462100982666, 7.120027542114258, 7.584224700927734, 11.95603084564209, 7.975005626678467, 8.292529106140137, 7.718344211578369, 23.683242797851562, 12.805704116821289, 5.787466526031494, 4.84419059753418, 4.7152934074401855, 6.729692459106445, 24.535398483276367, 9.506467819213867, 4.845656394958496, 7.607898235321045, 4.846728324890137, 5.402431964874268, 4.722179412841797, 6.598911762237549, 14.933059692382812, 3.901656150817871, 5.788326263427734, 5.74058198928833, 10.534414291381836, 14.523219108581543, 4.8466925621032715, 4.844455242156982, 13.636439323425293, 22.60597038269043, 24.338359832763672, 9.062427520751953, 6.202212333679199, 5.523035526275635, 3.9029407501220703, 3.8324079513549805, 21.494781494140625, 15.708250999450684, 36.86800003051758, 46.541507720947266, 8.912802696228027, 15.698068618774414, 9.974658012390137, 9.286612510681152, 11.353412628173828, 11.344120025634766, 12.429481506347656, 7.017974853515625, 8.182819366455078, 7.98750114440918, 8.925755500793457, 11.563304901123047, 11.393796920776367, 11.099543571472168, 8.185050010681152, 8.653695106506348, 15.050484657287598, 7.591861724853516, 5.727384090423584, 5.727144241333008, 5.72499418258667, 4.794824123382568, 20.383621215820312, 4.5674285888671875, 5.72702169418335, 7.105612754821777, 8.346522331237793, 4.727757930755615, 10.092206001281738, 12.094688415527344, 10.459052085876465, 3.777470350265503, 40.26176071166992, 4.7954020500183105, 7.531785011291504, 30.840782165527344, 29.66173553466797, 4.79513692855835, 3.6453754901885986, 6.6598286628723145, 5.93349027633667, 4.406284332275391, 2.9296071529388428, 3.8620846271514893, 3.862819194793701, 2.8416717052459717, 4.645921230316162, 15.445064544677734, 7.148526191711426, 12.40844440460205, 22.25643539428711, 29.057580947875977, 8.051671028137207, 8.77205753326416, 7.650702476501465, 23.357593536376953, 8.184679985046387, 7.721404552459717, 6.963459014892578, 13.481512069702148, 7.85391902923584, 7.526244163513184, 6.861303329467773, 6.837657928466797, 47.453269958496094, 6.887031555175781, 5.922341346740723, 5.886528968811035, 4.955224990844727, 6.886260032653809, 4.9584126472473145, 7.610264778137207, 3.9942798614501953, 3.9945476055145264, 10.64261531829834, 3.9638171195983887, 5.209317207336426, 5.847955703735352, 9.6756591796875, 4.027812480926514, 5.631881237030029, 4.565815448760986, 3.0318987369537354, 12.148151397705078, 3.9430055618286133, 3.932891845703125, 2.758746862411499, 7.346362113952637, 2.7430217266082764, 5.033685684204102, 4.042937278747559, 4.4832258224487305, 6.12526798248291, 3.0285093784332275, 11.206658363342285, 20.389392852783203, 8.141444206237793, 6.813460826873779, 7.822685241699219, 11.287910461425781, 9.829541206359863, 10.059846878051758, 11.427454948425293, 5.438753128051758, 8.977564811706543, 8.496896743774414, 6.712723731994629, 10.043155670166016, 6.304275989532471, 6.74325704574585, 5.783795356750488, 6.182071685791016, 5.669913291931152], \"Term\": [\"d\\u00eda\", \"juego\", \"calidad\", \"regalo\", \"perfecto\", \"foto\", \"buen\", \"caja\", \"mando\", \"llegado\", \"llego\", \"grandes\", \"bonitos\", \"pedido\", \"buena\", \"tal\", \"parte\", \"producto\", \"colgante\", \"cadena\", \"mal\", \"si\", \"as\\u00ed\", \"plata\", \"bonita\", \"ve\", \"gustado\", \"lleg\\u00f3\", \"parece\", \"q\", \"espa\\u00f1ol\", \"excelente\", \"precioso\", \"enga\\u00f1o\", \"mayor\", \"perdi\\u00f3\", \"bonita\", \"ni\\u00f1os\", \"ingles\", \"quiz\\u00e1\", \"perfecta\", \"jugabilidad\", \"versi\\u00f3n\", \"encantada\", \"italiano\", \"entretenido\", \"relaci\\u00f3n\", \"gr\\u00e1ficos\", \"entiendo\", \"divertido\", \"pesan\", \"gran\", \"mala\", \"m\\u00f3viles\", \"cd\", \"alguna\", \"espa\\u00f1ola\", \"familia\", \"largo\", \"barato\", \"juego\", \"calidad\", \"aunque\", \"buena\", \"queda\", \"mandos\", \"jugar\", \"ps\", \"demasiado\", \"precio\", \"ser\", \"bien\", \"pulsera\", \"perfectamente\", \"si\", \"viene\", \"compra\", \"funciona\", \"parece\", \"mas\", \"bastante\", \"dos\", \"foto\", \"aspecto\", \"colgante\", \"seg\\u00fan\", \"ve\", \"cuello\", \"contenta\", \"fina\", \"merece\", \"regalar\", \"ped\\u00ed\", \"tal\", \"peque\\u00f1a\", \"falta\", \"peque\\u00f1as\", \"much\\u00edsimo\", \"fea\", \"plata\", \"peque\\u00f1o\", \"pendientes\", \"paquete\", \"cuanto\", \"cierra\", \"plazo\", \"alta\", \"hacen\", \"ni\\u00f1as\", \"fotos\", \"gustan\", \"ponen\", \"detalle\", \"nota\", \"cadena\", \"pl\\u00e1stico\", \"bonito\", \"cierre\", \"material\", \"parece\", \"compra\", \"bastante\", \"lleg\\u00f3\", \"grande\", \"calidad\", \"buen\", \"tama\\u00f1o\", \"collar\", \"pena\", \"recomendable\", \"precio\", \"bonitos\", \"producto\", \"bien\", \"tacto\", \"preciosa\", \"imposible\", \"mu\\u00f1eca\", \"rato\", \"nintendo\", \"f\\u00e1cilmente\", \"pc\", \"bot\\u00f3n\", \"botones\", \"entrega\", \"pro\", \"mando\", \"encima\", \"dura\", \"expectativas\", \"opinar\", \"llevas\", \"comprar\", \"materiales\", \"juegazo\", \"roto\", \"modo\", \"hijo\", \"sonido\", \"f\\u00e1cil\", \"ah\\u00ed\", \"acabados\", \"funci\\u00f3n\", \"normal\", \"buen\", \"contento\", \"problema\", \"buenos\", \"sale\", \"consola\", \"cadena\", \"producto\", \"original\", \"puedes\", \"cumple\", \"funciona\", \"bien\", \"bueno\", \"precio\", \"buena\", \"calidad\", \"viene\", \"imagen\", \"puedo\", \"recomiendo\", \"perfecto\", \"bonito\", \"disco\", \"bonitas\", \"c\\u00f3mo\", \"funcionar\", \"fan\", \"doy\", \"pens\\u00e9\", \"ven\", \"junto\", \"estrellas\", \"c\\u00f3digo\", \"llego\", \"auriculares\", \"env\\u00edo\", \"usb\", \"condiciones\", \"perfecto\", \"castellano\", \"enviaron\", \"\\u00fanica\", \"realmente\", \"puesta\", \"dinero\", \"tiempo\", \"segundo\", \"ruido\", \"lado\", \"r\\u00e1pido\", \"saga\", \"pedir\", \"caja\", \"gracias\", \"va\", \"lleg\\u00f3\", \"puede\", \"juego\", \"recomiendo\", \"amazon\", \"precio\", \"si\", \"perfectamente\", \"bien\", \"solo\", \"despu\\u00e9s\", \"as\\u00ed\", \"mano\", \"art\\u00edculo\", \"producto\", \"verdad\", \"dos\", \"compr\\u00e9\", \"grandes\", \"funda\", \"rosa\", \"rompio\", \"entender\", \"cabe\", \"parte\", \"mujer\", \"cerrar\", \"sitio\", \"dorado\", \"cuenta\", \"perdido\", \"sirve\", \"peque\\u00f1os\", \"entra\", \"genial\", \"veo\", \"caso\", \"quedan\", \"c\\u00f3modos\", \"negro\", \"color\", \"mal\", \"bonitos\", \"pueden\", \"enseguida\", \"sigue\", \"adecuado\", \"perlas\", \"as\\u00ed\", \"tama\\u00f1o\", \"si\", \"bien\", \"adem\\u00e1s\", \"solo\", \"juegos\", \"d\\u00edas\", \"mejor\", \"dos\", \"foto\", \"casi\", \"hace\", \"dise\\u00f1o\", \"vez\", \"bonito\", \"mas\", \"precio\", \"demasiado\", \"calidad\", \"q\", \"hija\", \"peor\", \"piedras\", \"compras\", \"exactamente\", \"pedido\", \"lamentable\", \"dicen\", \"ideal\", \"encant\\u00f3\", \"p\\u00e9simo\", \"mes\", \"llega\", \"envio\", \"empresa\", \"regalo\", \"encajan\", \"todav\\u00eda\", \"foto\", \"llegado\", \"esperado\", \"usar\", \"aun\", \"rapido\", \"ninguna\", \"baratos\", \"realidad\", \"gust\\u00f3\", \"nadie\", \"esperar\", \"gustado\", \"recibido\", \"ps\", \"mas\", \"producto\", \"vendedor\", \"uso\", \"poner\", \"bien\", \"verdad\", \"puedo\", \"trae\", \"si\", \"menos\", \"mejor\", \"sido\", \"parece\", \"d\\u00eda\", \"venia\", \"sorpresa\", \"primera\", \"compro\", \"correctamente\", \"apenas\", \"hoy\", \"ir\", \"venga\", \"entregado\", \"certificado\", \"transporte\", \"fino\", \"servicio\", \"decepcionado\", \"esperando\", \"lleva\", \"media\", \"gusta\", \"asi\", \"hora\", \"repartidor\", \"recibido\", \"pocas\", \"c\\u00f3modo\", \"haber\", \"mucha\", \"tampoco\", \"aceptable\", \"bueno\", \"caja\", \"dentro\", \"cosa\", \"nunca\", \"esperaba\", \"original\", \"amazon\", \"regalo\", \"luego\", \"llegado\", \"parece\", \"sido\", \"producto\", \"vez\", \"puede\", \"hacer\", \"lleg\\u00f3\", \"bonito\"], \"Total\": [50.0, 116.0, 143.0, 62.0, 58.0, 52.0, 60.0, 47.0, 52.0, 50.0, 33.0, 24.0, 39.0, 24.0, 65.0, 30.0, 31.0, 104.0, 25.0, 32.0, 36.0, 112.0, 40.0, 34.0, 26.0, 22.0, 32.0, 43.0, 48.0, 15.0, 17.642864227294922, 13.002614974975586, 7.43436861038208, 6.506742477416992, 6.506418704986572, 6.507171154022217, 26.0220947265625, 5.578686237335205, 5.578732013702393, 5.578641891479492, 5.578542709350586, 5.578490734100342, 13.951239585876465, 9.288093566894531, 8.402320861816406, 7.439191818237305, 8.361603736877441, 7.447912216186523, 6.504173755645752, 6.514649868011475, 7.453227996826172, 18.60456657409668, 24.14068603515625, 6.515948295593262, 6.503922939300537, 9.336267471313477, 5.59353494644165, 5.57622766494751, 5.593903541564941, 11.171192169189453, 116.36740112304688, 143.5417022705078, 43.02761459350586, 65.13945770263672, 35.398799896240234, 14.900007247924805, 33.60111999511719, 28.856584548950195, 28.99083137512207, 115.78587341308594, 36.52178955078125, 185.03546142578125, 37.509159088134766, 37.30921173095703, 112.4946517944336, 38.16255569458008, 33.69804382324219, 34.42084503173828, 48.94892120361328, 64.50818634033203, 53.39345169067383, 39.27250289916992, 52.30896759033203, 13.19748592376709, 25.41860008239746, 6.596470832824707, 22.675931930541992, 5.653968811035156, 12.246879577636719, 15.05440616607666, 6.603235244750977, 15.051677703857422, 14.138652801513672, 30.166250228881836, 16.948535919189453, 7.538663864135742, 6.595358371734619, 6.617780685424805, 5.6402459144592285, 34.87746810913086, 30.224040985107422, 29.216339111328125, 14.102166175842285, 11.31018352508545, 7.537883281707764, 6.585142612457275, 7.520524978637695, 7.501218318939209, 10.345317840576172, 17.873624801635742, 10.365754127502441, 6.566544055938721, 6.582947254180908, 14.064896583557129, 32.740726470947266, 18.757177352905273, 63.95853042602539, 24.47169303894043, 20.77503204345703, 48.94892120361328, 33.69804382324219, 53.39345169067383, 43.33995056152344, 29.989925384521484, 143.5417022705078, 60.58064651489258, 34.78085708618164, 16.07711410522461, 31.006084442138672, 18.734573364257812, 115.78587341308594, 39.544490814208984, 104.82209777832031, 185.03546142578125, 9.271732330322266, 9.271730422973633, 6.494109630584717, 5.568256378173828, 5.568089485168457, 16.683128356933594, 10.207971572875977, 10.214943885803223, 7.428426742553711, 16.723548889160156, 23.236324310302734, 8.385955810546875, 52.12726593017578, 6.532289505004883, 6.513211727142334, 12.076204299926758, 5.574449062347412, 5.574244976043701, 25.09723472595215, 8.394286155700684, 5.586332321166992, 19.55916976928711, 8.380289077758789, 15.868857383728027, 13.956302642822266, 9.277473449707031, 5.57072114944458, 7.441710472106934, 6.497751712799072, 9.300561904907227, 60.58064651489258, 9.315756797790527, 24.265422821044922, 9.31078815460205, 11.238009452819824, 20.540496826171875, 32.740726470947266, 104.82209777832031, 31.960559844970703, 13.999519348144531, 24.163803100585938, 34.42084503173828, 185.03546142578125, 25.485883712768555, 115.78587341308594, 65.13945770263672, 143.5417022705078, 38.16255569458008, 13.056427955627441, 21.518081665039062, 27.9573974609375, 58.9238395690918, 63.95853042602539, 10.300880432128906, 8.428201675415039, 8.428218841552734, 7.492221832275391, 6.555984973907471, 6.555871486663818, 6.5558929443359375, 6.555617332458496, 5.61959981918335, 13.095987319946289, 5.617434978485107, 33.74562072753906, 8.424186706542969, 21.489601135253906, 7.483694553375244, 7.520116806030273, 58.9238395690918, 8.438522338867188, 5.611173629760742, 5.608279228210449, 8.413398742675781, 5.607463836669922, 13.110983848571777, 42.13896560668945, 6.539092063903809, 6.569040775299072, 8.445402145385742, 20.59133529663086, 11.218727111816406, 20.642093658447266, 47.42243957519531, 21.496379852294922, 22.642772674560547, 43.33995056152344, 50.77495193481445, 116.36740112304688, 27.9573974609375, 34.874061584472656, 115.78587341308594, 112.4946517944336, 37.30921173095703, 185.03546142578125, 46.00506591796875, 27.243013381958008, 40.438236236572266, 14.066919326782227, 17.919757843017578, 104.82209777832031, 23.4184513092041, 39.27250289916992, 27.261838912963867, 24.49410057067871, 14.138815879821777, 6.591946601867676, 5.649507999420166, 5.647422790527344, 8.470096588134766, 31.061969757080078, 12.22500228881836, 6.5754594802856445, 10.347555160522461, 6.592575550079346, 7.526123523712158, 6.616731643676758, 9.383573532104492, 21.624980926513672, 5.6716461181640625, 8.456449508666992, 8.487558364868164, 15.939434051513672, 22.504802703857422, 7.511419296264648, 7.578134536743164, 21.565919876098633, 36.671173095703125, 39.544490814208984, 15.028645515441895, 10.30249309539795, 9.36478042602539, 6.633913040161133, 6.593348503112793, 40.438236236572266, 34.78085708618164, 112.4946517944336, 185.03546142578125, 18.81911277770996, 46.00506591796875, 23.367984771728516, 21.52280616760254, 35.64497756958008, 39.27250289916992, 52.30896759033203, 14.115482330322266, 20.73204803466797, 19.68505096435547, 26.449378967285156, 63.95853042602539, 64.50818634033203, 115.78587341308594, 28.99083137512207, 143.5417022705078, 15.857165336608887, 8.397932052612305, 6.533144474029541, 6.5331196784973145, 6.532818794250488, 5.600728988647461, 24.35344886779785, 5.599149227142334, 7.460853576660156, 9.320496559143066, 11.185160636901855, 6.527807712554932, 14.001776695251465, 16.78188705444336, 14.906481742858887, 5.595722198486328, 62.00406265258789, 7.507615566253662, 12.257156372070312, 52.30896759033203, 50.68706130981445, 8.429566383361816, 6.537797927856445, 12.247905731201172, 11.203113555908203, 8.418198585510254, 5.621747016906738, 7.468743801116943, 7.538519859313965, 5.608434677124023, 9.318876266479492, 32.81988525390625, 15.163189888000488, 28.856584548950195, 64.50818634033203, 104.82209777832031, 19.670719146728516, 23.360315322875977, 19.560565948486328, 185.03546142578125, 23.4184513092041, 21.518081665039062, 16.98674201965332, 112.4946517944336, 24.417341232299805, 35.64497756958008, 27.234230041503906, 48.94892120361328, 50.0496826171875, 7.688785552978516, 6.72445821762085, 6.723354816436768, 5.760055065155029, 8.620752334594727, 6.692392826080322, 10.498430252075195, 5.721593379974365, 5.728102684020996, 15.272207260131836, 5.738087177276611, 7.625449180603027, 8.575150489807129, 15.207786560058594, 6.661717891693115, 9.512062072753906, 8.580351829528809, 5.702273368835449, 22.855937957763672, 7.605275630950928, 7.602546691894531, 5.691995620727539, 15.163189888000488, 5.676609992980957, 10.448945045471191, 8.525748252868652, 9.517990112304688, 13.275461196899414, 6.639620780944824, 25.485883712768555, 47.42243957519531, 18.967884063720703, 17.048383712768555, 20.816442489624023, 34.98103332519531, 31.960559844970703, 34.874061584472656, 62.00406265258789, 13.23495101928711, 50.68706130981445, 48.94892120361328, 27.234230041503906, 104.82209777832031, 26.449378967285156, 50.77495193481445, 19.797042846679688, 43.33995056152344, 63.95853042602539], \"loglift\": [30.0, 29.0, 28.0, 27.0, 26.0, 25.0, 24.0, 23.0, 22.0, 21.0, 20.0, 19.0, 18.0, 17.0, 16.0, 15.0, 14.0, 13.0, 12.0, 11.0, 10.0, 9.0, 8.0, 7.0, 6.0, 5.0, 4.0, 3.0, 2.0, 1.0, 1.733299970626831, 1.715999960899353, 1.6649999618530273, 1.6477999687194824, 1.6473000049591064, 1.636199951171875, 1.6348999738693237, 1.6239999532699585, 1.6239999532699585, 1.6238000392913818, 1.6237000226974487, 1.617300033569336, 1.5924999713897705, 1.555999994277954, 1.5292999744415283, 1.5032999515533447, 1.4726999998092651, 1.471500039100647, 1.4703999757766724, 1.468999981880188, 1.4677000045776367, 1.4605000019073486, 1.4596999883651733, 1.4388999938964844, 1.4386999607086182, 1.4290000200271606, 1.4035999774932861, 1.402899980545044, 1.3961000442504883, 1.38919997215271, 1.2573000192642212, 1.073199987411499, 1.1938999891281128, 1.062399983406067, 1.141700029373169, 1.2646000385284424, 1.0605000257492065, 1.0881999731063843, 1.082200050354004, 0.5327000021934509, 0.9050999879837036, 0.19130000472068787, 0.8273000121116638, 0.815500020980835, 0.2249000072479248, 0.7078999876976013, 0.6496000289916992, 0.6230000257492065, 0.3668000102043152, 0.11739999800920486, 0.09430000185966492, 0.2597000002861023, -0.052299998700618744, 1.7825000286102295, 1.7265000343322754, 1.7160999774932861, 1.704800009727478, 1.6900999546051025, 1.6836999654769897, 1.673699975013733, 1.6617000102996826, 1.6100000143051147, 1.6049000024795532, 1.5931999683380127, 1.5815000534057617, 1.5807000398635864, 1.537600040435791, 1.5355000495910645, 1.5332000255584717, 1.473099946975708, 1.467900037765503, 1.4522000551223755, 1.450700044631958, 1.444599986076355, 1.4052000045776367, 1.3981000185012817, 1.3865000009536743, 1.3646999597549438, 1.354599952697754, 1.3545000553131104, 1.343400001525879, 1.3271000385284424, 1.3246999979019165, 1.3229999542236328, 1.2378000020980835, 1.2274999618530273, 1.0384000539779663, 1.180299997329712, 1.2021000385284424, 1.0120999813079834, 1.0154000520706177, 0.8720999956130981, 0.9115999937057495, 1.028499960899353, 0.3727000057697296, 0.7053999900817871, 0.8910999894142151, 1.2223999500274658, 0.8242999911308289, 1.1294000148773193, -0.12020000070333481, 0.6007000207901001, -0.10760000348091125, -0.6078000068664551, 1.7842999696731567, 1.7839000225067139, 1.7426999807357788, 1.718999981880188, 1.7187999486923218, 1.700600028038025, 1.6859999895095825, 1.6845999956130981, 1.6826000213623047, 1.6509000062942505, 1.632599949836731, 1.6303999423980713, 1.596500039100647, 1.559000015258789, 1.5250999927520752, 1.50600004196167, 1.5016000270843506, 1.5012999773025513, 1.5011999607086182, 1.4853999614715576, 1.4797999858856201, 1.4743000268936157, 1.4696999788284302, 1.4492000341415405, 1.441100001335144, 1.419100046157837, 1.4056999683380127, 1.3997000455856323, 1.3898999691009521, 1.3833999633789062, 1.3398000001907349, 1.3823000192642212, 1.2884000539779663, 1.3733999729156494, 1.3329999446868896, 1.1749999523162842, 1.0426000356674194, 0.6891000270843506, 1.0236999988555908, 1.2529000043869019, 1.0525000095367432, 0.9193000197410583, 0.1754000037908554, 0.9911999702453613, 0.30090001225471497, 0.551800012588501, 0.1517000049352646, 0.7728999853134155, 1.2690000534057617, 0.8580999970436096, 0.6407999992370605, -0.06930000334978104, -0.2045000046491623, 1.7970999479293823, 1.777999997138977, 1.777899980545044, 1.764799952507019, 1.7474000453948975, 1.7473000288009644, 1.7473000288009644, 1.7472000122070312, 1.7208000421524048, 1.7156000137329102, 1.6757999658584595, 1.6687999963760376, 1.6404000520706177, 1.6203999519348145, 1.6150000095367432, 1.6102999448776245, 1.6030000448226929, 1.56659996509552, 1.5089999437332153, 1.4896999597549438, 1.486899971961975, 1.3982000350952148, 1.3776999711990356, 1.3605999946594238, 1.3557000160217285, 1.351199984550476, 1.3388999700546265, 1.3203999996185303, 1.3200000524520874, 1.3109999895095825, 1.1684999465942383, 1.242900013923645, 1.2130000591278076, 0.9595999717712402, 0.9146000146865845, 0.626800000667572, 1.0406999588012695, 0.899399995803833, 0.367900013923645, 0.37279999256134033, 0.852400004863739, -0.0989999994635582, 0.5989000201225281, 0.736299991607666, 0.4325999915599823, 1.19760000705719, 1.0187000036239624, -0.29249998927116394, 0.8012999892234802, 0.32330000400543213, 0.616599977016449, 1.9294999837875366, 1.8640999794006348, 1.8329999446868896, 1.809399962425232, 1.7827999591827393, 1.7331000566482544, 1.7273000478744507, 1.7115999460220337, 1.6578999757766724, 1.6555999517440796, 1.655500054359436, 1.631600022315979, 1.6258000135421753, 1.6110999584197998, 1.592900037765503, 1.5891000032424927, 1.5841000080108643, 1.572100043296814, 1.5490000247955322, 1.5252000093460083, 1.524999976158142, 1.5156999826431274, 1.5047999620437622, 1.4794000387191772, 1.4778000116348267, 1.4572999477386475, 1.4557000398635864, 1.4350999593734741, 1.4327000379562378, 1.4206000566482544, 1.3312000036239624, 1.1683000326156616, 0.847599983215332, 0.5830000042915344, 1.2158000469207764, 0.8878999948501587, 1.111799955368042, 1.1225999593734741, 0.819100022315979, 0.7213000059127808, 0.5260999798774719, 1.2644000053405762, 1.0334999561309814, 1.0612000226974487, 0.8769000172615051, 0.25279998779296875, 0.22939999401569366, -0.3817000091075897, 0.6984999775886536, -0.8454999923706055, 2.0429000854492188, 1.9941999912261963, 1.9634000062942505, 1.9634000062942505, 1.9630999565124512, 1.9397000074386597, 1.917099952697754, 1.8913999795913696, 1.8306000232696533, 1.823699951171875, 1.802299976348877, 1.7724000215530396, 1.7676000595092773, 1.7675000429153442, 1.7407000064849854, 1.7021000385284424, 1.6633000373840332, 1.6468000411987305, 1.6081000566482544, 1.5666999816894531, 1.5592999458312988, 1.530900001525879, 1.5109000205993652, 1.48580002784729, 1.4594999551773071, 1.447700023651123, 1.4433000087738037, 1.4355000257492065, 1.4263999462127686, 1.4151999950408936, 1.3990000486373901, 1.3413000106811523, 1.3430999517440796, 1.251099944114685, 1.030900001525879, 0.8120999932289124, 1.201799988746643, 1.1155999898910522, 1.1562999486923218, 0.02539999969303608, 1.0437999963760376, 1.070199966430664, 1.2032999992370605, -0.026499999687075615, 0.9607999920845032, 0.539900004863739, 0.7164999842643738, 0.1266999989748001, 2.20989990234375, 2.1530001163482666, 2.1361000537872314, 2.130199909210205, 2.1126999855041504, 2.0385000705718994, 1.9632999897003174, 1.9414000511169434, 1.9038000106811523, 1.9026999473571777, 1.9019999504089355, 1.8932000398635864, 1.882099986076355, 1.8803999423980713, 1.8109999895095825, 1.7599999904632568, 1.7389999628067017, 1.6323000192642212, 1.631500005722046, 1.631100058555603, 1.6062999963760376, 1.6039999723434448, 1.5389000177383423, 1.5384999513626099, 1.5358999967575073, 1.5327999591827393, 1.5169999599456787, 1.5103000402450562, 1.4896999597549438, 1.4781999588012695, 1.441499948501587, 1.419100046157837, 1.4174000024795532, 1.3459999561309814, 1.2843999862670898, 1.132099986076355, 1.0839999914169312, 1.0199999809265137, 0.5720000267028809, 1.3738000392913818, 0.5321999788284302, 0.5120999813079834, 0.8626999855041504, -0.08219999819993973, 0.829200029373169, 0.2442999929189682, 1.0326999425888062, 0.3156999945640564, -0.1598999947309494], \"logprob\": [30.0, 29.0, 28.0, 27.0, 26.0, 25.0, 24.0, 23.0, 22.0, 21.0, 20.0, 19.0, 18.0, 17.0, 16.0, 15.0, 14.0, 13.0, 12.0, 11.0, 10.0, 9.0, 8.0, 7.0, 6.0, 5.0, 4.0, 3.0, 2.0, 1.0, -4.328100204467773, -4.650700092315674, -5.260700225830078, -5.411200046539307, -5.411799907684326, -5.422699928283691, -4.038000106811523, -5.588900089263916, -5.588900089263916, -5.589000225067139, -5.589200019836426, -5.595600128173828, -4.703700065612793, -5.14709997177124, -5.27400016784668, -5.4217000007629395, -5.3354997634887695, -5.452300071716309, -5.589000225067139, -5.588699817657471, -5.45550012588501, -4.547900199890137, -4.2881999015808105, -5.61870002746582, -5.620699882507324, -5.268899917602539, -5.806600093841553, -5.810400009155273, -5.8140997886657715, -5.129300117492676, -2.9177000522613525, -2.8919999599456787, -3.976099967956543, -3.6928999423980713, -4.223400115966797, -4.96589994430542, -4.356800079345703, -4.481299877166748, -4.482600212097168, -3.64739990234375, -4.428800106048584, -3.51990008354187, -4.480000019073486, -4.497000217437744, -3.9839999675750732, -4.582099914550781, -4.764800071716309, -4.770199775695801, -4.674200057983398, -4.647600173950195, -4.859799861907959, -5.001500129699707, -5.026899814605713, -4.569300174713135, -3.9697999954223633, -5.32919979095459, -4.1057000160217285, -5.509399890899658, -4.742800235748291, -4.54640007019043, -5.382500171661377, -4.610300064086914, -4.677999973297119, -3.9319000244140625, -4.520100116729736, -5.330999851226807, -5.507900238037109, -5.506499767303467, -5.668700218200684, -3.906899929046631, -4.055300235748291, -4.104899883270264, -4.834799766540527, -5.061500072479248, -5.5065999031066895, -5.648900032043457, -5.527699947357178, -5.552000045776367, -5.240699768066406, -4.693999767303467, -5.25, -5.722799777984619, -5.722700119018555, -4.965099811553955, -4.205399990081787, -4.772799968719482, -3.7351999282836914, -4.553999900817871, -4.696000099182129, -4.0289998054504395, -4.398900032043457, -4.081999778747559, -4.251100063323975, -4.502399921417236, -3.5924999713897705, -4.122499942779541, -4.491600036621094, -4.93209981918335, -4.673299789428711, -4.872099876403809, -4.300300121307373, -4.65369987487793, -4.3871002197265625, -4.3190999031066895, -4.920499801635742, -4.920899868011475, -5.31820011138916, -5.495699882507324, -5.495999813079834, -4.416800022125244, -4.922599792480469, -4.923399925231934, -5.243899822235107, -4.464099884033203, -4.153500080108643, -5.174900054931641, -3.3815999031066895, -5.495999813079834, -5.532899856567383, -4.934500217437744, -5.711999893188477, -5.712399959564209, -4.207900047302246, -5.318900108337402, -5.7316999435424805, -4.484099864959717, -5.33620023727417, -4.718200206756592, -4.854700088500977, -5.285099983215332, -5.808599948883057, -5.525000095367432, -5.670499801635742, -5.318399906158447, -3.48799991607666, -5.317800045013428, -4.454400062561035, -5.327199935913086, -5.179500102996826, -4.734399795532227, -4.400599956512451, -3.590399980545044, -4.443600177764893, -5.039899826049805, -4.694499969482422, -4.473899841308594, -3.535799980163574, -4.702499866485596, -3.879199981689453, -4.203499794006348, -3.813499927520752, -4.517099857330322, -5.093500137329102, -5.004799842834473, -4.960299968719482, -4.924799919128418, -4.978099822998047, -4.802499771118164, -5.022299766540527, -5.022299766540527, -5.153200149536133, -5.303999900817871, -5.304100036621094, -5.304100036621094, -5.304299831390381, -5.484799861907959, -4.643899917602539, -5.530099868774414, -3.7441000938415527, -5.160299777984619, -4.243800163269043, -5.304100036621094, -5.303999900817871, -3.252500057220459, -5.232399940490723, -5.697999954223633, -5.717800140380859, -5.315100193023682, -5.809500217437744, -4.980599880218506, -3.830199956893921, -5.698299884796143, -5.698299884796143, -5.4593000411987305, -4.58650016784668, -5.194300174713135, -4.593500137329102, -3.9042000770568848, -4.621099948883057, -4.598999977111816, -4.203100204467773, -4.089799880981445, -3.5481998920440674, -4.560500144958496, -4.4807000160217285, -3.8122000694274902, -3.8361001014709473, -4.46019983291626, -3.81030011177063, -4.504199981689453, -4.890699863433838, -4.7993998527526855, -5.090400218963623, -5.027299880981445, -4.5721001625061035, -4.9770002365112305, -4.938000202178955, -5.009699821472168, -3.8039000034332275, -4.418799877166748, -5.2129998207092285, -5.390900135040283, -5.417799949645996, -5.062099933624268, -3.7685000896453857, -4.716700077056885, -5.390600204467773, -4.939499855041504, -5.390399932861328, -5.281799793243408, -5.416399955749512, -5.0817999839782715, -4.265100002288818, -5.6072998046875, -5.212800025939941, -5.221099853515625, -4.613999843597412, -4.292900085449219, -5.390399932861328, -5.3907999992370605, -4.355899810791016, -3.850399971008301, -3.776599884033203, -4.764500141143799, -5.143799781799316, -5.259699821472168, -5.606900215148926, -5.625199794769287, -3.9007999897003174, -4.2144999504089355, -3.361299991607666, -3.1282999515533447, -4.781199932098389, -4.215099811553955, -4.668600082397461, -4.740099906921387, -4.539100170135498, -4.539999961853027, -4.448599815368652, -5.020199775695801, -4.866600036621094, -4.8907999992370605, -4.779699802398682, -4.5208001136779785, -4.535600185394287, -4.561800003051758, -4.866300106048584, -4.810699939727783, -4.12529993057251, -4.809700012207031, -5.0914998054504395, -5.0914998054504395, -5.091899871826172, -5.269199848175049, -3.822000026702881, -5.317800045013428, -5.091599941253662, -4.875899791717529, -4.714900016784668, -5.283299922943115, -4.525000095367432, -4.343999862670898, -4.489299774169922, -5.507699966430664, -3.1412999629974365, -5.269100189208984, -4.817599773406982, -3.407900094985962, -3.446899890899658, -5.269100189208984, -5.543300151824951, -4.940700054168701, -5.056099891662598, -5.353700160980225, -5.761899948120117, -5.485499858856201, -5.485400199890137, -5.792399883270264, -5.30079984664917, -4.0995001792907715, -4.869800090789795, -4.318399906158447, -3.734100103378296, -3.4674999713897705, -4.750899791717529, -4.665200233459473, -4.802000045776367, -3.685800075531006, -4.734499931335449, -4.792799949645996, -4.896100044250488, -4.235400199890137, -4.775700092315674, -4.818399906158447, -4.910900115966797, -4.914299964904785, -2.8089001178741455, -4.738999843597412, -4.889900207519531, -4.895999908447266, -5.06820011138916, -4.739099979400635, -5.067599773406982, -4.639200210571289, -5.28380012512207, -5.283699989318848, -4.303800106048584, -5.291500091552734, -5.018199920654297, -4.902599811553955, -4.39900016784668, -5.275400161743164, -4.940199851989746, -5.150100231170654, -5.559500217437744, -4.171500205993652, -5.2967000007629395, -5.299300193786621, -5.653900146484375, -4.674499988555908, -5.659599781036377, -5.052499771118164, -5.271699905395508, -5.168300151824951, -4.856200218200684, -5.5605998039245605, -4.252200126647949, -3.653599977493286, -4.571700096130371, -4.749800205230713, -4.611599922180176, -4.244900226593018, -4.383299827575684, -4.360099792480469, -4.232600212097168, -4.975100040435791, -4.473899841308594, -4.5289998054504395, -4.764699935913086, -4.361800193786621, -4.827400207519531, -4.7600998878479, -4.913599967956543, -4.8470001220703125, -4.933499813079834]}, \"token.table\": {\"Topic\": [3, 4, 4, 7, 5, 7, 2, 3, 5, 6, 7, 1, 3, 1, 4, 7, 2, 4, 6, 1, 3, 4, 5, 6, 7, 6, 7, 2, 3, 4, 7, 2, 3, 7, 2, 2, 4, 5, 6, 3, 6, 7, 1, 2, 4, 6, 7, 4, 6, 1, 4, 2, 6, 1, 2, 3, 4, 5, 6, 1, 2, 3, 4, 5, 6, 7, 1, 5, 6, 4, 1, 2, 3, 5, 6, 7, 1, 2, 5, 7, 2, 3, 5, 3, 5, 2, 3, 6, 1, 2, 3, 4, 3, 4, 7, 3, 4, 5, 4, 5, 2, 3, 4, 5, 7, 1, 2, 3, 5, 6, 2, 3, 5, 3, 5, 6, 2, 4, 1, 3, 3, 5, 2, 7, 2, 5, 1, 2, 3, 4, 7, 2, 3, 2, 6, 7, 1, 3, 5, 6, 1, 2, 3, 4, 6, 1, 2, 3, 5, 6, 7, 1, 2, 3, 4, 6, 7, 4, 7, 3, 4, 6, 7, 2, 4, 2, 3, 4, 6, 7, 1, 2, 4, 7, 2, 6, 7, 2, 4, 5, 1, 3, 4, 6, 4, 4, 2, 3, 7, 3, 4, 5, 6, 7, 1, 2, 5, 2, 3, 4, 5, 6, 7, 3, 4, 5, 6, 7, 2, 4, 1, 6, 2, 4, 6, 4, 2, 3, 4, 5, 1, 4, 2, 5, 1, 2, 3, 4, 5, 6, 4, 3, 5, 1, 7, 1, 2, 3, 5, 1, 6, 2, 6, 7, 1, 3, 1, 6, 3, 7, 1, 3, 5, 5, 1, 3, 5, 7, 2, 3, 6, 7, 1, 6, 1, 4, 1, 6, 3, 4, 1, 1, 2, 1, 2, 4, 5, 7, 2, 6, 6, 7, 1, 3, 4, 6, 3, 4, 6, 1, 3, 4, 6, 2, 5, 1, 3, 4, 2, 3, 2, 3, 1, 3, 7, 1, 5, 6, 2, 3, 4, 5, 1, 3, 4, 6, 7, 4, 1, 3, 5, 7, 1, 3, 3, 4, 5, 6, 3, 4, 5, 6, 1, 2, 3, 1, 2, 3, 5, 5, 1, 6, 1, 2, 4, 7, 2, 5, 6, 2, 5, 5, 6, 7, 1, 4, 7, 3, 5, 7, 2, 3, 1, 5, 6, 7, 6, 2, 3, 7, 4, 7, 3, 7, 3, 6, 2, 3, 6, 3, 1, 3, 7, 1, 7, 2, 3, 1, 3, 4, 6, 7, 1, 3, 5, 6, 1, 1, 3, 4, 6, 7, 4, 4, 5, 6, 1, 2, 1, 3, 5, 6, 2, 3, 6, 7, 2, 4, 2, 3, 4, 7, 2, 7, 3, 6, 1, 4, 6, 7, 4, 5, 6, 7, 1, 3, 4, 1, 3, 4, 6, 7, 1, 4, 6, 2, 3, 4, 5, 1, 2, 3, 5, 6, 7, 1, 2, 4, 7, 3, 4, 7, 1, 1, 2, 7, 2, 3, 4, 5, 6, 3, 4, 5, 6, 7, 2, 4, 6, 2, 3, 5, 7, 2, 7, 5, 6, 3, 1, 4, 4, 6, 5, 7, 4, 5, 6, 1, 3, 2, 4, 1, 3, 5, 6, 2, 3, 4, 1, 4, 5, 7, 3, 6, 3, 4, 5, 6, 7, 2, 3, 4, 1, 2, 6, 7, 1, 5, 6, 7, 2, 3, 6, 7, 2, 3, 4, 5, 2, 5, 1, 2, 3, 4, 5, 6, 7, 1, 2, 5, 7, 4, 6, 1, 2, 5, 2, 5, 2, 5, 7, 1, 2, 5, 5, 7, 1, 1, 1, 3, 4, 5, 3, 4, 5, 2, 5, 1, 2, 6, 2, 5, 6, 7, 2, 4, 2, 3, 5, 1, 7, 1, 2, 1, 3, 6, 7, 1, 2, 3, 4, 5, 6, 7, 3, 1, 7, 3, 7, 1, 3, 5, 6, 7, 2, 3, 4, 5, 6, 7, 1, 5, 6, 1, 2, 3, 4, 5, 6, 7, 4, 5, 6, 3, 5, 3, 5, 6, 7, 1, 4, 1, 2, 5, 6, 7, 1, 6, 6, 1, 2, 3, 5, 1, 5, 6, 1, 1, 4, 5, 6, 3, 1, 5, 6, 1, 4, 6, 7, 2, 3, 4, 6, 1, 2, 3, 4, 1, 2, 6, 2, 3, 4, 6, 7, 1, 3, 4, 6, 7, 5, 5, 2, 3, 2, 4, 2, 3, 4, 1, 2, 4, 1, 3, 7, 1, 4, 2, 1, 2, 4, 5, 7, 1, 3, 7, 1, 2, 3, 4, 5, 6, 7, 3, 4, 6, 7, 3, 5, 3, 5, 4, 5, 1, 3, 4, 5, 7, 2, 3, 4, 7, 3, 2, 5, 2, 3, 5, 1, 2, 3, 7, 1, 2, 4, 6, 7, 6, 7, 2, 4, 6, 7, 1, 7, 1, 2, 6, 1, 4, 1, 2, 3, 5, 6, 1, 2, 4, 7, 2, 7, 4, 2, 3, 4, 6, 6, 7, 7, 5, 6, 7, 2, 4, 5, 6, 1, 2, 4, 1, 2, 3, 5, 6, 7, 1, 2, 3, 4, 5, 6, 3, 4], \"Freq\": [0.671888530254364, 0.26875540614128113, 0.451833039522171, 0.451833039522171, 0.6029623746871948, 0.3014811873435974, 0.2125498652458191, 0.10627493262290955, 0.47823721170425415, 0.10627493262290955, 0.05313746631145477, 0.1795099675655365, 0.5385299324989319, 0.7497643232345581, 0.1071091815829277, 0.1071091815829277, 0.664847195148468, 0.1329694390296936, 0.1329694390296936, 0.08602382242679596, 0.05734921246767044, 0.37276989221572876, 0.05734921246767044, 0.11469842493534088, 0.2867460548877716, 0.14942339062690735, 0.7471169233322144, 0.05580432713031769, 0.16741298139095306, 0.4464346170425415, 0.27902162075042725, 0.2629753351211548, 0.1314876675605774, 0.5259506702423096, 0.909264087677002, 0.17310349643230438, 0.247290700674057, 0.519310474395752, 0.04945814236998558, 0.08164661377668381, 0.571526288986206, 0.32658645510673523, 0.5577813386917114, 0.1859271079301834, 0.11620444059371948, 0.023240888491272926, 0.0929635539650917, 0.8309407234191895, 0.11870582401752472, 0.7161276936531067, 0.2685478925704956, 0.3557612895965576, 0.5336419343948364, 0.18728888034820557, 0.37457776069641113, 0.11237332969903946, 0.07491555064916611, 0.13110221922397614, 0.09364444017410278, 0.20536604523658752, 0.08646991103887558, 0.18374855816364288, 0.140513613820076, 0.2540053725242615, 0.12430049479007721, 0.010808738879859447, 0.8838642835617065, 0.07685776054859161, 0.03842888027429581, 0.9491941928863525, 0.06254052370786667, 0.4534187912940979, 0.12508104741573334, 0.1876215785741806, 0.0938107892870903, 0.0938107892870903, 0.07586392015218735, 0.2781676948070526, 0.6069113612174988, 0.025287972763180733, 0.05979591980576515, 0.7773469686508179, 0.1195918396115303, 0.8077080249786377, 0.13461799919605255, 0.31363150477409363, 0.5777422785758972, 0.08253461122512817, 0.49125370383262634, 0.15351678431034088, 0.2609785199165344, 0.07675839215517044, 0.43161147832870483, 0.11771222203969955, 0.43161147832870483, 0.6444137692451477, 0.21480458974838257, 0.10740229487419128, 0.11806240677833557, 0.8264368772506714, 0.5497739911079407, 0.42760199308395386, 0.48500245809555054, 0.06326118856668472, 0.4217412769794464, 0.49462977051734924, 0.2298983484506607, 0.18113203346729279, 0.06269954890012741, 0.03483308106660843, 0.354220986366272, 0.07084419578313828, 0.49590936303138733, 0.2509499490261078, 0.6901123523712158, 0.06273748725652695, 0.23700831830501556, 0.7110249400138855, 0.7687668204307556, 0.1537533551454544, 0.15208062529563904, 0.7604031562805176, 0.17427410185337067, 0.6970964074134827, 0.6633161902427673, 0.26532647013664246, 0.16345416009426117, 0.5312260389328003, 0.08172708004713058, 0.12259061634540558, 0.12259061634540558, 0.9048492312431335, 0.078682541847229, 0.5598019361495972, 0.18660065531730652, 0.2488008737564087, 0.13910837471485138, 0.09273891150951385, 0.6491724252700806, 0.13910837471485138, 0.32642844319343567, 0.4451296925544739, 0.029675312340259552, 0.14837656915187836, 0.059350624680519104, 0.11953508108854294, 0.03984502702951431, 0.6773654818534851, 0.15938010811805725, 0.9184396862983704, 0.8680472373962402, 0.03668131306767464, 0.25676918029785156, 0.07336262613534927, 0.2934505045413971, 0.18340656161308289, 0.14672525227069855, 0.7978599667549133, 0.13297665119171143, 0.48684313893318176, 0.1947372555732727, 0.1947372555732727, 0.14605294167995453, 0.8165345191955566, 0.08165345340967178, 0.21469001471996307, 0.644070029258728, 0.10734500735998154, 0.11599915474653244, 0.8119940757751465, 0.17596976459026337, 0.23462635278701782, 0.17596976459026337, 0.41059610247612, 0.7073271870613098, 0.17683179676532745, 0.08841589838266373, 0.8843345642089844, 0.13287052512168884, 0.6643526554107666, 0.2483052909374237, 0.4552263617515564, 0.16553685069084167, 0.12415264546871185, 0.8900859355926514, 0.949192225933075, 0.2871103286743164, 0.19140687584877014, 0.47851720452308655, 0.13313062489032745, 0.13313062489032745, 0.6656531691551208, 0.30022287368774414, 0.6004457473754883, 0.48291128873825073, 0.206961989402771, 0.27594929933547974, 0.15816208720207214, 0.1054413840174675, 0.1054413840174675, 0.15816208720207214, 0.05272069200873375, 0.42176553606987, 0.11011997610330582, 0.33035993576049805, 0.22023995220661163, 0.18353329598903656, 0.1468266397714615, 0.6076305508613586, 0.3038152754306793, 0.13403292000293732, 0.8041975498199463, 0.07627192884683609, 0.6101754307746887, 0.22881577908992767, 0.8737117052078247, 0.25399985909461975, 0.3047998249530792, 0.05079996958374977, 0.40639975666999817, 0.7675009369850159, 0.15350018441677094, 0.15168578922748566, 0.7584289312362671, 0.22916798293590546, 0.07638932764530182, 0.12731553614139557, 0.2037048637866974, 0.2800942063331604, 0.07638932764530182, 0.9152101278305054, 0.7676703929901123, 0.15353408455848694, 0.03996029496192932, 0.9390668869018555, 0.09292468428611755, 0.13938702642917633, 0.32523640990257263, 0.4181610941886902, 0.17870794236660004, 0.7148317694664001, 0.133198082447052, 0.66599041223526, 0.133198082447052, 0.7536530494689941, 0.10766471922397614, 0.17880834639072418, 0.7152333855628967, 0.7654284238815308, 0.15308567881584167, 0.9221203923225403, 0.2911916673183441, 0.5823833346366882, 0.8853595852851868, 0.7687371373176575, 0.15374742448329926, 0.7052626013755798, 0.17631565034389496, 0.17214426398277283, 0.7746492028236389, 0.2619136869907379, 0.7202626466751099, 0.8065392374992371, 0.13442321121692657, 0.17821583151817322, 0.7128633260726929, 0.2012547254562378, 0.670849084854126, 0.18613654375076294, 0.7910802960395813, 0.9635623693466187, 0.7151113152503967, 0.17877782881259918, 0.20010843873023987, 0.2286953628063202, 0.14293460547924042, 0.08576075732707977, 0.31445610523223877, 0.3558901846408844, 0.5931503176689148, 0.3153890371322632, 0.6307780742645264, 0.21461814641952515, 0.10730907320976257, 0.10730907320976257, 0.5365453958511353, 0.07635926455259323, 0.8399519324302673, 0.8927409052848816, 0.9228912591934204, 0.6624597907066345, 0.08280747383832932, 0.16561494767665863, 0.7958970069885254, 0.1326494961977005, 0.717330813407898, 0.1793327033519745, 0.9151942729949951, 0.7091889381408691, 0.17729723453521729, 0.8635345697402954, 0.1328514665365219, 0.11661602556705475, 0.11661602556705475, 0.6996961832046509, 0.15293744206428528, 0.2294061779975891, 0.5926325917243958, 0.6154319643974304, 0.05594836175441742, 0.16784508526325226, 0.16784508526325226, 0.3195737898349762, 0.37767812609672546, 0.14526081085205078, 0.11620865017175674, 0.029052162542939186, 0.9343022704124451, 0.3077987730503082, 0.6155975461006165, 0.9194546341896057, 0.07072728127241135, 0.32336390018463135, 0.6467278003692627, 0.7837012410163879, 0.09796265512704849, 0.7095176577568054, 0.2365058809518814, 0.18607784807682037, 0.5117140412330627, 0.13955838978290558, 0.09303892403841019, 0.7525033950805664, 0.10750048607587814, 0.10750048607587814, 0.23341171443462372, 0.4334788918495178, 0.10003359615802765, 0.2000671923160553, 0.9798277616500854, 0.6713290810585022, 0.13426581025123596, 0.08750461041927338, 0.3062661588191986, 0.04375230520963669, 0.5250276923179626, 0.2742239832878113, 0.24375465512275696, 0.4570399820804596, 0.5788291096687317, 0.28941455483436584, 0.13265202939510345, 0.5306081175804138, 0.2653040587902069, 0.2345835119485855, 0.2345835119485855, 0.469167023897171, 0.33764150738716125, 0.38587599992752075, 0.24117250740528107, 0.6665583848953247, 0.2666233479976654, 0.2020503729581833, 0.2020503729581833, 0.3030755817890167, 0.3030755817890167, 0.95261549949646, 0.18904952704906464, 0.6301651000976562, 0.1260330229997635, 0.3946046233177185, 0.526139497756958, 0.19050467014312744, 0.7620186805725098, 0.21458084881305695, 0.7510329484939575, 0.306362509727478, 0.5361343622207642, 0.0765906274318695, 0.9239141941070557, 0.8962610363960266, 0.17477649450302124, 0.699105978012085, 0.8331031799316406, 0.11901473253965378, 0.17900831997394562, 0.7160332798957825, 0.5929495692253113, 0.05156083032488823, 0.2835845649242401, 0.060154303908348083, 0.008593471720814705, 0.213967964053154, 0.17117436230182648, 0.427935928106308, 0.17117436230182648, 0.8962997794151306, 0.47617459297180176, 0.23808729648590088, 0.11904364824295044, 0.02976091206073761, 0.11904364824295044, 0.8897430896759033, 0.592038094997406, 0.3552228808403015, 0.8929927945137024, 0.7150641679763794, 0.17876604199409485, 0.059588056057691574, 0.11917611211538315, 0.059588056057691574, 0.7150566577911377, 0.13810230791568756, 0.09864450246095657, 0.5918670296669006, 0.17756010591983795, 0.17780084908008575, 0.8001038432121277, 0.3922477960586548, 0.04614679887890816, 0.3922477960586548, 0.13844040036201477, 0.3496360182762146, 0.5827267169952393, 0.7175859808921814, 0.17939649522304535, 0.07555751502513885, 0.1511150300502777, 0.3022300601005554, 0.3777875602245331, 0.19088563323020935, 0.6271956562995911, 0.13634687662124634, 0.027269376441836357, 0.7456291913986206, 0.20711921155452728, 0.08284768462181091, 0.03836763650178909, 0.7481688857078552, 0.03836763650178909, 0.05755145475268364, 0.11510290950536728, 0.6040265560150146, 0.26845625042915344, 0.06711406260728836, 0.2132663130760193, 0.0710887685418129, 0.4976213872432709, 0.1421775370836258, 0.18602290749549866, 0.1395171731710434, 0.12401526421308517, 0.17052099108695984, 0.3410419821739197, 0.031003816053271294, 0.0962694063782692, 0.5294817090034485, 0.1444041132926941, 0.1925388127565384, 0.7147719264030457, 0.11912865191698074, 0.11912865191698074, 0.9221662878990173, 0.17536865174770355, 0.17536865174770355, 0.5261059403419495, 0.1963811069726944, 0.08416333049535751, 0.1963811069726944, 0.3085988759994507, 0.22443555295467377, 0.12286350131034851, 0.16381800174713135, 0.24572700262069702, 0.3276360034942627, 0.12286350131034851, 0.7572045922279358, 0.21425852179527283, 0.7141950726509094, 0.23865525424480438, 0.715965747833252, 0.4202567934989929, 0.4202567934989929, 0.7555403113365173, 0.151108056306839, 0.8179957866668701, 0.1635991483926773, 0.8979471325874329, 0.7673479914665222, 0.15346960723400116, 0.35660573840141296, 0.5349085927009583, 0.659792959690094, 0.2639172077178955, 0.23758052289485931, 0.11879026144742966, 0.47516104578971863, 0.11988159269094467, 0.8391711711883545, 0.579972505569458, 0.289986252784729, 0.896268367767334, 0.6451222896575928, 0.10752038657665253, 0.21504077315330505, 0.568791925907135, 0.2843959629535675, 0.14219798147678375, 0.1441168487071991, 0.33627262711524963, 0.1441168487071991, 0.38431158661842346, 0.7175596952438354, 0.17938992381095886, 0.4380398988723755, 0.1564428210258484, 0.03128856420516968, 0.06257712841033936, 0.3128856420516968, 0.6381998062133789, 0.07091109454631805, 0.21273326873779297, 0.2451535165309906, 0.42901864647865295, 0.14300622045993805, 0.1634356826543808, 0.06438741832971573, 0.8048427104949951, 0.06438741832971573, 0.032193709164857864, 0.0978957861661911, 0.7831662893295288, 0.8212389349937439, 0.12318583577871323, 0.14533409476280212, 0.04844469949603081, 0.5813363790512085, 0.19377879798412323, 0.7780090570449829, 0.14145618677139282, 0.16125866770744324, 0.3547690808773041, 0.06450346857309341, 0.12900693714618683, 0.12900693714618683, 0.03225173428654671, 0.09675520658493042, 0.06845484673976898, 0.6845484375953674, 0.17113710939884186, 0.03422742336988449, 0.9152071475982666, 0.9183939099311829, 0.05900214612483978, 0.7670279145240784, 0.11800429224967957, 0.758108913898468, 0.15162178874015808, 0.6948111057281494, 0.19851747155189514, 0.09925873577594757, 0.13872843980789185, 0.13872843980789185, 0.693642258644104, 0.7556600570678711, 0.1511320173740387, 0.9220596551895142, 0.8962914347648621, 0.3752424418926239, 0.1072121262550354, 0.34843942523002625, 0.13401515781879425, 0.13576847314834595, 0.7636976838111877, 0.08485529571771622, 0.3033359944820404, 0.6066719889640808, 0.6708502769470215, 0.1341700553894043, 0.9183973670005798, 0.688123345375061, 0.17203083634376526, 0.08601541817188263, 0.028671806678175926, 0.6074280142784119, 0.30371400713920593, 0.5331292748451233, 0.26656463742256165, 0.159938782453537, 0.3523229658603668, 0.5284844040870667, 0.30457422137260437, 0.6091484427452087, 0.20449306070804596, 0.30673959851264954, 0.4089861214160919, 0.05112326517701149, 0.28500884771347046, 0.13818611204624176, 0.20727917551994324, 0.2245524376630783, 0.09500295668840408, 0.025909896939992905, 0.025909896939992905, 0.8628378510475159, 0.941572904586792, 0.8924116492271423, 0.8347289562225342, 0.11924698948860168, 0.12363271415233612, 0.5357417464256287, 0.12363271415233612, 0.041210904717445374, 0.12363271415233612, 0.1430995911359787, 0.3052791357040405, 0.1144796758890152, 0.06677981466054916, 0.276659220457077, 0.09539972990751266, 0.48515790700912476, 0.03465413674712181, 0.41584962606430054, 0.07877900451421738, 0.15755800902843475, 0.03938950225710869, 0.3742002546787262, 0.13786324858665466, 0.07877900451421738, 0.13786324858665466, 0.1330791860818863, 0.5988563895225525, 0.19961878657341003, 0.5714482069015503, 0.4285861551761627, 0.3717803657054901, 0.1394176334142685, 0.3717803657054901, 0.1394176334142685, 0.17833374440670013, 0.5350012183189392, 0.37324216961860657, 0.10664062201976776, 0.18662108480930328, 0.18662108480930328, 0.13330078125, 0.15319079160690308, 0.7659539580345154, 0.945944607257843, 0.5367413759231567, 0.028249545022845268, 0.19774681329727173, 0.22599636018276215, 0.2666097581386566, 0.6665244102478027, 0.044434960931539536, 0.896275520324707, 0.1785217970609665, 0.1785217970609665, 0.08926089853048325, 0.5355653762817383, 0.8979740738868713, 0.26778265833854675, 0.13389132916927338, 0.5355653166770935, 0.23771606385707855, 0.7131481766700745, 0.4616442918777466, 0.4616442918777466, 0.48039525747299194, 0.2135089933872223, 0.10675449669361115, 0.16013175249099731, 0.21461224555969238, 0.03576871007680893, 0.28614968061447144, 0.42922449111938477, 0.06643777340650558, 0.7972533106803894, 0.06643777340650558, 0.12902380526065826, 0.016127975657582283, 0.016127975657582283, 0.6451190114021301, 0.17740772664546967, 0.7175657153129578, 0.1195942834019661, 0.17568530142307281, 0.17568530142307281, 0.5270559191703796, 0.8850328326225281, 0.9102015495300293, 0.3067614734172821, 0.6646499037742615, 0.3044584393501282, 0.6089168787002563, 0.24282057583332062, 0.1942564696073532, 0.5827693939208984, 0.267410010099411, 0.08913667500019073, 0.534820020198822, 0.08898372948169708, 0.6228861212730408, 0.26695120334625244, 0.30585286021232605, 0.6117057204246521, 0.9095773100852966, 0.41071373224258423, 0.2464282363653183, 0.10952366143465042, 0.1916664093732834, 0.027380915358662605, 0.06575579196214676, 0.26302316784858704, 0.6575579047203064, 0.21334347128868103, 0.062225181609392166, 0.01777862384915352, 0.22223278880119324, 0.32890453934669495, 0.11556104570627213, 0.04444655776023865, 0.29374799132347107, 0.2203109860420227, 0.2570294737815857, 0.2570294737815857, 0.32034921646118164, 0.6406984329223633, 0.2131384164094925, 0.7459844350814819, 0.1932823657989502, 0.7731294631958008, 0.13042041659355164, 0.13042041659355164, 0.2825775742530823, 0.3477877974510193, 0.10868368297815323, 0.14330443739891052, 0.6448699235916138, 0.2149566411972046, 0.8922652006149292, 0.8628376722335815, 0.7624414563179016, 0.19889777898788452, 0.3737688362598419, 0.14375723898410797, 0.4600231647491455, 0.1506538987159729, 0.22598084807395935, 0.07532694935798645, 0.4519616961479187, 0.1423860341310501, 0.11865502595901489, 0.5932751297950745, 0.07119301706552505, 0.02373100444674492, 0.6526799201965332, 0.3263399600982666, 0.11773888021707535, 0.11773888021707535, 0.4120860695838928, 0.29434719681739807, 0.2622796297073364, 0.6556990742683411, 0.15295669436454773, 0.15295669436454773, 0.6118267774581909, 0.13362383842468262, 0.8017430305480957, 0.12842293083667755, 0.04280764237046242, 0.17123056948184967, 0.2996535003185272, 0.38526877760887146, 0.044164203107357025, 0.1766568124294281, 0.5299704074859619, 0.22082100808620453, 0.8819923996925354, 0.08819924294948578, 0.9152455925941467, 0.35585886240005493, 0.05083698406815529, 0.15251094102859497, 0.4066958725452423, 0.17457787692546844, 0.6983115077018738, 0.910416841506958, 0.7069171071052551, 0.11781951040029526, 0.11781951040029526, 0.12810412049293518, 0.34161096811294556, 0.17080548405647278, 0.34161096811294556, 0.8601385951042175, 0.07167822122573853, 0.07167822122573853, 0.037808071821928024, 0.22684842348098755, 0.11342421174049377, 0.3402726352214813, 0.037808071821928024, 0.22684842348098755, 0.3406480550765991, 0.052407391369342804, 0.3406480550765991, 0.052407391369342804, 0.1310184746980667, 0.0786110907793045, 0.17830781638622284, 0.7132312655448914], \"Term\": [\"acabados\", \"acabados\", \"aceptable\", \"aceptable\", \"adecuado\", \"adecuado\", \"adem\\u00e1s\", \"adem\\u00e1s\", \"adem\\u00e1s\", \"adem\\u00e1s\", \"adem\\u00e1s\", \"ah\\u00ed\", \"ah\\u00ed\", \"alguna\", \"alguna\", \"alguna\", \"alta\", \"alta\", \"alta\", \"amazon\", \"amazon\", \"amazon\", \"amazon\", \"amazon\", \"amazon\", \"apenas\", \"apenas\", \"art\\u00edculo\", \"art\\u00edculo\", \"art\\u00edculo\", \"art\\u00edculo\", \"asi\", \"asi\", \"asi\", \"aspecto\", \"as\\u00ed\", \"as\\u00ed\", \"as\\u00ed\", \"as\\u00ed\", \"aun\", \"aun\", \"aun\", \"aunque\", \"aunque\", \"aunque\", \"aunque\", \"aunque\", \"auriculares\", \"auriculares\", \"barato\", \"barato\", \"baratos\", \"baratos\", \"bastante\", \"bastante\", \"bastante\", \"bastante\", \"bastante\", \"bastante\", \"bien\", \"bien\", \"bien\", \"bien\", \"bien\", \"bien\", \"bien\", \"bonita\", \"bonita\", \"bonita\", \"bonitas\", \"bonito\", \"bonito\", \"bonito\", \"bonito\", \"bonito\", \"bonito\", \"bonitos\", \"bonitos\", \"bonitos\", \"bonitos\", \"botones\", \"botones\", \"botones\", \"bot\\u00f3n\", \"bot\\u00f3n\", \"buen\", \"buen\", \"buen\", \"buena\", \"buena\", \"buena\", \"buena\", \"bueno\", \"bueno\", \"bueno\", \"buenos\", \"buenos\", \"buenos\", \"cabe\", \"cabe\", \"cadena\", \"cadena\", \"caja\", \"caja\", \"caja\", \"calidad\", \"calidad\", \"calidad\", \"calidad\", \"calidad\", \"casi\", \"casi\", \"casi\", \"caso\", \"caso\", \"caso\", \"castellano\", \"castellano\", \"cd\", \"cd\", \"cerrar\", \"cerrar\", \"certificado\", \"certificado\", \"cierra\", \"cierra\", \"cierre\", \"cierre\", \"cierre\", \"cierre\", \"cierre\", \"colgante\", \"colgante\", \"collar\", \"collar\", \"collar\", \"color\", \"color\", \"color\", \"color\", \"compra\", \"compra\", \"compra\", \"compra\", \"compra\", \"comprar\", \"comprar\", \"comprar\", \"comprar\", \"compras\", \"compro\", \"compr\\u00e9\", \"compr\\u00e9\", \"compr\\u00e9\", \"compr\\u00e9\", \"compr\\u00e9\", \"compr\\u00e9\", \"condiciones\", \"condiciones\", \"consola\", \"consola\", \"consola\", \"consola\", \"contenta\", \"contenta\", \"contento\", \"contento\", \"contento\", \"correctamente\", \"correctamente\", \"cosa\", \"cosa\", \"cosa\", \"cosa\", \"cuanto\", \"cuanto\", \"cuanto\", \"cuello\", \"cuenta\", \"cuenta\", \"cumple\", \"cumple\", \"cumple\", \"cumple\", \"c\\u00f3digo\", \"c\\u00f3mo\", \"c\\u00f3modo\", \"c\\u00f3modo\", \"c\\u00f3modo\", \"c\\u00f3modos\", \"c\\u00f3modos\", \"c\\u00f3modos\", \"decepcionado\", \"decepcionado\", \"demasiado\", \"demasiado\", \"demasiado\", \"dentro\", \"dentro\", \"dentro\", \"dentro\", \"dentro\", \"dentro\", \"despu\\u00e9s\", \"despu\\u00e9s\", \"despu\\u00e9s\", \"despu\\u00e9s\", \"despu\\u00e9s\", \"detalle\", \"detalle\", \"dicen\", \"dicen\", \"dinero\", \"dinero\", \"dinero\", \"disco\", \"dise\\u00f1o\", \"dise\\u00f1o\", \"dise\\u00f1o\", \"dise\\u00f1o\", \"divertido\", \"divertido\", \"dorado\", \"dorado\", \"dos\", \"dos\", \"dos\", \"dos\", \"dos\", \"dos\", \"doy\", \"dura\", \"dura\", \"d\\u00eda\", \"d\\u00eda\", \"d\\u00edas\", \"d\\u00edas\", \"d\\u00edas\", \"d\\u00edas\", \"empresa\", \"empresa\", \"encajan\", \"encajan\", \"encajan\", \"encantada\", \"encantada\", \"encant\\u00f3\", \"encant\\u00f3\", \"encima\", \"encima\", \"enga\\u00f1o\", \"enseguida\", \"enseguida\", \"entender\", \"entiendo\", \"entiendo\", \"entra\", \"entra\", \"entrega\", \"entrega\", \"entregado\", \"entregado\", \"entretenido\", \"entretenido\", \"enviaron\", \"enviaron\", \"envio\", \"envio\", \"env\\u00edo\", \"env\\u00edo\", \"espa\\u00f1ol\", \"espa\\u00f1ola\", \"espa\\u00f1ola\", \"esperaba\", \"esperaba\", \"esperaba\", \"esperaba\", \"esperaba\", \"esperado\", \"esperado\", \"esperando\", \"esperando\", \"esperar\", \"esperar\", \"esperar\", \"esperar\", \"estrellas\", \"estrellas\", \"exactamente\", \"excelente\", \"expectativas\", \"expectativas\", \"expectativas\", \"falta\", \"falta\", \"familia\", \"familia\", \"fan\", \"fea\", \"fea\", \"fina\", \"fina\", \"fino\", \"fino\", \"fino\", \"foto\", \"foto\", \"foto\", \"fotos\", \"fotos\", \"fotos\", \"fotos\", \"funciona\", \"funciona\", \"funciona\", \"funciona\", \"funciona\", \"funcionar\", \"funci\\u00f3n\", \"funci\\u00f3n\", \"funda\", \"funda\", \"f\\u00e1cil\", \"f\\u00e1cil\", \"f\\u00e1cilmente\", \"f\\u00e1cilmente\", \"genial\", \"genial\", \"gracias\", \"gracias\", \"gracias\", \"gracias\", \"gran\", \"gran\", \"gran\", \"grande\", \"grande\", \"grande\", \"grande\", \"grandes\", \"gr\\u00e1ficos\", \"gr\\u00e1ficos\", \"gusta\", \"gusta\", \"gusta\", \"gusta\", \"gustado\", \"gustado\", \"gustado\", \"gustan\", \"gustan\", \"gust\\u00f3\", \"gust\\u00f3\", \"gust\\u00f3\", \"haber\", \"haber\", \"haber\", \"hace\", \"hace\", \"hace\", \"hacen\", \"hacen\", \"hacer\", \"hacer\", \"hacer\", \"hacer\", \"hija\", \"hijo\", \"hijo\", \"hijo\", \"hora\", \"hora\", \"hoy\", \"hoy\", \"ideal\", \"ideal\", \"imagen\", \"imagen\", \"imagen\", \"imposible\", \"ingles\", \"ir\", \"ir\", \"italiano\", \"italiano\", \"juegazo\", \"juegazo\", \"juego\", \"juego\", \"juego\", \"juego\", \"juego\", \"juegos\", \"juegos\", \"juegos\", \"juegos\", \"jugabilidad\", \"jugar\", \"jugar\", \"jugar\", \"jugar\", \"jugar\", \"junto\", \"lado\", \"lado\", \"lamentable\", \"largo\", \"largo\", \"llega\", \"llega\", \"llega\", \"llega\", \"llegado\", \"llegado\", \"llegado\", \"llegado\", \"llego\", \"llego\", \"lleg\\u00f3\", \"lleg\\u00f3\", \"lleg\\u00f3\", \"lleg\\u00f3\", \"lleva\", \"lleva\", \"llevas\", \"llevas\", \"luego\", \"luego\", \"luego\", \"luego\", \"mal\", \"mal\", \"mal\", \"mal\", \"mala\", \"mala\", \"mala\", \"mando\", \"mando\", \"mando\", \"mando\", \"mando\", \"mandos\", \"mandos\", \"mandos\", \"mano\", \"mano\", \"mano\", \"mano\", \"mas\", \"mas\", \"mas\", \"mas\", \"mas\", \"mas\", \"material\", \"material\", \"material\", \"material\", \"materiales\", \"materiales\", \"materiales\", \"mayor\", \"media\", \"media\", \"media\", \"mejor\", \"mejor\", \"mejor\", \"mejor\", \"mejor\", \"menos\", \"menos\", \"menos\", \"menos\", \"menos\", \"merece\", \"mes\", \"mes\", \"modo\", \"modo\", \"mucha\", \"mucha\", \"much\\u00edsimo\", \"much\\u00edsimo\", \"mujer\", \"mujer\", \"mu\\u00f1eca\", \"m\\u00f3viles\", \"m\\u00f3viles\", \"nadie\", \"nadie\", \"negro\", \"negro\", \"ninguna\", \"ninguna\", \"ninguna\", \"nintendo\", \"nintendo\", \"ni\\u00f1as\", \"ni\\u00f1as\", \"ni\\u00f1os\", \"normal\", \"normal\", \"normal\", \"nota\", \"nota\", \"nota\", \"nunca\", \"nunca\", \"nunca\", \"nunca\", \"opinar\", \"opinar\", \"original\", \"original\", \"original\", \"original\", \"original\", \"paquete\", \"paquete\", \"paquete\", \"parece\", \"parece\", \"parece\", \"parece\", \"parte\", \"parte\", \"parte\", \"parte\", \"pc\", \"pc\", \"pedido\", \"pedido\", \"pedir\", \"pedir\", \"pedir\", \"pedir\", \"ped\\u00ed\", \"ped\\u00ed\", \"pena\", \"pena\", \"pena\", \"pena\", \"pena\", \"pena\", \"pena\", \"pendientes\", \"pendientes\", \"pendientes\", \"pendientes\", \"pens\\u00e9\", \"peor\", \"peque\\u00f1a\", \"peque\\u00f1a\", \"peque\\u00f1a\", \"peque\\u00f1as\", \"peque\\u00f1as\", \"peque\\u00f1o\", \"peque\\u00f1o\", \"peque\\u00f1o\", \"peque\\u00f1os\", \"peque\\u00f1os\", \"peque\\u00f1os\", \"perdido\", \"perdido\", \"perdi\\u00f3\", \"perfecta\", \"perfectamente\", \"perfectamente\", \"perfectamente\", \"perfectamente\", \"perfecto\", \"perfecto\", \"perfecto\", \"perlas\", \"perlas\", \"pesan\", \"pesan\", \"piedras\", \"plata\", \"plata\", \"plata\", \"plata\", \"plazo\", \"plazo\", \"pl\\u00e1stico\", \"pl\\u00e1stico\", \"pl\\u00e1stico\", \"pocas\", \"pocas\", \"ponen\", \"ponen\", \"poner\", \"poner\", \"poner\", \"poner\", \"precio\", \"precio\", \"precio\", \"precio\", \"precio\", \"precio\", \"precio\", \"preciosa\", \"precioso\", \"primera\", \"pro\", \"pro\", \"problema\", \"problema\", \"problema\", \"problema\", \"problema\", \"producto\", \"producto\", \"producto\", \"producto\", \"producto\", \"producto\", \"ps\", \"ps\", \"ps\", \"puede\", \"puede\", \"puede\", \"puede\", \"puede\", \"puede\", \"puede\", \"pueden\", \"pueden\", \"pueden\", \"puedes\", \"puedes\", \"puedo\", \"puedo\", \"puedo\", \"puedo\", \"puesta\", \"puesta\", \"pulsera\", \"pulsera\", \"pulsera\", \"pulsera\", \"pulsera\", \"p\\u00e9simo\", \"p\\u00e9simo\", \"q\", \"queda\", \"queda\", \"queda\", \"queda\", \"quedan\", \"quedan\", \"quedan\", \"quiz\\u00e1\", \"rapido\", \"rapido\", \"rapido\", \"rapido\", \"rato\", \"realidad\", \"realidad\", \"realidad\", \"realmente\", \"realmente\", \"recibido\", \"recibido\", \"recomendable\", \"recomendable\", \"recomendable\", \"recomendable\", \"recomiendo\", \"recomiendo\", \"recomiendo\", \"recomiendo\", \"regalar\", \"regalar\", \"regalar\", \"regalo\", \"regalo\", \"regalo\", \"regalo\", \"regalo\", \"relaci\\u00f3n\", \"relaci\\u00f3n\", \"repartidor\", \"repartidor\", \"repartidor\", \"rompio\", \"rosa\", \"roto\", \"roto\", \"ruido\", \"ruido\", \"r\\u00e1pido\", \"r\\u00e1pido\", \"r\\u00e1pido\", \"saga\", \"saga\", \"saga\", \"sale\", \"sale\", \"sale\", \"segundo\", \"segundo\", \"seg\\u00fan\", \"ser\", \"ser\", \"ser\", \"ser\", \"ser\", \"servicio\", \"servicio\", \"servicio\", \"si\", \"si\", \"si\", \"si\", \"si\", \"si\", \"si\", \"sido\", \"sido\", \"sido\", \"sido\", \"sigue\", \"sigue\", \"sirve\", \"sirve\", \"sitio\", \"sitio\", \"solo\", \"solo\", \"solo\", \"solo\", \"solo\", \"sonido\", \"sonido\", \"sonido\", \"sorpresa\", \"tacto\", \"tal\", \"tal\", \"tama\\u00f1o\", \"tama\\u00f1o\", \"tama\\u00f1o\", \"tampoco\", \"tampoco\", \"tampoco\", \"tampoco\", \"tiempo\", \"tiempo\", \"tiempo\", \"tiempo\", \"tiempo\", \"todav\\u00eda\", \"todav\\u00eda\", \"trae\", \"trae\", \"trae\", \"trae\", \"transporte\", \"transporte\", \"usar\", \"usar\", \"usar\", \"usb\", \"usb\", \"uso\", \"uso\", \"uso\", \"uso\", \"uso\", \"va\", \"va\", \"va\", \"va\", \"ve\", \"ve\", \"ven\", \"vendedor\", \"vendedor\", \"vendedor\", \"vendedor\", \"venga\", \"venga\", \"venia\", \"veo\", \"veo\", \"veo\", \"verdad\", \"verdad\", \"verdad\", \"verdad\", \"versi\\u00f3n\", \"versi\\u00f3n\", \"versi\\u00f3n\", \"vez\", \"vez\", \"vez\", \"vez\", \"vez\", \"vez\", \"viene\", \"viene\", \"viene\", \"viene\", \"viene\", \"viene\", \"\\u00fanica\", \"\\u00fanica\"]}, \"R\": 30, \"lambda.step\": 0.01, \"plot.opts\": {\"xlab\": \"PC1\", \"ylab\": \"PC2\"}, \"topic.order\": [2, 3, 5, 6, 1, 4, 7]};\n",
       "\n",
       "function LDAvis_load_lib(url, callback){\n",
       "  var s = document.createElement('script');\n",
       "  s.src = url;\n",
       "  s.async = true;\n",
       "  s.onreadystatechange = s.onload = callback;\n",
       "  s.onerror = function(){console.warn(\"failed to load library \" + url);};\n",
       "  document.getElementsByTagName(\"head\")[0].appendChild(s);\n",
       "}\n",
       "\n",
       "if(typeof(LDAvis) !== \"undefined\"){\n",
       "   // already loaded: just create the visualization\n",
       "   !function(LDAvis){\n",
       "       new LDAvis(\"#\" + \"ldavis_el1853627318084922324922603224\", ldavis_el1853627318084922324922603224_data);\n",
       "   }(LDAvis);\n",
       "}else if(typeof define === \"function\" && define.amd){\n",
       "   // require.js is available: use it to load d3/LDAvis\n",
       "   require.config({paths: {d3: \"https://cdnjs.cloudflare.com/ajax/libs/d3/3.5.5/d3.min\"}});\n",
       "   require([\"d3\"], function(d3){\n",
       "      window.d3 = d3;\n",
       "      LDAvis_load_lib(\"https://cdn.rawgit.com/bmabey/pyLDAvis/files/ldavis.v1.0.0.js\", function(){\n",
       "        new LDAvis(\"#\" + \"ldavis_el1853627318084922324922603224\", ldavis_el1853627318084922324922603224_data);\n",
       "      });\n",
       "    });\n",
       "}else{\n",
       "    // require.js not available: dynamically load d3 & LDAvis\n",
       "    LDAvis_load_lib(\"https://cdnjs.cloudflare.com/ajax/libs/d3/3.5.5/d3.min.js\", function(){\n",
       "         LDAvis_load_lib(\"https://cdn.rawgit.com/bmabey/pyLDAvis/files/ldavis.v1.0.0.js\", function(){\n",
       "                 new LDAvis(\"#\" + \"ldavis_el1853627318084922324922603224\", ldavis_el1853627318084922324922603224_data);\n",
       "            })\n",
       "         });\n",
       "}\n",
       "</script>"
      ],
      "text/plain": [
       "<IPython.core.display.HTML object>"
      ]
     },
     "execution_count": 15,
     "metadata": {},
     "output_type": "execute_result"
    }
   ],
   "source": [
    "lda_display = pyLDAvis.gensim.prepare(model, corpus, dictionary, sort_topics=True)\n",
    "pyLDAvis.display(lda_display)"
   ]
  },
  {
   "cell_type": "code",
   "execution_count": null,
   "metadata": {},
   "outputs": [],
   "source": [
    "#Con la cantidad de 50 iteraciones el modelo creo que se ve bien, porque muestra las palabras más significativas acerca de los productos y los envíos."
   ]
  }
 ],
 "metadata": {
  "kernelspec": {
   "display_name": "Python 3",
   "language": "python",
   "name": "python3"
  },
  "language_info": {
   "codemirror_mode": {
    "name": "ipython",
    "version": 3
   },
   "file_extension": ".py",
   "mimetype": "text/x-python",
   "name": "python",
   "nbconvert_exporter": "python",
   "pygments_lexer": "ipython3",
   "version": "3.7.4"
  }
 },
 "nbformat": 4,
 "nbformat_minor": 2
}
