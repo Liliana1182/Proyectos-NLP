{
 "cells": [
  {
   "cell_type": "code",
   "execution_count": null,
   "metadata": {},
   "outputs": [],
   "source": [
    "#Taller word2vec"
   ]
  },
  {
   "cell_type": "code",
   "execution_count": 270,
   "metadata": {},
   "outputs": [],
   "source": [
    "import re\n",
    "import numpy as np\n",
    "import pandas as pd\n",
    "\n",
    "from nltk.corpus import stopwords\n",
    "stopwords_sp = stopwords.words('spanish')"
   ]
  },
  {
   "cell_type": "code",
   "execution_count": 271,
   "metadata": {},
   "outputs": [
    {
     "data": {
      "text/plain": [
       "0     [ocurre, inglaterra, finales, siglo, xvii, cin...\n",
       "1     [principio, pelicula, sentiras, involucrado, h...\n",
       "2     [holly, gerry, conocen, universidad, siempre, ...\n",
       "3     [pelicula, mas, aclamadas, publico, impregnada...\n",
       "4     [clasico, debes, perderte, romance, christian,...\n",
       "5     [duda, pelicula, mas, glamourosa, lista, carri...\n",
       "6     [historia, tim, lake, joven, poder, viajar, ti...\n",
       "7     [clasico, visto, menos, veces, pelicula, nunca...\n",
       "8     [sucede, años, sesenta, dos, amigos, conocen, ...\n",
       "9     [profunda, divertida, dramatica, historia, amo...\n",
       "10    [historia, amor, dos, mundos, dos, mundos, enc...\n",
       "11    [john, tyree, soldado, fuerzas, especiales, va...\n",
       "12    [historia, chico, malo, enamora, buena, chica,...\n",
       "13    [dra, kate, forster, deja, casa, habia, alquil...\n",
       "14    [sophie, joven, trabajadora, estadounidense, r...\n",
       "15    [logan, thibault, sargento, marina, norteameri...\n",
       "16    [tyler, chico, rebelde, vive, nueva, york, rel...\n",
       "17    [pelicula, narra, historia, dos, jovenes, chic...\n",
       "18    [pelicula, cuenta, historia, dos, jovenes, emp...\n",
       "19    [chica, deseando, novio, pida, matrimonio, ver...\n",
       "20    [historia, basada, hechos, reales, cuenta, his...\n",
       "21    [charlie, st, cloud, experto, apasionado, buce...\n",
       "22    [pelicula, italiana, fresca, tierna, alex, pub...\n",
       "23    [emma, dexter, conocen, dia, graduacion, unive...\n",
       "24    [ana, punto, casarse, descubre, prometido, eng...\n",
       "25    [tom, chico, cree, amor, predestinado, suceder...\n",
       "26    [bianca, chica, popular, mundo, quiere, salir,...\n",
       "Name: Pre_procesado, dtype: object"
      ]
     },
     "execution_count": 271,
     "metadata": {},
     "output_type": "execute_result"
    }
   ],
   "source": [
    "def pre_procesado(texto):\n",
    "    texto = texto.lower()\n",
    "    texto = re.sub(r\"[\\W\\d_]+\", \" \", texto)\n",
    "    texto = \" \".join([palabra for palabra in texto.split() if palabra not in stopwords_sp])\n",
    "    return texto.split()\n",
    "\n",
    "peliculas = pd.read_csv('peliculas.csv', sep=',')\n",
    "\n",
    "peliculas['Pre_procesado'] = peliculas['Descripcion'].apply(lambda texto: pre_procesado(texto))\n",
    "\n",
    "#peliculas.head()\n",
    "peliculas['Pre_procesado'] \n"
   ]
  },
  {
   "cell_type": "code",
   "execution_count": 272,
   "metadata": {},
   "outputs": [],
   "source": [
    "import gensim.models.word2vec as w2v"
   ]
  },
  {
   "cell_type": "code",
   "execution_count": 273,
   "metadata": {},
   "outputs": [],
   "source": [
    "mi_modelo = w2v.Word2Vec(peliculas['Pre_procesado'].values)\n"
   ]
  },
  {
   "cell_type": "code",
   "execution_count": 274,
   "metadata": {},
   "outputs": [
    {
     "data": {
      "text/plain": [
       "[('va', 0.2062411606311798),\n",
       " ('matrimonio', 0.11804606765508652),\n",
       " ('juntos', 0.11608290672302246),\n",
       " ('años', 0.09734395891427994),\n",
       " ('ambos', 0.05573997646570206),\n",
       " ('joven', 0.04497288167476654),\n",
       " ('pelicula', 0.03865040838718414),\n",
       " ('siempre', 0.033165037631988525),\n",
       " ('vida', 0.011171350255608559),\n",
       " ('encuentra', 0.006563762202858925)]"
      ]
     },
     "execution_count": 274,
     "metadata": {},
     "output_type": "execute_result"
    }
   ],
   "source": [
    "mi_modelo.wv.most_similar(\"amor\")"
   ]
  },
  {
   "cell_type": "code",
   "execution_count": 275,
   "metadata": {},
   "outputs": [
    {
     "data": {
      "text/plain": [
       "[('ambos', 0.22238561511039734),\n",
       " ('años', 0.1956038475036621),\n",
       " ('joven', 0.19151592254638672),\n",
       " ('vida', 0.12668472528457642),\n",
       " ('amor', 0.11804606020450592),\n",
       " ('va', 0.11276935040950775),\n",
       " ('pelicula', 0.1042734831571579),\n",
       " ('si', 0.03911510854959488),\n",
       " ('juntos', 0.036619119346141815),\n",
       " ('tener', 0.023361461237072945)]"
      ]
     },
     "execution_count": 275,
     "metadata": {},
     "output_type": "execute_result"
    }
   ],
   "source": [
    "mi_modelo.wv.most_similar(\"matrimonio\")"
   ]
  },
  {
   "cell_type": "code",
   "execution_count": 276,
   "metadata": {},
   "outputs": [
    {
     "data": {
      "text/plain": [
       "[('dos', 0.26111823320388794),\n",
       " ('interesar', 0.2491709440946579),\n",
       " ('decide', 0.14702031016349792),\n",
       " ('años', 0.09523607045412064),\n",
       " ('historia', 0.09473395347595215),\n",
       " ('juntos', 0.09223300218582153),\n",
       " ('encuentra', 0.06070125102996826),\n",
       " ('puede', 0.054888032376766205),\n",
       " ('nueva', 0.029890786856412888),\n",
       " ('nuevo', 0.02445092797279358)]"
      ]
     },
     "execution_count": 276,
     "metadata": {},
     "output_type": "execute_result"
    }
   ],
   "source": [
    "mi_modelo.wv.most_similar(\"mundo\")\n"
   ]
  },
  {
   "cell_type": "code",
   "execution_count": 277,
   "metadata": {},
   "outputs": [
    {
     "data": {
      "text/plain": [
       "[('matrimonio', 0.1956038475036621),\n",
       " ('historia', 0.1767566204071045),\n",
       " ('joven', 0.17657437920570374),\n",
       " ('leer', 0.13153597712516785),\n",
       " ('amor', 0.09734395891427994),\n",
       " ('mundo', 0.09523609280586243),\n",
       " ('dos', 0.07716967910528183),\n",
       " ('casa', 0.07701367139816284),\n",
       " ('pelicula', 0.0586714968085289),\n",
       " ('mas', 0.0527116134762764)]"
      ]
     },
     "execution_count": 277,
     "metadata": {},
     "output_type": "execute_result"
    }
   ],
   "source": [
    "mi_modelo.wv.most_similar(\"años\")"
   ]
  },
  {
   "cell_type": "code",
   "execution_count": 278,
   "metadata": {},
   "outputs": [],
   "source": [
    "#Se valida en el modelo que nos dé la palabra que no pertenece a la lista."
   ]
  },
  {
   "cell_type": "code",
   "execution_count": 279,
   "metadata": {},
   "outputs": [
    {
     "name": "stderr",
     "output_type": "stream",
     "text": [
      "C:\\Users\\ltoquica\\AppData\\Local\\Continuum\\anaconda3\\lib\\site-packages\\gensim\\models\\keyedvectors.py:877: FutureWarning:\n",
      "\n",
      "arrays to stack must be passed as a \"sequence\" type such as list or tuple. Support for non-sequence iterables such as generators is deprecated as of NumPy 1.16 and will raise an error in the future.\n",
      "\n"
     ]
    },
    {
     "data": {
      "text/plain": [
       "'amor'"
      ]
     },
     "execution_count": 279,
     "metadata": {},
     "output_type": "execute_result"
    }
   ],
   "source": [
    "mi_modelo.wv.doesnt_match([\"matrimonio\", \"años\", \"amor\"])"
   ]
  },
  {
   "cell_type": "code",
   "execution_count": 280,
   "metadata": {},
   "outputs": [
    {
     "data": {
      "text/plain": [
       "'historia'"
      ]
     },
     "execution_count": 280,
     "metadata": {},
     "output_type": "execute_result"
    }
   ],
   "source": [
    "mi_modelo.wv.doesnt_match([\"real\", \"historia\", \"hechos\"])"
   ]
  },
  {
   "cell_type": "code",
   "execution_count": 281,
   "metadata": {},
   "outputs": [
    {
     "data": {
      "text/plain": [
       "'joven'"
      ]
     },
     "execution_count": 281,
     "metadata": {},
     "output_type": "execute_result"
    }
   ],
   "source": [
    "mi_modelo.wv.doesnt_match([\"vive\", \"rebelde\", \"joven\"])"
   ]
  },
  {
   "cell_type": "code",
   "execution_count": 282,
   "metadata": {},
   "outputs": [
    {
     "data": {
      "text/plain": [
       "'historia'"
      ]
     },
     "execution_count": 282,
     "metadata": {},
     "output_type": "execute_result"
    }
   ],
   "source": [
    "mi_modelo.wv.doesnt_match([\"jovenes\", \"chico\", \"historia\"])"
   ]
  },
  {
   "cell_type": "code",
   "execution_count": 283,
   "metadata": {},
   "outputs": [
    {
     "data": {
      "text/plain": [
       "[('va', 0.23287904262542725),\n",
       " ('pelicula', 0.13370037078857422),\n",
       " ('ambos', 0.12990425527095795)]"
      ]
     },
     "execution_count": 283,
     "metadata": {},
     "output_type": "execute_result"
    }
   ],
   "source": [
    "mi_modelo.wv.most_similar(positive=[\"historia\", \"amor\"], negative=[\"mundo\"], topn=3)"
   ]
  },
  {
   "cell_type": "code",
   "execution_count": 284,
   "metadata": {},
   "outputs": [
    {
     "data": {
      "text/plain": [
       "[('decide', 0.24736323952674866),\n",
       " ('dos', 0.2107507288455963),\n",
       " ('siempre', 0.16714118421077728)]"
      ]
     },
     "execution_count": 284,
     "metadata": {},
     "output_type": "execute_result"
    }
   ],
   "source": [
    "mi_modelo.wv.most_similar(positive=[\"mundo\", \"juntos\"], negative=[\"años\"], topn=3)"
   ]
  },
  {
   "cell_type": "code",
   "execution_count": 285,
   "metadata": {},
   "outputs": [],
   "source": [
    "from sklearn.decomposition import PCA\n",
    "\n",
    "import matplotlib.pyplot as plt\n",
    "import plotly.graph_objs as go\n",
    "from plotly.offline import iplot\n",
    "\n"
   ]
  },
  {
   "cell_type": "code",
   "execution_count": 286,
   "metadata": {},
   "outputs": [],
   "source": [
    "vocab = [e[0] for e in mi_modelo.wv.most_similar(\"amor\")] + [e[0] for e in mi_modelo.wv.most_similar(\"años\")]\n",
    "\n",
    "#print(vocab)\n"
   ]
  },
  {
   "cell_type": "code",
   "execution_count": 287,
   "metadata": {},
   "outputs": [],
   "source": [
    "#len(mi_modelo[mi_modelo.wv.vocab])\n"
   ]
  },
  {
   "cell_type": "code",
   "execution_count": 288,
   "metadata": {},
   "outputs": [
    {
     "name": "stderr",
     "output_type": "stream",
     "text": [
      "C:\\Users\\ltoquica\\AppData\\Local\\Continuum\\anaconda3\\lib\\site-packages\\ipykernel_launcher.py:1: DeprecationWarning:\n",
      "\n",
      "Call to deprecated `__getitem__` (Method will be removed in 4.0.0, use self.wv.__getitem__() instead).\n",
      "\n"
     ]
    },
    {
     "data": {
      "text/html": [
       "<div>\n",
       "<style scoped>\n",
       "    .dataframe tbody tr th:only-of-type {\n",
       "        vertical-align: middle;\n",
       "    }\n",
       "\n",
       "    .dataframe tbody tr th {\n",
       "        vertical-align: top;\n",
       "    }\n",
       "\n",
       "    .dataframe thead th {\n",
       "        text-align: right;\n",
       "    }\n",
       "</style>\n",
       "<table border=\"1\" class=\"dataframe\">\n",
       "  <thead>\n",
       "    <tr style=\"text-align: right;\">\n",
       "      <th></th>\n",
       "      <th>0</th>\n",
       "      <th>1</th>\n",
       "      <th>2</th>\n",
       "      <th>3</th>\n",
       "      <th>4</th>\n",
       "      <th>5</th>\n",
       "      <th>6</th>\n",
       "      <th>7</th>\n",
       "      <th>8</th>\n",
       "      <th>9</th>\n",
       "      <th>...</th>\n",
       "      <th>90</th>\n",
       "      <th>91</th>\n",
       "      <th>92</th>\n",
       "      <th>93</th>\n",
       "      <th>94</th>\n",
       "      <th>95</th>\n",
       "      <th>96</th>\n",
       "      <th>97</th>\n",
       "      <th>98</th>\n",
       "      <th>99</th>\n",
       "    </tr>\n",
       "  </thead>\n",
       "  <tbody>\n",
       "    <tr>\n",
       "      <td>vida</td>\n",
       "      <td>0.002723</td>\n",
       "      <td>-0.002751</td>\n",
       "      <td>0.002702</td>\n",
       "      <td>0.001225</td>\n",
       "      <td>-0.003770</td>\n",
       "      <td>0.001491</td>\n",
       "      <td>0.002462</td>\n",
       "      <td>0.004116</td>\n",
       "      <td>-0.004512</td>\n",
       "      <td>0.001213</td>\n",
       "      <td>...</td>\n",
       "      <td>0.000145</td>\n",
       "      <td>-0.003443</td>\n",
       "      <td>0.001413</td>\n",
       "      <td>-0.000970</td>\n",
       "      <td>-0.004342</td>\n",
       "      <td>-0.004977</td>\n",
       "      <td>0.000706</td>\n",
       "      <td>0.001891</td>\n",
       "      <td>-0.002788</td>\n",
       "      <td>-0.003885</td>\n",
       "    </tr>\n",
       "    <tr>\n",
       "      <td>pelicula</td>\n",
       "      <td>0.003770</td>\n",
       "      <td>-0.000458</td>\n",
       "      <td>0.003918</td>\n",
       "      <td>-0.003632</td>\n",
       "      <td>-0.004885</td>\n",
       "      <td>-0.003716</td>\n",
       "      <td>-0.003986</td>\n",
       "      <td>0.004608</td>\n",
       "      <td>-0.003786</td>\n",
       "      <td>-0.002679</td>\n",
       "      <td>...</td>\n",
       "      <td>0.003316</td>\n",
       "      <td>-0.001248</td>\n",
       "      <td>-0.000863</td>\n",
       "      <td>0.002734</td>\n",
       "      <td>0.003389</td>\n",
       "      <td>-0.003992</td>\n",
       "      <td>-0.004947</td>\n",
       "      <td>-0.002677</td>\n",
       "      <td>-0.001117</td>\n",
       "      <td>0.003362</td>\n",
       "    </tr>\n",
       "    <tr>\n",
       "      <td>va</td>\n",
       "      <td>0.000310</td>\n",
       "      <td>0.004768</td>\n",
       "      <td>-0.002567</td>\n",
       "      <td>0.001010</td>\n",
       "      <td>0.002962</td>\n",
       "      <td>-0.003213</td>\n",
       "      <td>0.004784</td>\n",
       "      <td>-0.001566</td>\n",
       "      <td>0.000618</td>\n",
       "      <td>-0.004874</td>\n",
       "      <td>...</td>\n",
       "      <td>-0.000087</td>\n",
       "      <td>-0.004320</td>\n",
       "      <td>-0.005006</td>\n",
       "      <td>0.004952</td>\n",
       "      <td>0.004242</td>\n",
       "      <td>0.004767</td>\n",
       "      <td>0.002539</td>\n",
       "      <td>-0.004492</td>\n",
       "      <td>0.004719</td>\n",
       "      <td>0.003298</td>\n",
       "    </tr>\n",
       "    <tr>\n",
       "      <td>puede</td>\n",
       "      <td>0.001041</td>\n",
       "      <td>-0.003780</td>\n",
       "      <td>-0.001588</td>\n",
       "      <td>0.001333</td>\n",
       "      <td>-0.001258</td>\n",
       "      <td>0.001182</td>\n",
       "      <td>0.004670</td>\n",
       "      <td>0.001038</td>\n",
       "      <td>-0.000005</td>\n",
       "      <td>0.003097</td>\n",
       "      <td>...</td>\n",
       "      <td>-0.004869</td>\n",
       "      <td>-0.000382</td>\n",
       "      <td>-0.004971</td>\n",
       "      <td>-0.001374</td>\n",
       "      <td>-0.003805</td>\n",
       "      <td>-0.005034</td>\n",
       "      <td>-0.001673</td>\n",
       "      <td>0.003660</td>\n",
       "      <td>0.004652</td>\n",
       "      <td>0.000535</td>\n",
       "    </tr>\n",
       "    <tr>\n",
       "      <td>interesar</td>\n",
       "      <td>-0.003066</td>\n",
       "      <td>0.003440</td>\n",
       "      <td>-0.004721</td>\n",
       "      <td>0.004933</td>\n",
       "      <td>0.003515</td>\n",
       "      <td>0.002671</td>\n",
       "      <td>0.000271</td>\n",
       "      <td>0.004575</td>\n",
       "      <td>-0.000919</td>\n",
       "      <td>-0.002702</td>\n",
       "      <td>...</td>\n",
       "      <td>0.003894</td>\n",
       "      <td>-0.004634</td>\n",
       "      <td>-0.000852</td>\n",
       "      <td>0.002431</td>\n",
       "      <td>-0.001002</td>\n",
       "      <td>-0.000198</td>\n",
       "      <td>0.000493</td>\n",
       "      <td>0.004870</td>\n",
       "      <td>-0.000317</td>\n",
       "      <td>-0.005001</td>\n",
       "    </tr>\n",
       "    <tr>\n",
       "      <td>leer</td>\n",
       "      <td>-0.002209</td>\n",
       "      <td>0.000887</td>\n",
       "      <td>0.000057</td>\n",
       "      <td>0.002124</td>\n",
       "      <td>0.004530</td>\n",
       "      <td>0.001800</td>\n",
       "      <td>-0.003196</td>\n",
       "      <td>-0.000303</td>\n",
       "      <td>-0.001141</td>\n",
       "      <td>-0.003026</td>\n",
       "      <td>...</td>\n",
       "      <td>0.001367</td>\n",
       "      <td>0.001957</td>\n",
       "      <td>0.002846</td>\n",
       "      <td>0.003195</td>\n",
       "      <td>0.002925</td>\n",
       "      <td>-0.004527</td>\n",
       "      <td>0.000457</td>\n",
       "      <td>-0.002794</td>\n",
       "      <td>0.001873</td>\n",
       "      <td>0.003545</td>\n",
       "    </tr>\n",
       "    <tr>\n",
       "      <td>amor</td>\n",
       "      <td>-0.003818</td>\n",
       "      <td>0.000689</td>\n",
       "      <td>0.003494</td>\n",
       "      <td>0.000066</td>\n",
       "      <td>-0.002669</td>\n",
       "      <td>0.001202</td>\n",
       "      <td>0.001293</td>\n",
       "      <td>0.003431</td>\n",
       "      <td>0.002424</td>\n",
       "      <td>0.002970</td>\n",
       "      <td>...</td>\n",
       "      <td>0.001547</td>\n",
       "      <td>-0.002171</td>\n",
       "      <td>-0.002251</td>\n",
       "      <td>0.002990</td>\n",
       "      <td>0.004975</td>\n",
       "      <td>0.004588</td>\n",
       "      <td>-0.001825</td>\n",
       "      <td>-0.002629</td>\n",
       "      <td>-0.004381</td>\n",
       "      <td>-0.003298</td>\n",
       "    </tr>\n",
       "    <tr>\n",
       "      <td>matrimonio</td>\n",
       "      <td>-0.002212</td>\n",
       "      <td>-0.003564</td>\n",
       "      <td>0.000521</td>\n",
       "      <td>-0.003059</td>\n",
       "      <td>-0.002431</td>\n",
       "      <td>0.002759</td>\n",
       "      <td>0.003694</td>\n",
       "      <td>0.000080</td>\n",
       "      <td>0.000816</td>\n",
       "      <td>0.003511</td>\n",
       "      <td>...</td>\n",
       "      <td>0.000284</td>\n",
       "      <td>-0.000165</td>\n",
       "      <td>-0.002528</td>\n",
       "      <td>-0.004058</td>\n",
       "      <td>0.000922</td>\n",
       "      <td>-0.001496</td>\n",
       "      <td>0.000458</td>\n",
       "      <td>-0.004753</td>\n",
       "      <td>-0.004323</td>\n",
       "      <td>0.002167</td>\n",
       "    </tr>\n",
       "    <tr>\n",
       "      <td>historia</td>\n",
       "      <td>0.000304</td>\n",
       "      <td>0.000360</td>\n",
       "      <td>0.001815</td>\n",
       "      <td>-0.001924</td>\n",
       "      <td>-0.003894</td>\n",
       "      <td>0.003607</td>\n",
       "      <td>0.004291</td>\n",
       "      <td>-0.000088</td>\n",
       "      <td>-0.001927</td>\n",
       "      <td>-0.000616</td>\n",
       "      <td>...</td>\n",
       "      <td>-0.000666</td>\n",
       "      <td>0.003057</td>\n",
       "      <td>0.002548</td>\n",
       "      <td>-0.000103</td>\n",
       "      <td>-0.000348</td>\n",
       "      <td>0.000623</td>\n",
       "      <td>0.001220</td>\n",
       "      <td>0.000262</td>\n",
       "      <td>-0.000630</td>\n",
       "      <td>0.003364</td>\n",
       "    </tr>\n",
       "    <tr>\n",
       "      <td>juntos</td>\n",
       "      <td>-0.004534</td>\n",
       "      <td>-0.004843</td>\n",
       "      <td>0.001625</td>\n",
       "      <td>0.002687</td>\n",
       "      <td>0.001649</td>\n",
       "      <td>-0.002667</td>\n",
       "      <td>0.000138</td>\n",
       "      <td>-0.001932</td>\n",
       "      <td>0.000271</td>\n",
       "      <td>-0.004132</td>\n",
       "      <td>...</td>\n",
       "      <td>0.000743</td>\n",
       "      <td>0.002793</td>\n",
       "      <td>-0.000765</td>\n",
       "      <td>0.002288</td>\n",
       "      <td>-0.000226</td>\n",
       "      <td>0.002698</td>\n",
       "      <td>-0.000159</td>\n",
       "      <td>0.003104</td>\n",
       "      <td>0.002821</td>\n",
       "      <td>-0.002613</td>\n",
       "    </tr>\n",
       "    <tr>\n",
       "      <td>mas</td>\n",
       "      <td>0.000601</td>\n",
       "      <td>0.002268</td>\n",
       "      <td>0.003006</td>\n",
       "      <td>0.004826</td>\n",
       "      <td>-0.000023</td>\n",
       "      <td>0.004340</td>\n",
       "      <td>0.000322</td>\n",
       "      <td>0.001269</td>\n",
       "      <td>-0.000644</td>\n",
       "      <td>0.003092</td>\n",
       "      <td>...</td>\n",
       "      <td>0.000544</td>\n",
       "      <td>-0.004699</td>\n",
       "      <td>0.002503</td>\n",
       "      <td>-0.003858</td>\n",
       "      <td>-0.003074</td>\n",
       "      <td>-0.004073</td>\n",
       "      <td>-0.003837</td>\n",
       "      <td>0.001528</td>\n",
       "      <td>-0.004754</td>\n",
       "      <td>-0.003835</td>\n",
       "    </tr>\n",
       "    <tr>\n",
       "      <td>si</td>\n",
       "      <td>-0.002493</td>\n",
       "      <td>0.004165</td>\n",
       "      <td>-0.001623</td>\n",
       "      <td>0.001832</td>\n",
       "      <td>-0.001920</td>\n",
       "      <td>0.004673</td>\n",
       "      <td>-0.000385</td>\n",
       "      <td>0.001250</td>\n",
       "      <td>0.004779</td>\n",
       "      <td>0.000493</td>\n",
       "      <td>...</td>\n",
       "      <td>-0.004517</td>\n",
       "      <td>-0.002915</td>\n",
       "      <td>-0.003398</td>\n",
       "      <td>-0.002245</td>\n",
       "      <td>-0.004659</td>\n",
       "      <td>-0.003983</td>\n",
       "      <td>-0.004271</td>\n",
       "      <td>0.003133</td>\n",
       "      <td>0.000108</td>\n",
       "      <td>0.002533</td>\n",
       "    </tr>\n",
       "    <tr>\n",
       "      <td>tener</td>\n",
       "      <td>-0.003856</td>\n",
       "      <td>0.003427</td>\n",
       "      <td>-0.003333</td>\n",
       "      <td>-0.004949</td>\n",
       "      <td>0.003705</td>\n",
       "      <td>-0.003506</td>\n",
       "      <td>0.002995</td>\n",
       "      <td>0.002065</td>\n",
       "      <td>-0.000891</td>\n",
       "      <td>-0.000405</td>\n",
       "      <td>...</td>\n",
       "      <td>0.002722</td>\n",
       "      <td>0.004024</td>\n",
       "      <td>-0.003772</td>\n",
       "      <td>-0.004323</td>\n",
       "      <td>0.004662</td>\n",
       "      <td>0.000437</td>\n",
       "      <td>-0.003388</td>\n",
       "      <td>0.000242</td>\n",
       "      <td>0.000722</td>\n",
       "      <td>-0.002707</td>\n",
       "    </tr>\n",
       "    <tr>\n",
       "      <td>siempre</td>\n",
       "      <td>-0.004332</td>\n",
       "      <td>-0.002792</td>\n",
       "      <td>0.004949</td>\n",
       "      <td>0.002545</td>\n",
       "      <td>0.001392</td>\n",
       "      <td>-0.002600</td>\n",
       "      <td>-0.000703</td>\n",
       "      <td>0.004019</td>\n",
       "      <td>-0.003758</td>\n",
       "      <td>-0.002025</td>\n",
       "      <td>...</td>\n",
       "      <td>0.002623</td>\n",
       "      <td>0.004634</td>\n",
       "      <td>-0.002139</td>\n",
       "      <td>0.001552</td>\n",
       "      <td>-0.001758</td>\n",
       "      <td>-0.004753</td>\n",
       "      <td>-0.000546</td>\n",
       "      <td>-0.001099</td>\n",
       "      <td>-0.002061</td>\n",
       "      <td>-0.003713</td>\n",
       "    </tr>\n",
       "    <tr>\n",
       "      <td>ambos</td>\n",
       "      <td>0.002105</td>\n",
       "      <td>-0.000900</td>\n",
       "      <td>0.000352</td>\n",
       "      <td>0.004043</td>\n",
       "      <td>-0.004387</td>\n",
       "      <td>0.000876</td>\n",
       "      <td>0.003582</td>\n",
       "      <td>-0.001566</td>\n",
       "      <td>-0.003411</td>\n",
       "      <td>-0.003870</td>\n",
       "      <td>...</td>\n",
       "      <td>-0.003040</td>\n",
       "      <td>-0.004207</td>\n",
       "      <td>0.002286</td>\n",
       "      <td>-0.004174</td>\n",
       "      <td>0.003750</td>\n",
       "      <td>-0.001085</td>\n",
       "      <td>-0.001781</td>\n",
       "      <td>0.001642</td>\n",
       "      <td>-0.001989</td>\n",
       "      <td>0.001331</td>\n",
       "    </tr>\n",
       "    <tr>\n",
       "      <td>años</td>\n",
       "      <td>-0.002467</td>\n",
       "      <td>-0.000298</td>\n",
       "      <td>-0.004132</td>\n",
       "      <td>-0.003950</td>\n",
       "      <td>-0.002717</td>\n",
       "      <td>0.000608</td>\n",
       "      <td>0.000837</td>\n",
       "      <td>-0.000207</td>\n",
       "      <td>-0.002263</td>\n",
       "      <td>0.003698</td>\n",
       "      <td>...</td>\n",
       "      <td>-0.001684</td>\n",
       "      <td>-0.000365</td>\n",
       "      <td>-0.000813</td>\n",
       "      <td>-0.000801</td>\n",
       "      <td>-0.002261</td>\n",
       "      <td>-0.002701</td>\n",
       "      <td>-0.002578</td>\n",
       "      <td>-0.002302</td>\n",
       "      <td>-0.000609</td>\n",
       "      <td>0.000754</td>\n",
       "    </tr>\n",
       "    <tr>\n",
       "      <td>encuentra</td>\n",
       "      <td>-0.002003</td>\n",
       "      <td>0.001283</td>\n",
       "      <td>-0.001682</td>\n",
       "      <td>-0.002876</td>\n",
       "      <td>-0.000732</td>\n",
       "      <td>-0.003327</td>\n",
       "      <td>-0.002423</td>\n",
       "      <td>0.001979</td>\n",
       "      <td>-0.003309</td>\n",
       "      <td>-0.004323</td>\n",
       "      <td>...</td>\n",
       "      <td>-0.001852</td>\n",
       "      <td>-0.002490</td>\n",
       "      <td>-0.002689</td>\n",
       "      <td>-0.003203</td>\n",
       "      <td>0.004147</td>\n",
       "      <td>0.004046</td>\n",
       "      <td>0.004881</td>\n",
       "      <td>0.001387</td>\n",
       "      <td>0.001793</td>\n",
       "      <td>-0.004534</td>\n",
       "    </tr>\n",
       "    <tr>\n",
       "      <td>dos</td>\n",
       "      <td>-0.001161</td>\n",
       "      <td>-0.004883</td>\n",
       "      <td>-0.000719</td>\n",
       "      <td>0.000847</td>\n",
       "      <td>0.002485</td>\n",
       "      <td>-0.003894</td>\n",
       "      <td>0.002658</td>\n",
       "      <td>-0.001844</td>\n",
       "      <td>-0.004198</td>\n",
       "      <td>0.000542</td>\n",
       "      <td>...</td>\n",
       "      <td>-0.004429</td>\n",
       "      <td>0.001179</td>\n",
       "      <td>-0.001724</td>\n",
       "      <td>0.003481</td>\n",
       "      <td>-0.003155</td>\n",
       "      <td>-0.000477</td>\n",
       "      <td>0.002087</td>\n",
       "      <td>0.000918</td>\n",
       "      <td>0.000614</td>\n",
       "      <td>0.001584</td>\n",
       "    </tr>\n",
       "    <tr>\n",
       "      <td>nuevo</td>\n",
       "      <td>-0.003076</td>\n",
       "      <td>-0.003946</td>\n",
       "      <td>0.004960</td>\n",
       "      <td>0.001298</td>\n",
       "      <td>0.004876</td>\n",
       "      <td>-0.003913</td>\n",
       "      <td>0.003117</td>\n",
       "      <td>-0.004240</td>\n",
       "      <td>-0.001848</td>\n",
       "      <td>-0.003454</td>\n",
       "      <td>...</td>\n",
       "      <td>0.004588</td>\n",
       "      <td>0.000277</td>\n",
       "      <td>-0.000340</td>\n",
       "      <td>-0.001037</td>\n",
       "      <td>0.004119</td>\n",
       "      <td>-0.003537</td>\n",
       "      <td>-0.004508</td>\n",
       "      <td>-0.004564</td>\n",
       "      <td>-0.000253</td>\n",
       "      <td>0.000749</td>\n",
       "    </tr>\n",
       "    <tr>\n",
       "      <td>nueva</td>\n",
       "      <td>0.000724</td>\n",
       "      <td>0.004635</td>\n",
       "      <td>0.000922</td>\n",
       "      <td>-0.000720</td>\n",
       "      <td>-0.002907</td>\n",
       "      <td>0.002811</td>\n",
       "      <td>-0.003509</td>\n",
       "      <td>-0.003058</td>\n",
       "      <td>-0.004978</td>\n",
       "      <td>-0.000802</td>\n",
       "      <td>...</td>\n",
       "      <td>-0.003694</td>\n",
       "      <td>-0.002019</td>\n",
       "      <td>-0.001568</td>\n",
       "      <td>-0.001616</td>\n",
       "      <td>-0.002859</td>\n",
       "      <td>-0.001918</td>\n",
       "      <td>0.000390</td>\n",
       "      <td>0.002466</td>\n",
       "      <td>0.004312</td>\n",
       "      <td>0.000505</td>\n",
       "    </tr>\n",
       "    <tr>\n",
       "      <td>joven</td>\n",
       "      <td>0.000934</td>\n",
       "      <td>-0.000169</td>\n",
       "      <td>0.004598</td>\n",
       "      <td>-0.002176</td>\n",
       "      <td>0.002017</td>\n",
       "      <td>-0.004149</td>\n",
       "      <td>0.003755</td>\n",
       "      <td>0.000723</td>\n",
       "      <td>0.003369</td>\n",
       "      <td>0.004156</td>\n",
       "      <td>...</td>\n",
       "      <td>0.000831</td>\n",
       "      <td>0.002459</td>\n",
       "      <td>0.001687</td>\n",
       "      <td>-0.002132</td>\n",
       "      <td>-0.003981</td>\n",
       "      <td>-0.001453</td>\n",
       "      <td>0.001960</td>\n",
       "      <td>0.001510</td>\n",
       "      <td>-0.004335</td>\n",
       "      <td>0.000865</td>\n",
       "    </tr>\n",
       "    <tr>\n",
       "      <td>mundo</td>\n",
       "      <td>0.000948</td>\n",
       "      <td>-0.000811</td>\n",
       "      <td>-0.000853</td>\n",
       "      <td>0.002981</td>\n",
       "      <td>-0.002745</td>\n",
       "      <td>0.003032</td>\n",
       "      <td>-0.002246</td>\n",
       "      <td>-0.004778</td>\n",
       "      <td>-0.003100</td>\n",
       "      <td>-0.000849</td>\n",
       "      <td>...</td>\n",
       "      <td>0.004291</td>\n",
       "      <td>-0.001981</td>\n",
       "      <td>-0.000400</td>\n",
       "      <td>-0.001580</td>\n",
       "      <td>-0.002728</td>\n",
       "      <td>0.000893</td>\n",
       "      <td>0.002035</td>\n",
       "      <td>-0.002413</td>\n",
       "      <td>0.004207</td>\n",
       "      <td>-0.002224</td>\n",
       "    </tr>\n",
       "    <tr>\n",
       "      <td>casa</td>\n",
       "      <td>0.003220</td>\n",
       "      <td>0.001744</td>\n",
       "      <td>-0.004716</td>\n",
       "      <td>-0.000872</td>\n",
       "      <td>0.002369</td>\n",
       "      <td>0.003895</td>\n",
       "      <td>-0.002123</td>\n",
       "      <td>-0.002655</td>\n",
       "      <td>-0.001721</td>\n",
       "      <td>0.004700</td>\n",
       "      <td>...</td>\n",
       "      <td>-0.001925</td>\n",
       "      <td>0.000968</td>\n",
       "      <td>0.000366</td>\n",
       "      <td>0.003236</td>\n",
       "      <td>0.000872</td>\n",
       "      <td>0.004820</td>\n",
       "      <td>0.001305</td>\n",
       "      <td>0.003584</td>\n",
       "      <td>-0.000310</td>\n",
       "      <td>0.002812</td>\n",
       "    </tr>\n",
       "    <tr>\n",
       "      <td>decide</td>\n",
       "      <td>-0.001435</td>\n",
       "      <td>-0.003221</td>\n",
       "      <td>-0.004378</td>\n",
       "      <td>0.003453</td>\n",
       "      <td>-0.003769</td>\n",
       "      <td>0.001156</td>\n",
       "      <td>-0.001969</td>\n",
       "      <td>-0.004748</td>\n",
       "      <td>-0.004430</td>\n",
       "      <td>-0.004367</td>\n",
       "      <td>...</td>\n",
       "      <td>-0.003141</td>\n",
       "      <td>-0.003203</td>\n",
       "      <td>0.004777</td>\n",
       "      <td>0.001652</td>\n",
       "      <td>-0.002228</td>\n",
       "      <td>0.002819</td>\n",
       "      <td>0.000143</td>\n",
       "      <td>0.004694</td>\n",
       "      <td>0.001085</td>\n",
       "      <td>-0.003621</td>\n",
       "    </tr>\n",
       "  </tbody>\n",
       "</table>\n",
       "<p>24 rows × 100 columns</p>\n",
       "</div>"
      ],
      "text/plain": [
       "                  0         1         2         3         4         5   \\\n",
       "vida        0.002723 -0.002751  0.002702  0.001225 -0.003770  0.001491   \n",
       "pelicula    0.003770 -0.000458  0.003918 -0.003632 -0.004885 -0.003716   \n",
       "va          0.000310  0.004768 -0.002567  0.001010  0.002962 -0.003213   \n",
       "puede       0.001041 -0.003780 -0.001588  0.001333 -0.001258  0.001182   \n",
       "interesar  -0.003066  0.003440 -0.004721  0.004933  0.003515  0.002671   \n",
       "leer       -0.002209  0.000887  0.000057  0.002124  0.004530  0.001800   \n",
       "amor       -0.003818  0.000689  0.003494  0.000066 -0.002669  0.001202   \n",
       "matrimonio -0.002212 -0.003564  0.000521 -0.003059 -0.002431  0.002759   \n",
       "historia    0.000304  0.000360  0.001815 -0.001924 -0.003894  0.003607   \n",
       "juntos     -0.004534 -0.004843  0.001625  0.002687  0.001649 -0.002667   \n",
       "mas         0.000601  0.002268  0.003006  0.004826 -0.000023  0.004340   \n",
       "si         -0.002493  0.004165 -0.001623  0.001832 -0.001920  0.004673   \n",
       "tener      -0.003856  0.003427 -0.003333 -0.004949  0.003705 -0.003506   \n",
       "siempre    -0.004332 -0.002792  0.004949  0.002545  0.001392 -0.002600   \n",
       "ambos       0.002105 -0.000900  0.000352  0.004043 -0.004387  0.000876   \n",
       "años       -0.002467 -0.000298 -0.004132 -0.003950 -0.002717  0.000608   \n",
       "encuentra  -0.002003  0.001283 -0.001682 -0.002876 -0.000732 -0.003327   \n",
       "dos        -0.001161 -0.004883 -0.000719  0.000847  0.002485 -0.003894   \n",
       "nuevo      -0.003076 -0.003946  0.004960  0.001298  0.004876 -0.003913   \n",
       "nueva       0.000724  0.004635  0.000922 -0.000720 -0.002907  0.002811   \n",
       "joven       0.000934 -0.000169  0.004598 -0.002176  0.002017 -0.004149   \n",
       "mundo       0.000948 -0.000811 -0.000853  0.002981 -0.002745  0.003032   \n",
       "casa        0.003220  0.001744 -0.004716 -0.000872  0.002369  0.003895   \n",
       "decide     -0.001435 -0.003221 -0.004378  0.003453 -0.003769  0.001156   \n",
       "\n",
       "                  6         7         8         9   ...        90        91  \\\n",
       "vida        0.002462  0.004116 -0.004512  0.001213  ...  0.000145 -0.003443   \n",
       "pelicula   -0.003986  0.004608 -0.003786 -0.002679  ...  0.003316 -0.001248   \n",
       "va          0.004784 -0.001566  0.000618 -0.004874  ... -0.000087 -0.004320   \n",
       "puede       0.004670  0.001038 -0.000005  0.003097  ... -0.004869 -0.000382   \n",
       "interesar   0.000271  0.004575 -0.000919 -0.002702  ...  0.003894 -0.004634   \n",
       "leer       -0.003196 -0.000303 -0.001141 -0.003026  ...  0.001367  0.001957   \n",
       "amor        0.001293  0.003431  0.002424  0.002970  ...  0.001547 -0.002171   \n",
       "matrimonio  0.003694  0.000080  0.000816  0.003511  ...  0.000284 -0.000165   \n",
       "historia    0.004291 -0.000088 -0.001927 -0.000616  ... -0.000666  0.003057   \n",
       "juntos      0.000138 -0.001932  0.000271 -0.004132  ...  0.000743  0.002793   \n",
       "mas         0.000322  0.001269 -0.000644  0.003092  ...  0.000544 -0.004699   \n",
       "si         -0.000385  0.001250  0.004779  0.000493  ... -0.004517 -0.002915   \n",
       "tener       0.002995  0.002065 -0.000891 -0.000405  ...  0.002722  0.004024   \n",
       "siempre    -0.000703  0.004019 -0.003758 -0.002025  ...  0.002623  0.004634   \n",
       "ambos       0.003582 -0.001566 -0.003411 -0.003870  ... -0.003040 -0.004207   \n",
       "años        0.000837 -0.000207 -0.002263  0.003698  ... -0.001684 -0.000365   \n",
       "encuentra  -0.002423  0.001979 -0.003309 -0.004323  ... -0.001852 -0.002490   \n",
       "dos         0.002658 -0.001844 -0.004198  0.000542  ... -0.004429  0.001179   \n",
       "nuevo       0.003117 -0.004240 -0.001848 -0.003454  ...  0.004588  0.000277   \n",
       "nueva      -0.003509 -0.003058 -0.004978 -0.000802  ... -0.003694 -0.002019   \n",
       "joven       0.003755  0.000723  0.003369  0.004156  ...  0.000831  0.002459   \n",
       "mundo      -0.002246 -0.004778 -0.003100 -0.000849  ...  0.004291 -0.001981   \n",
       "casa       -0.002123 -0.002655 -0.001721  0.004700  ... -0.001925  0.000968   \n",
       "decide     -0.001969 -0.004748 -0.004430 -0.004367  ... -0.003141 -0.003203   \n",
       "\n",
       "                  92        93        94        95        96        97  \\\n",
       "vida        0.001413 -0.000970 -0.004342 -0.004977  0.000706  0.001891   \n",
       "pelicula   -0.000863  0.002734  0.003389 -0.003992 -0.004947 -0.002677   \n",
       "va         -0.005006  0.004952  0.004242  0.004767  0.002539 -0.004492   \n",
       "puede      -0.004971 -0.001374 -0.003805 -0.005034 -0.001673  0.003660   \n",
       "interesar  -0.000852  0.002431 -0.001002 -0.000198  0.000493  0.004870   \n",
       "leer        0.002846  0.003195  0.002925 -0.004527  0.000457 -0.002794   \n",
       "amor       -0.002251  0.002990  0.004975  0.004588 -0.001825 -0.002629   \n",
       "matrimonio -0.002528 -0.004058  0.000922 -0.001496  0.000458 -0.004753   \n",
       "historia    0.002548 -0.000103 -0.000348  0.000623  0.001220  0.000262   \n",
       "juntos     -0.000765  0.002288 -0.000226  0.002698 -0.000159  0.003104   \n",
       "mas         0.002503 -0.003858 -0.003074 -0.004073 -0.003837  0.001528   \n",
       "si         -0.003398 -0.002245 -0.004659 -0.003983 -0.004271  0.003133   \n",
       "tener      -0.003772 -0.004323  0.004662  0.000437 -0.003388  0.000242   \n",
       "siempre    -0.002139  0.001552 -0.001758 -0.004753 -0.000546 -0.001099   \n",
       "ambos       0.002286 -0.004174  0.003750 -0.001085 -0.001781  0.001642   \n",
       "años       -0.000813 -0.000801 -0.002261 -0.002701 -0.002578 -0.002302   \n",
       "encuentra  -0.002689 -0.003203  0.004147  0.004046  0.004881  0.001387   \n",
       "dos        -0.001724  0.003481 -0.003155 -0.000477  0.002087  0.000918   \n",
       "nuevo      -0.000340 -0.001037  0.004119 -0.003537 -0.004508 -0.004564   \n",
       "nueva      -0.001568 -0.001616 -0.002859 -0.001918  0.000390  0.002466   \n",
       "joven       0.001687 -0.002132 -0.003981 -0.001453  0.001960  0.001510   \n",
       "mundo      -0.000400 -0.001580 -0.002728  0.000893  0.002035 -0.002413   \n",
       "casa        0.000366  0.003236  0.000872  0.004820  0.001305  0.003584   \n",
       "decide      0.004777  0.001652 -0.002228  0.002819  0.000143  0.004694   \n",
       "\n",
       "                  98        99  \n",
       "vida       -0.002788 -0.003885  \n",
       "pelicula   -0.001117  0.003362  \n",
       "va          0.004719  0.003298  \n",
       "puede       0.004652  0.000535  \n",
       "interesar  -0.000317 -0.005001  \n",
       "leer        0.001873  0.003545  \n",
       "amor       -0.004381 -0.003298  \n",
       "matrimonio -0.004323  0.002167  \n",
       "historia   -0.000630  0.003364  \n",
       "juntos      0.002821 -0.002613  \n",
       "mas        -0.004754 -0.003835  \n",
       "si          0.000108  0.002533  \n",
       "tener       0.000722 -0.002707  \n",
       "siempre    -0.002061 -0.003713  \n",
       "ambos      -0.001989  0.001331  \n",
       "años       -0.000609  0.000754  \n",
       "encuentra   0.001793 -0.004534  \n",
       "dos         0.000614  0.001584  \n",
       "nuevo      -0.000253  0.000749  \n",
       "nueva       0.004312  0.000505  \n",
       "joven      -0.004335  0.000865  \n",
       "mundo       0.004207 -0.002224  \n",
       "casa       -0.000310  0.002812  \n",
       "decide      0.001085 -0.003621  \n",
       "\n",
       "[24 rows x 100 columns]"
      ]
     },
     "execution_count": 288,
     "metadata": {},
     "output_type": "execute_result"
    }
   ],
   "source": [
    "X = mi_modelo[mi_modelo.wv.vocab]\n",
    "matrix = pd.DataFrame(X)\n",
    "matrix.index = mi_modelo.wv.vocab.keys()\n",
    "matrix"
   ]
  },
  {
   "cell_type": "code",
   "execution_count": 289,
   "metadata": {},
   "outputs": [
    {
     "data": {
      "text/html": [
       "<div>\n",
       "<style scoped>\n",
       "    .dataframe tbody tr th:only-of-type {\n",
       "        vertical-align: middle;\n",
       "    }\n",
       "\n",
       "    .dataframe tbody tr th {\n",
       "        vertical-align: top;\n",
       "    }\n",
       "\n",
       "    .dataframe thead th {\n",
       "        text-align: right;\n",
       "    }\n",
       "</style>\n",
       "<table border=\"1\" class=\"dataframe\">\n",
       "  <thead>\n",
       "    <tr style=\"text-align: right;\">\n",
       "      <th></th>\n",
       "      <th>X</th>\n",
       "      <th>Y</th>\n",
       "      <th>Palabra</th>\n",
       "    </tr>\n",
       "  </thead>\n",
       "  <tbody>\n",
       "    <tr>\n",
       "      <td>0</td>\n",
       "      <td>0.009814</td>\n",
       "      <td>-0.000452</td>\n",
       "      <td>vida</td>\n",
       "    </tr>\n",
       "    <tr>\n",
       "      <td>1</td>\n",
       "      <td>0.005093</td>\n",
       "      <td>-0.009210</td>\n",
       "      <td>pelicula</td>\n",
       "    </tr>\n",
       "    <tr>\n",
       "      <td>2</td>\n",
       "      <td>0.008742</td>\n",
       "      <td>0.000182</td>\n",
       "      <td>va</td>\n",
       "    </tr>\n",
       "    <tr>\n",
       "      <td>3</td>\n",
       "      <td>-0.008655</td>\n",
       "      <td>0.001777</td>\n",
       "      <td>puede</td>\n",
       "    </tr>\n",
       "    <tr>\n",
       "      <td>4</td>\n",
       "      <td>-0.009436</td>\n",
       "      <td>0.000946</td>\n",
       "      <td>interesar</td>\n",
       "    </tr>\n",
       "    <tr>\n",
       "      <td>5</td>\n",
       "      <td>-0.003373</td>\n",
       "      <td>-0.006250</td>\n",
       "      <td>leer</td>\n",
       "    </tr>\n",
       "    <tr>\n",
       "      <td>6</td>\n",
       "      <td>0.011248</td>\n",
       "      <td>-0.002464</td>\n",
       "      <td>amor</td>\n",
       "    </tr>\n",
       "    <tr>\n",
       "      <td>7</td>\n",
       "      <td>0.013379</td>\n",
       "      <td>0.005991</td>\n",
       "      <td>matrimonio</td>\n",
       "    </tr>\n",
       "    <tr>\n",
       "      <td>8</td>\n",
       "      <td>-0.008610</td>\n",
       "      <td>0.002828</td>\n",
       "      <td>historia</td>\n",
       "    </tr>\n",
       "    <tr>\n",
       "      <td>9</td>\n",
       "      <td>0.001741</td>\n",
       "      <td>-0.017767</td>\n",
       "      <td>juntos</td>\n",
       "    </tr>\n",
       "    <tr>\n",
       "      <td>10</td>\n",
       "      <td>-0.007505</td>\n",
       "      <td>0.008344</td>\n",
       "      <td>mas</td>\n",
       "    </tr>\n",
       "    <tr>\n",
       "      <td>11</td>\n",
       "      <td>-0.006037</td>\n",
       "      <td>0.017887</td>\n",
       "      <td>si</td>\n",
       "    </tr>\n",
       "    <tr>\n",
       "      <td>12</td>\n",
       "      <td>0.006057</td>\n",
       "      <td>-0.005123</td>\n",
       "      <td>tener</td>\n",
       "    </tr>\n",
       "    <tr>\n",
       "      <td>13</td>\n",
       "      <td>0.003907</td>\n",
       "      <td>-0.010215</td>\n",
       "      <td>siempre</td>\n",
       "    </tr>\n",
       "    <tr>\n",
       "      <td>14</td>\n",
       "      <td>0.005257</td>\n",
       "      <td>0.005706</td>\n",
       "      <td>ambos</td>\n",
       "    </tr>\n",
       "    <tr>\n",
       "      <td>15</td>\n",
       "      <td>0.000348</td>\n",
       "      <td>0.007386</td>\n",
       "      <td>años</td>\n",
       "    </tr>\n",
       "    <tr>\n",
       "      <td>16</td>\n",
       "      <td>0.001060</td>\n",
       "      <td>-0.007003</td>\n",
       "      <td>encuentra</td>\n",
       "    </tr>\n",
       "    <tr>\n",
       "      <td>17</td>\n",
       "      <td>-0.006508</td>\n",
       "      <td>-0.009272</td>\n",
       "      <td>dos</td>\n",
       "    </tr>\n",
       "    <tr>\n",
       "      <td>18</td>\n",
       "      <td>-0.002713</td>\n",
       "      <td>-0.003615</td>\n",
       "      <td>nuevo</td>\n",
       "    </tr>\n",
       "    <tr>\n",
       "      <td>19</td>\n",
       "      <td>-0.010950</td>\n",
       "      <td>0.010069</td>\n",
       "      <td>nueva</td>\n",
       "    </tr>\n",
       "    <tr>\n",
       "      <td>20</td>\n",
       "      <td>0.017719</td>\n",
       "      <td>0.007209</td>\n",
       "      <td>joven</td>\n",
       "    </tr>\n",
       "    <tr>\n",
       "      <td>21</td>\n",
       "      <td>-0.012669</td>\n",
       "      <td>-0.004806</td>\n",
       "      <td>mundo</td>\n",
       "    </tr>\n",
       "    <tr>\n",
       "      <td>22</td>\n",
       "      <td>0.005207</td>\n",
       "      <td>0.012372</td>\n",
       "      <td>casa</td>\n",
       "    </tr>\n",
       "    <tr>\n",
       "      <td>23</td>\n",
       "      <td>-0.013116</td>\n",
       "      <td>-0.004519</td>\n",
       "      <td>decide</td>\n",
       "    </tr>\n",
       "  </tbody>\n",
       "</table>\n",
       "</div>"
      ],
      "text/plain": [
       "           X         Y     Palabra\n",
       "0   0.009814 -0.000452        vida\n",
       "1   0.005093 -0.009210    pelicula\n",
       "2   0.008742  0.000182          va\n",
       "3  -0.008655  0.001777       puede\n",
       "4  -0.009436  0.000946   interesar\n",
       "5  -0.003373 -0.006250        leer\n",
       "6   0.011248 -0.002464        amor\n",
       "7   0.013379  0.005991  matrimonio\n",
       "8  -0.008610  0.002828    historia\n",
       "9   0.001741 -0.017767      juntos\n",
       "10 -0.007505  0.008344         mas\n",
       "11 -0.006037  0.017887          si\n",
       "12  0.006057 -0.005123       tener\n",
       "13  0.003907 -0.010215     siempre\n",
       "14  0.005257  0.005706       ambos\n",
       "15  0.000348  0.007386        años\n",
       "16  0.001060 -0.007003   encuentra\n",
       "17 -0.006508 -0.009272         dos\n",
       "18 -0.002713 -0.003615       nuevo\n",
       "19 -0.010950  0.010069       nueva\n",
       "20  0.017719  0.007209       joven\n",
       "21 -0.012669 -0.004806       mundo\n",
       "22  0.005207  0.012372        casa\n",
       "23 -0.013116 -0.004519      decide"
      ]
     },
     "execution_count": 289,
     "metadata": {},
     "output_type": "execute_result"
    }
   ],
   "source": [
    "pca = PCA(n_components=2) \n",
    "\n",
    "result = pca.fit_transform(matrix)\n",
    "result = pd.DataFrame(result)\n",
    "result.columns = ['X', 'Y']\n",
    "result['Palabra'] = matrix.index.values\n",
    "\n",
    "result"
   ]
  },
  {
   "cell_type": "code",
   "execution_count": 290,
   "metadata": {},
   "outputs": [
    {
     "data": {
      "application/vnd.plotly.v1+json": {
       "config": {
        "linkText": "Export to plot.ly",
        "plotlyServerURL": "https://plot.ly",
        "showLink": false
       },
       "data": [
        {
         "mode": "markers",
         "text": [
          "vida",
          "pelicula",
          "va",
          "puede",
          "interesar",
          "leer",
          "amor",
          "matrimonio",
          "historia",
          "juntos",
          "mas",
          "si",
          "tener",
          "siempre",
          "ambos",
          "años",
          "encuentra",
          "dos",
          "nuevo",
          "nueva",
          "joven",
          "mundo",
          "casa",
          "decide"
         ],
         "type": "scatter",
         "x": [
          0.009813759125978323,
          0.005092923938048807,
          0.008741901282275245,
          -0.008654962836596456,
          -0.00943569266262424,
          -0.0033729414959433766,
          0.011247544578459102,
          0.013378919851545443,
          -0.008609863600058835,
          0.0017407468476894887,
          -0.007504502256275299,
          -0.006036516264758105,
          0.006057057863479037,
          0.00390683783191238,
          0.005256772177210207,
          0.0003479124359193782,
          0.0010599993426826276,
          -0.006508274573881233,
          -0.0027131753926891836,
          -0.010950050217055068,
          0.01771897062628889,
          -0.012668556320713563,
          0.005206708418293294,
          -0.01311551869918685
         ],
         "y": [
          -0.0004524528023835861,
          -0.009209880610912553,
          0.000181610530040619,
          0.0017772851212919702,
          0.0009460794170377691,
          -0.006250183218937366,
          -0.0024640775731448517,
          0.005991412057989587,
          0.0028276916644979022,
          -0.01776728675320089,
          0.008344021920370634,
          0.01788651992775806,
          -0.005122673480582524,
          -0.010215136678117735,
          0.005705899819986641,
          0.007385577143627311,
          -0.007003214770748996,
          -0.009271515938565707,
          -0.0036148045708369212,
          0.01006944887302301,
          0.007209359215769055,
          -0.0048063377141486984,
          0.012371551182377353,
          -0.004518892762190082
         ]
        }
       ],
       "layout": {
        "template": {
         "data": {
          "bar": [
           {
            "error_x": {
             "color": "#2a3f5f"
            },
            "error_y": {
             "color": "#2a3f5f"
            },
            "marker": {
             "line": {
              "color": "#E5ECF6",
              "width": 0.5
             }
            },
            "type": "bar"
           }
          ],
          "barpolar": [
           {
            "marker": {
             "line": {
              "color": "#E5ECF6",
              "width": 0.5
             }
            },
            "type": "barpolar"
           }
          ],
          "carpet": [
           {
            "aaxis": {
             "endlinecolor": "#2a3f5f",
             "gridcolor": "white",
             "linecolor": "white",
             "minorgridcolor": "white",
             "startlinecolor": "#2a3f5f"
            },
            "baxis": {
             "endlinecolor": "#2a3f5f",
             "gridcolor": "white",
             "linecolor": "white",
             "minorgridcolor": "white",
             "startlinecolor": "#2a3f5f"
            },
            "type": "carpet"
           }
          ],
          "choropleth": [
           {
            "colorbar": {
             "outlinewidth": 0,
             "ticks": ""
            },
            "type": "choropleth"
           }
          ],
          "contour": [
           {
            "colorbar": {
             "outlinewidth": 0,
             "ticks": ""
            },
            "colorscale": [
             [
              0,
              "#0d0887"
             ],
             [
              0.1111111111111111,
              "#46039f"
             ],
             [
              0.2222222222222222,
              "#7201a8"
             ],
             [
              0.3333333333333333,
              "#9c179e"
             ],
             [
              0.4444444444444444,
              "#bd3786"
             ],
             [
              0.5555555555555556,
              "#d8576b"
             ],
             [
              0.6666666666666666,
              "#ed7953"
             ],
             [
              0.7777777777777778,
              "#fb9f3a"
             ],
             [
              0.8888888888888888,
              "#fdca26"
             ],
             [
              1,
              "#f0f921"
             ]
            ],
            "type": "contour"
           }
          ],
          "contourcarpet": [
           {
            "colorbar": {
             "outlinewidth": 0,
             "ticks": ""
            },
            "type": "contourcarpet"
           }
          ],
          "heatmap": [
           {
            "colorbar": {
             "outlinewidth": 0,
             "ticks": ""
            },
            "colorscale": [
             [
              0,
              "#0d0887"
             ],
             [
              0.1111111111111111,
              "#46039f"
             ],
             [
              0.2222222222222222,
              "#7201a8"
             ],
             [
              0.3333333333333333,
              "#9c179e"
             ],
             [
              0.4444444444444444,
              "#bd3786"
             ],
             [
              0.5555555555555556,
              "#d8576b"
             ],
             [
              0.6666666666666666,
              "#ed7953"
             ],
             [
              0.7777777777777778,
              "#fb9f3a"
             ],
             [
              0.8888888888888888,
              "#fdca26"
             ],
             [
              1,
              "#f0f921"
             ]
            ],
            "type": "heatmap"
           }
          ],
          "heatmapgl": [
           {
            "colorbar": {
             "outlinewidth": 0,
             "ticks": ""
            },
            "colorscale": [
             [
              0,
              "#0d0887"
             ],
             [
              0.1111111111111111,
              "#46039f"
             ],
             [
              0.2222222222222222,
              "#7201a8"
             ],
             [
              0.3333333333333333,
              "#9c179e"
             ],
             [
              0.4444444444444444,
              "#bd3786"
             ],
             [
              0.5555555555555556,
              "#d8576b"
             ],
             [
              0.6666666666666666,
              "#ed7953"
             ],
             [
              0.7777777777777778,
              "#fb9f3a"
             ],
             [
              0.8888888888888888,
              "#fdca26"
             ],
             [
              1,
              "#f0f921"
             ]
            ],
            "type": "heatmapgl"
           }
          ],
          "histogram": [
           {
            "marker": {
             "colorbar": {
              "outlinewidth": 0,
              "ticks": ""
             }
            },
            "type": "histogram"
           }
          ],
          "histogram2d": [
           {
            "colorbar": {
             "outlinewidth": 0,
             "ticks": ""
            },
            "colorscale": [
             [
              0,
              "#0d0887"
             ],
             [
              0.1111111111111111,
              "#46039f"
             ],
             [
              0.2222222222222222,
              "#7201a8"
             ],
             [
              0.3333333333333333,
              "#9c179e"
             ],
             [
              0.4444444444444444,
              "#bd3786"
             ],
             [
              0.5555555555555556,
              "#d8576b"
             ],
             [
              0.6666666666666666,
              "#ed7953"
             ],
             [
              0.7777777777777778,
              "#fb9f3a"
             ],
             [
              0.8888888888888888,
              "#fdca26"
             ],
             [
              1,
              "#f0f921"
             ]
            ],
            "type": "histogram2d"
           }
          ],
          "histogram2dcontour": [
           {
            "colorbar": {
             "outlinewidth": 0,
             "ticks": ""
            },
            "colorscale": [
             [
              0,
              "#0d0887"
             ],
             [
              0.1111111111111111,
              "#46039f"
             ],
             [
              0.2222222222222222,
              "#7201a8"
             ],
             [
              0.3333333333333333,
              "#9c179e"
             ],
             [
              0.4444444444444444,
              "#bd3786"
             ],
             [
              0.5555555555555556,
              "#d8576b"
             ],
             [
              0.6666666666666666,
              "#ed7953"
             ],
             [
              0.7777777777777778,
              "#fb9f3a"
             ],
             [
              0.8888888888888888,
              "#fdca26"
             ],
             [
              1,
              "#f0f921"
             ]
            ],
            "type": "histogram2dcontour"
           }
          ],
          "mesh3d": [
           {
            "colorbar": {
             "outlinewidth": 0,
             "ticks": ""
            },
            "type": "mesh3d"
           }
          ],
          "parcoords": [
           {
            "line": {
             "colorbar": {
              "outlinewidth": 0,
              "ticks": ""
             }
            },
            "type": "parcoords"
           }
          ],
          "pie": [
           {
            "automargin": true,
            "type": "pie"
           }
          ],
          "scatter": [
           {
            "marker": {
             "colorbar": {
              "outlinewidth": 0,
              "ticks": ""
             }
            },
            "type": "scatter"
           }
          ],
          "scatter3d": [
           {
            "line": {
             "colorbar": {
              "outlinewidth": 0,
              "ticks": ""
             }
            },
            "marker": {
             "colorbar": {
              "outlinewidth": 0,
              "ticks": ""
             }
            },
            "type": "scatter3d"
           }
          ],
          "scattercarpet": [
           {
            "marker": {
             "colorbar": {
              "outlinewidth": 0,
              "ticks": ""
             }
            },
            "type": "scattercarpet"
           }
          ],
          "scattergeo": [
           {
            "marker": {
             "colorbar": {
              "outlinewidth": 0,
              "ticks": ""
             }
            },
            "type": "scattergeo"
           }
          ],
          "scattergl": [
           {
            "marker": {
             "colorbar": {
              "outlinewidth": 0,
              "ticks": ""
             }
            },
            "type": "scattergl"
           }
          ],
          "scattermapbox": [
           {
            "marker": {
             "colorbar": {
              "outlinewidth": 0,
              "ticks": ""
             }
            },
            "type": "scattermapbox"
           }
          ],
          "scatterpolar": [
           {
            "marker": {
             "colorbar": {
              "outlinewidth": 0,
              "ticks": ""
             }
            },
            "type": "scatterpolar"
           }
          ],
          "scatterpolargl": [
           {
            "marker": {
             "colorbar": {
              "outlinewidth": 0,
              "ticks": ""
             }
            },
            "type": "scatterpolargl"
           }
          ],
          "scatterternary": [
           {
            "marker": {
             "colorbar": {
              "outlinewidth": 0,
              "ticks": ""
             }
            },
            "type": "scatterternary"
           }
          ],
          "surface": [
           {
            "colorbar": {
             "outlinewidth": 0,
             "ticks": ""
            },
            "colorscale": [
             [
              0,
              "#0d0887"
             ],
             [
              0.1111111111111111,
              "#46039f"
             ],
             [
              0.2222222222222222,
              "#7201a8"
             ],
             [
              0.3333333333333333,
              "#9c179e"
             ],
             [
              0.4444444444444444,
              "#bd3786"
             ],
             [
              0.5555555555555556,
              "#d8576b"
             ],
             [
              0.6666666666666666,
              "#ed7953"
             ],
             [
              0.7777777777777778,
              "#fb9f3a"
             ],
             [
              0.8888888888888888,
              "#fdca26"
             ],
             [
              1,
              "#f0f921"
             ]
            ],
            "type": "surface"
           }
          ],
          "table": [
           {
            "cells": {
             "fill": {
              "color": "#EBF0F8"
             },
             "line": {
              "color": "white"
             }
            },
            "header": {
             "fill": {
              "color": "#C8D4E3"
             },
             "line": {
              "color": "white"
             }
            },
            "type": "table"
           }
          ]
         },
         "layout": {
          "annotationdefaults": {
           "arrowcolor": "#2a3f5f",
           "arrowhead": 0,
           "arrowwidth": 1
          },
          "coloraxis": {
           "colorbar": {
            "outlinewidth": 0,
            "ticks": ""
           }
          },
          "colorscale": {
           "diverging": [
            [
             0,
             "#8e0152"
            ],
            [
             0.1,
             "#c51b7d"
            ],
            [
             0.2,
             "#de77ae"
            ],
            [
             0.3,
             "#f1b6da"
            ],
            [
             0.4,
             "#fde0ef"
            ],
            [
             0.5,
             "#f7f7f7"
            ],
            [
             0.6,
             "#e6f5d0"
            ],
            [
             0.7,
             "#b8e186"
            ],
            [
             0.8,
             "#7fbc41"
            ],
            [
             0.9,
             "#4d9221"
            ],
            [
             1,
             "#276419"
            ]
           ],
           "sequential": [
            [
             0,
             "#0d0887"
            ],
            [
             0.1111111111111111,
             "#46039f"
            ],
            [
             0.2222222222222222,
             "#7201a8"
            ],
            [
             0.3333333333333333,
             "#9c179e"
            ],
            [
             0.4444444444444444,
             "#bd3786"
            ],
            [
             0.5555555555555556,
             "#d8576b"
            ],
            [
             0.6666666666666666,
             "#ed7953"
            ],
            [
             0.7777777777777778,
             "#fb9f3a"
            ],
            [
             0.8888888888888888,
             "#fdca26"
            ],
            [
             1,
             "#f0f921"
            ]
           ],
           "sequentialminus": [
            [
             0,
             "#0d0887"
            ],
            [
             0.1111111111111111,
             "#46039f"
            ],
            [
             0.2222222222222222,
             "#7201a8"
            ],
            [
             0.3333333333333333,
             "#9c179e"
            ],
            [
             0.4444444444444444,
             "#bd3786"
            ],
            [
             0.5555555555555556,
             "#d8576b"
            ],
            [
             0.6666666666666666,
             "#ed7953"
            ],
            [
             0.7777777777777778,
             "#fb9f3a"
            ],
            [
             0.8888888888888888,
             "#fdca26"
            ],
            [
             1,
             "#f0f921"
            ]
           ]
          },
          "colorway": [
           "#636efa",
           "#EF553B",
           "#00cc96",
           "#ab63fa",
           "#FFA15A",
           "#19d3f3",
           "#FF6692",
           "#B6E880",
           "#FF97FF",
           "#FECB52"
          ],
          "font": {
           "color": "#2a3f5f"
          },
          "geo": {
           "bgcolor": "white",
           "lakecolor": "white",
           "landcolor": "#E5ECF6",
           "showlakes": true,
           "showland": true,
           "subunitcolor": "white"
          },
          "hoverlabel": {
           "align": "left"
          },
          "hovermode": "closest",
          "mapbox": {
           "style": "light"
          },
          "paper_bgcolor": "white",
          "plot_bgcolor": "#E5ECF6",
          "polar": {
           "angularaxis": {
            "gridcolor": "white",
            "linecolor": "white",
            "ticks": ""
           },
           "bgcolor": "#E5ECF6",
           "radialaxis": {
            "gridcolor": "white",
            "linecolor": "white",
            "ticks": ""
           }
          },
          "scene": {
           "xaxis": {
            "backgroundcolor": "#E5ECF6",
            "gridcolor": "white",
            "gridwidth": 2,
            "linecolor": "white",
            "showbackground": true,
            "ticks": "",
            "zerolinecolor": "white"
           },
           "yaxis": {
            "backgroundcolor": "#E5ECF6",
            "gridcolor": "white",
            "gridwidth": 2,
            "linecolor": "white",
            "showbackground": true,
            "ticks": "",
            "zerolinecolor": "white"
           },
           "zaxis": {
            "backgroundcolor": "#E5ECF6",
            "gridcolor": "white",
            "gridwidth": 2,
            "linecolor": "white",
            "showbackground": true,
            "ticks": "",
            "zerolinecolor": "white"
           }
          },
          "shapedefaults": {
           "line": {
            "color": "#2a3f5f"
           }
          },
          "ternary": {
           "aaxis": {
            "gridcolor": "white",
            "linecolor": "white",
            "ticks": ""
           },
           "baxis": {
            "gridcolor": "white",
            "linecolor": "white",
            "ticks": ""
           },
           "bgcolor": "#E5ECF6",
           "caxis": {
            "gridcolor": "white",
            "linecolor": "white",
            "ticks": ""
           }
          },
          "title": {
           "x": 0.05
          },
          "xaxis": {
           "automargin": true,
           "gridcolor": "white",
           "linecolor": "white",
           "ticks": "",
           "title": {
            "standoff": 15
           },
           "zerolinecolor": "white",
           "zerolinewidth": 2
          },
          "yaxis": {
           "automargin": true,
           "gridcolor": "white",
           "linecolor": "white",
           "ticks": "",
           "title": {
            "standoff": 15
           },
           "zerolinecolor": "white",
           "zerolinewidth": 2
          }
         }
        },
        "title": {
         "text": "PCA"
        }
       }
      },
      "text/html": [
       "<div>                            <div id=\"00894ce8-c038-4db1-973b-dece98e5042c\" class=\"plotly-graph-div\" style=\"height:525px; width:100%;\"></div>            <script type=\"text/javascript\">                require([\"plotly\"], function(Plotly) {                    window.PLOTLYENV=window.PLOTLYENV || {};                                    if (document.getElementById(\"00894ce8-c038-4db1-973b-dece98e5042c\")) {                    Plotly.newPlot(                        \"00894ce8-c038-4db1-973b-dece98e5042c\",                        [{\"mode\": \"markers\", \"text\": [\"vida\", \"pelicula\", \"va\", \"puede\", \"interesar\", \"leer\", \"amor\", \"matrimonio\", \"historia\", \"juntos\", \"mas\", \"si\", \"tener\", \"siempre\", \"ambos\", \"a\\u00f1os\", \"encuentra\", \"dos\", \"nuevo\", \"nueva\", \"joven\", \"mundo\", \"casa\", \"decide\"], \"type\": \"scatter\", \"x\": [0.009813759125978323, 0.005092923938048807, 0.008741901282275245, -0.008654962836596456, -0.00943569266262424, -0.0033729414959433766, 0.011247544578459102, 0.013378919851545443, -0.008609863600058835, 0.0017407468476894887, -0.007504502256275299, -0.006036516264758105, 0.006057057863479037, 0.00390683783191238, 0.005256772177210207, 0.0003479124359193782, 0.0010599993426826276, -0.006508274573881233, -0.0027131753926891836, -0.010950050217055068, 0.01771897062628889, -0.012668556320713563, 0.005206708418293294, -0.01311551869918685], \"y\": [-0.0004524528023835861, -0.009209880610912553, 0.000181610530040619, 0.0017772851212919702, 0.0009460794170377691, -0.006250183218937366, -0.0024640775731448517, 0.005991412057989587, 0.0028276916644979022, -0.01776728675320089, 0.008344021920370634, 0.01788651992775806, -0.005122673480582524, -0.010215136678117735, 0.005705899819986641, 0.007385577143627311, -0.007003214770748996, -0.009271515938565707, -0.0036148045708369212, 0.01006944887302301, 0.007209359215769055, -0.0048063377141486984, 0.012371551182377353, -0.004518892762190082]}],                        {\"template\": {\"data\": {\"bar\": [{\"error_x\": {\"color\": \"#2a3f5f\"}, \"error_y\": {\"color\": \"#2a3f5f\"}, \"marker\": {\"line\": {\"color\": \"#E5ECF6\", \"width\": 0.5}}, \"type\": \"bar\"}], \"barpolar\": [{\"marker\": {\"line\": {\"color\": \"#E5ECF6\", \"width\": 0.5}}, \"type\": \"barpolar\"}], \"carpet\": [{\"aaxis\": {\"endlinecolor\": \"#2a3f5f\", \"gridcolor\": \"white\", \"linecolor\": \"white\", \"minorgridcolor\": \"white\", \"startlinecolor\": \"#2a3f5f\"}, \"baxis\": {\"endlinecolor\": \"#2a3f5f\", \"gridcolor\": \"white\", \"linecolor\": \"white\", \"minorgridcolor\": \"white\", \"startlinecolor\": \"#2a3f5f\"}, \"type\": \"carpet\"}], \"choropleth\": [{\"colorbar\": {\"outlinewidth\": 0, \"ticks\": \"\"}, \"type\": \"choropleth\"}], \"contour\": [{\"colorbar\": {\"outlinewidth\": 0, \"ticks\": \"\"}, \"colorscale\": [[0.0, \"#0d0887\"], [0.1111111111111111, \"#46039f\"], [0.2222222222222222, \"#7201a8\"], [0.3333333333333333, \"#9c179e\"], [0.4444444444444444, \"#bd3786\"], [0.5555555555555556, \"#d8576b\"], [0.6666666666666666, \"#ed7953\"], [0.7777777777777778, \"#fb9f3a\"], [0.8888888888888888, \"#fdca26\"], [1.0, \"#f0f921\"]], \"type\": \"contour\"}], \"contourcarpet\": [{\"colorbar\": {\"outlinewidth\": 0, \"ticks\": \"\"}, \"type\": \"contourcarpet\"}], \"heatmap\": [{\"colorbar\": {\"outlinewidth\": 0, \"ticks\": \"\"}, \"colorscale\": [[0.0, \"#0d0887\"], [0.1111111111111111, \"#46039f\"], [0.2222222222222222, \"#7201a8\"], [0.3333333333333333, \"#9c179e\"], [0.4444444444444444, \"#bd3786\"], [0.5555555555555556, \"#d8576b\"], [0.6666666666666666, \"#ed7953\"], [0.7777777777777778, \"#fb9f3a\"], [0.8888888888888888, \"#fdca26\"], [1.0, \"#f0f921\"]], \"type\": \"heatmap\"}], \"heatmapgl\": [{\"colorbar\": {\"outlinewidth\": 0, \"ticks\": \"\"}, \"colorscale\": [[0.0, \"#0d0887\"], [0.1111111111111111, \"#46039f\"], [0.2222222222222222, \"#7201a8\"], [0.3333333333333333, \"#9c179e\"], [0.4444444444444444, \"#bd3786\"], [0.5555555555555556, \"#d8576b\"], [0.6666666666666666, \"#ed7953\"], [0.7777777777777778, \"#fb9f3a\"], [0.8888888888888888, \"#fdca26\"], [1.0, \"#f0f921\"]], \"type\": \"heatmapgl\"}], \"histogram\": [{\"marker\": {\"colorbar\": {\"outlinewidth\": 0, \"ticks\": \"\"}}, \"type\": \"histogram\"}], \"histogram2d\": [{\"colorbar\": {\"outlinewidth\": 0, \"ticks\": \"\"}, \"colorscale\": [[0.0, \"#0d0887\"], [0.1111111111111111, \"#46039f\"], [0.2222222222222222, \"#7201a8\"], [0.3333333333333333, \"#9c179e\"], [0.4444444444444444, \"#bd3786\"], [0.5555555555555556, \"#d8576b\"], [0.6666666666666666, \"#ed7953\"], [0.7777777777777778, \"#fb9f3a\"], [0.8888888888888888, \"#fdca26\"], [1.0, \"#f0f921\"]], \"type\": \"histogram2d\"}], \"histogram2dcontour\": [{\"colorbar\": {\"outlinewidth\": 0, \"ticks\": \"\"}, \"colorscale\": [[0.0, \"#0d0887\"], [0.1111111111111111, \"#46039f\"], [0.2222222222222222, \"#7201a8\"], [0.3333333333333333, \"#9c179e\"], [0.4444444444444444, \"#bd3786\"], [0.5555555555555556, \"#d8576b\"], [0.6666666666666666, \"#ed7953\"], [0.7777777777777778, \"#fb9f3a\"], [0.8888888888888888, \"#fdca26\"], [1.0, \"#f0f921\"]], \"type\": \"histogram2dcontour\"}], \"mesh3d\": [{\"colorbar\": {\"outlinewidth\": 0, \"ticks\": \"\"}, \"type\": \"mesh3d\"}], \"parcoords\": [{\"line\": {\"colorbar\": {\"outlinewidth\": 0, \"ticks\": \"\"}}, \"type\": \"parcoords\"}], \"pie\": [{\"automargin\": true, \"type\": \"pie\"}], \"scatter\": [{\"marker\": {\"colorbar\": {\"outlinewidth\": 0, \"ticks\": \"\"}}, \"type\": \"scatter\"}], \"scatter3d\": [{\"line\": {\"colorbar\": {\"outlinewidth\": 0, \"ticks\": \"\"}}, \"marker\": {\"colorbar\": {\"outlinewidth\": 0, \"ticks\": \"\"}}, \"type\": \"scatter3d\"}], \"scattercarpet\": [{\"marker\": {\"colorbar\": {\"outlinewidth\": 0, \"ticks\": \"\"}}, \"type\": \"scattercarpet\"}], \"scattergeo\": [{\"marker\": {\"colorbar\": {\"outlinewidth\": 0, \"ticks\": \"\"}}, \"type\": \"scattergeo\"}], \"scattergl\": [{\"marker\": {\"colorbar\": {\"outlinewidth\": 0, \"ticks\": \"\"}}, \"type\": \"scattergl\"}], \"scattermapbox\": [{\"marker\": {\"colorbar\": {\"outlinewidth\": 0, \"ticks\": \"\"}}, \"type\": \"scattermapbox\"}], \"scatterpolar\": [{\"marker\": {\"colorbar\": {\"outlinewidth\": 0, \"ticks\": \"\"}}, \"type\": \"scatterpolar\"}], \"scatterpolargl\": [{\"marker\": {\"colorbar\": {\"outlinewidth\": 0, \"ticks\": \"\"}}, \"type\": \"scatterpolargl\"}], \"scatterternary\": [{\"marker\": {\"colorbar\": {\"outlinewidth\": 0, \"ticks\": \"\"}}, \"type\": \"scatterternary\"}], \"surface\": [{\"colorbar\": {\"outlinewidth\": 0, \"ticks\": \"\"}, \"colorscale\": [[0.0, \"#0d0887\"], [0.1111111111111111, \"#46039f\"], [0.2222222222222222, \"#7201a8\"], [0.3333333333333333, \"#9c179e\"], [0.4444444444444444, \"#bd3786\"], [0.5555555555555556, \"#d8576b\"], [0.6666666666666666, \"#ed7953\"], [0.7777777777777778, \"#fb9f3a\"], [0.8888888888888888, \"#fdca26\"], [1.0, \"#f0f921\"]], \"type\": \"surface\"}], \"table\": [{\"cells\": {\"fill\": {\"color\": \"#EBF0F8\"}, \"line\": {\"color\": \"white\"}}, \"header\": {\"fill\": {\"color\": \"#C8D4E3\"}, \"line\": {\"color\": \"white\"}}, \"type\": \"table\"}]}, \"layout\": {\"annotationdefaults\": {\"arrowcolor\": \"#2a3f5f\", \"arrowhead\": 0, \"arrowwidth\": 1}, \"coloraxis\": {\"colorbar\": {\"outlinewidth\": 0, \"ticks\": \"\"}}, \"colorscale\": {\"diverging\": [[0, \"#8e0152\"], [0.1, \"#c51b7d\"], [0.2, \"#de77ae\"], [0.3, \"#f1b6da\"], [0.4, \"#fde0ef\"], [0.5, \"#f7f7f7\"], [0.6, \"#e6f5d0\"], [0.7, \"#b8e186\"], [0.8, \"#7fbc41\"], [0.9, \"#4d9221\"], [1, \"#276419\"]], \"sequential\": [[0.0, \"#0d0887\"], [0.1111111111111111, \"#46039f\"], [0.2222222222222222, \"#7201a8\"], [0.3333333333333333, \"#9c179e\"], [0.4444444444444444, \"#bd3786\"], [0.5555555555555556, \"#d8576b\"], [0.6666666666666666, \"#ed7953\"], [0.7777777777777778, \"#fb9f3a\"], [0.8888888888888888, \"#fdca26\"], [1.0, \"#f0f921\"]], \"sequentialminus\": [[0.0, \"#0d0887\"], [0.1111111111111111, \"#46039f\"], [0.2222222222222222, \"#7201a8\"], [0.3333333333333333, \"#9c179e\"], [0.4444444444444444, \"#bd3786\"], [0.5555555555555556, \"#d8576b\"], [0.6666666666666666, \"#ed7953\"], [0.7777777777777778, \"#fb9f3a\"], [0.8888888888888888, \"#fdca26\"], [1.0, \"#f0f921\"]]}, \"colorway\": [\"#636efa\", \"#EF553B\", \"#00cc96\", \"#ab63fa\", \"#FFA15A\", \"#19d3f3\", \"#FF6692\", \"#B6E880\", \"#FF97FF\", \"#FECB52\"], \"font\": {\"color\": \"#2a3f5f\"}, \"geo\": {\"bgcolor\": \"white\", \"lakecolor\": \"white\", \"landcolor\": \"#E5ECF6\", \"showlakes\": true, \"showland\": true, \"subunitcolor\": \"white\"}, \"hoverlabel\": {\"align\": \"left\"}, \"hovermode\": \"closest\", \"mapbox\": {\"style\": \"light\"}, \"paper_bgcolor\": \"white\", \"plot_bgcolor\": \"#E5ECF6\", \"polar\": {\"angularaxis\": {\"gridcolor\": \"white\", \"linecolor\": \"white\", \"ticks\": \"\"}, \"bgcolor\": \"#E5ECF6\", \"radialaxis\": {\"gridcolor\": \"white\", \"linecolor\": \"white\", \"ticks\": \"\"}}, \"scene\": {\"xaxis\": {\"backgroundcolor\": \"#E5ECF6\", \"gridcolor\": \"white\", \"gridwidth\": 2, \"linecolor\": \"white\", \"showbackground\": true, \"ticks\": \"\", \"zerolinecolor\": \"white\"}, \"yaxis\": {\"backgroundcolor\": \"#E5ECF6\", \"gridcolor\": \"white\", \"gridwidth\": 2, \"linecolor\": \"white\", \"showbackground\": true, \"ticks\": \"\", \"zerolinecolor\": \"white\"}, \"zaxis\": {\"backgroundcolor\": \"#E5ECF6\", \"gridcolor\": \"white\", \"gridwidth\": 2, \"linecolor\": \"white\", \"showbackground\": true, \"ticks\": \"\", \"zerolinecolor\": \"white\"}}, \"shapedefaults\": {\"line\": {\"color\": \"#2a3f5f\"}}, \"ternary\": {\"aaxis\": {\"gridcolor\": \"white\", \"linecolor\": \"white\", \"ticks\": \"\"}, \"baxis\": {\"gridcolor\": \"white\", \"linecolor\": \"white\", \"ticks\": \"\"}, \"bgcolor\": \"#E5ECF6\", \"caxis\": {\"gridcolor\": \"white\", \"linecolor\": \"white\", \"ticks\": \"\"}}, \"title\": {\"x\": 0.05}, \"xaxis\": {\"automargin\": true, \"gridcolor\": \"white\", \"linecolor\": \"white\", \"ticks\": \"\", \"title\": {\"standoff\": 15}, \"zerolinecolor\": \"white\", \"zerolinewidth\": 2}, \"yaxis\": {\"automargin\": true, \"gridcolor\": \"white\", \"linecolor\": \"white\", \"ticks\": \"\", \"title\": {\"standoff\": 15}, \"zerolinecolor\": \"white\", \"zerolinewidth\": 2}}}, \"title\": {\"text\": \"PCA\"}},                        {\"responsive\": true}                    ).then(function(){\n",
       "                            \n",
       "var gd = document.getElementById('00894ce8-c038-4db1-973b-dece98e5042c');\n",
       "var x = new MutationObserver(function (mutations, observer) {{\n",
       "        var display = window.getComputedStyle(gd).display;\n",
       "        if (!display || display === 'none') {{\n",
       "            console.log([gd, 'removed!']);\n",
       "            Plotly.purge(gd);\n",
       "            observer.disconnect();\n",
       "        }}\n",
       "}});\n",
       "\n",
       "// Listen for the removal of the full notebook cells\n",
       "var notebookContainer = gd.closest('#notebook-container');\n",
       "if (notebookContainer) {{\n",
       "    x.observe(notebookContainer, {childList: true});\n",
       "}}\n",
       "\n",
       "// Listen for the clearing of the current output cell\n",
       "var outputEl = gd.closest('.output');\n",
       "if (outputEl) {{\n",
       "    x.observe(outputEl, {childList: true});\n",
       "}}\n",
       "\n",
       "                        })                };                });            </script>        </div>"
      ]
     },
     "metadata": {},
     "output_type": "display_data"
    }
   ],
   "source": [
    "trace = go.Scatter(x=result['X'].values,\n",
    "                   y=result['Y'].values,\n",
    "                   text=result['Palabra'].values,\n",
    "                   mode='markers') \n",
    "\n",
    "layout = go.Layout(title=\"PCA\")\n",
    "\n",
    "fig = go.Figure(data=trace, layout=layout)\n",
    "iplot(fig)\n",
    "\n"
   ]
  },
  {
   "cell_type": "code",
   "execution_count": 291,
   "metadata": {},
   "outputs": [
    {
     "data": {
      "text/html": [
       "<div>\n",
       "<style scoped>\n",
       "    .dataframe tbody tr th:only-of-type {\n",
       "        vertical-align: middle;\n",
       "    }\n",
       "\n",
       "    .dataframe tbody tr th {\n",
       "        vertical-align: top;\n",
       "    }\n",
       "\n",
       "    .dataframe thead th {\n",
       "        text-align: right;\n",
       "    }\n",
       "</style>\n",
       "<table border=\"1\" class=\"dataframe\">\n",
       "  <thead>\n",
       "    <tr style=\"text-align: right;\">\n",
       "      <th></th>\n",
       "      <th>X</th>\n",
       "      <th>Y</th>\n",
       "      <th>Palabra</th>\n",
       "    </tr>\n",
       "  </thead>\n",
       "  <tbody>\n",
       "    <tr>\n",
       "      <td>0</td>\n",
       "      <td>0.009814</td>\n",
       "      <td>-0.000452</td>\n",
       "      <td>vida</td>\n",
       "    </tr>\n",
       "    <tr>\n",
       "      <td>1</td>\n",
       "      <td>0.005093</td>\n",
       "      <td>-0.009210</td>\n",
       "      <td>pelicula</td>\n",
       "    </tr>\n",
       "    <tr>\n",
       "      <td>2</td>\n",
       "      <td>0.008742</td>\n",
       "      <td>0.000182</td>\n",
       "      <td>va</td>\n",
       "    </tr>\n",
       "    <tr>\n",
       "      <td>5</td>\n",
       "      <td>-0.003373</td>\n",
       "      <td>-0.006250</td>\n",
       "      <td>leer</td>\n",
       "    </tr>\n",
       "    <tr>\n",
       "      <td>6</td>\n",
       "      <td>0.011248</td>\n",
       "      <td>-0.002464</td>\n",
       "      <td>amor</td>\n",
       "    </tr>\n",
       "    <tr>\n",
       "      <td>7</td>\n",
       "      <td>0.013379</td>\n",
       "      <td>0.005991</td>\n",
       "      <td>matrimonio</td>\n",
       "    </tr>\n",
       "    <tr>\n",
       "      <td>8</td>\n",
       "      <td>-0.008610</td>\n",
       "      <td>0.002828</td>\n",
       "      <td>historia</td>\n",
       "    </tr>\n",
       "    <tr>\n",
       "      <td>9</td>\n",
       "      <td>0.001741</td>\n",
       "      <td>-0.017767</td>\n",
       "      <td>juntos</td>\n",
       "    </tr>\n",
       "    <tr>\n",
       "      <td>10</td>\n",
       "      <td>-0.007505</td>\n",
       "      <td>0.008344</td>\n",
       "      <td>mas</td>\n",
       "    </tr>\n",
       "    <tr>\n",
       "      <td>13</td>\n",
       "      <td>0.003907</td>\n",
       "      <td>-0.010215</td>\n",
       "      <td>siempre</td>\n",
       "    </tr>\n",
       "    <tr>\n",
       "      <td>14</td>\n",
       "      <td>0.005257</td>\n",
       "      <td>0.005706</td>\n",
       "      <td>ambos</td>\n",
       "    </tr>\n",
       "    <tr>\n",
       "      <td>15</td>\n",
       "      <td>0.000348</td>\n",
       "      <td>0.007386</td>\n",
       "      <td>años</td>\n",
       "    </tr>\n",
       "    <tr>\n",
       "      <td>16</td>\n",
       "      <td>0.001060</td>\n",
       "      <td>-0.007003</td>\n",
       "      <td>encuentra</td>\n",
       "    </tr>\n",
       "    <tr>\n",
       "      <td>17</td>\n",
       "      <td>-0.006508</td>\n",
       "      <td>-0.009272</td>\n",
       "      <td>dos</td>\n",
       "    </tr>\n",
       "    <tr>\n",
       "      <td>20</td>\n",
       "      <td>0.017719</td>\n",
       "      <td>0.007209</td>\n",
       "      <td>joven</td>\n",
       "    </tr>\n",
       "    <tr>\n",
       "      <td>21</td>\n",
       "      <td>-0.012669</td>\n",
       "      <td>-0.004806</td>\n",
       "      <td>mundo</td>\n",
       "    </tr>\n",
       "    <tr>\n",
       "      <td>22</td>\n",
       "      <td>0.005207</td>\n",
       "      <td>0.012372</td>\n",
       "      <td>casa</td>\n",
       "    </tr>\n",
       "  </tbody>\n",
       "</table>\n",
       "</div>"
      ],
      "text/plain": [
       "           X         Y     Palabra\n",
       "0   0.009814 -0.000452        vida\n",
       "1   0.005093 -0.009210    pelicula\n",
       "2   0.008742  0.000182          va\n",
       "5  -0.003373 -0.006250        leer\n",
       "6   0.011248 -0.002464        amor\n",
       "7   0.013379  0.005991  matrimonio\n",
       "8  -0.008610  0.002828    historia\n",
       "9   0.001741 -0.017767      juntos\n",
       "10 -0.007505  0.008344         mas\n",
       "13  0.003907 -0.010215     siempre\n",
       "14  0.005257  0.005706       ambos\n",
       "15  0.000348  0.007386        años\n",
       "16  0.001060 -0.007003   encuentra\n",
       "17 -0.006508 -0.009272         dos\n",
       "20  0.017719  0.007209       joven\n",
       "21 -0.012669 -0.004806       mundo\n",
       "22  0.005207  0.012372        casa"
      ]
     },
     "execution_count": 291,
     "metadata": {},
     "output_type": "execute_result"
    }
   ],
   "source": [
    "resul_red = result[result['Palabra'].isin(vocab)]\n",
    "\n",
    "resul_red"
   ]
  },
  {
   "cell_type": "code",
   "execution_count": 292,
   "metadata": {},
   "outputs": [
    {
     "data": {
      "application/vnd.plotly.v1+json": {
       "config": {
        "linkText": "Export to plot.ly",
        "plotlyServerURL": "https://plot.ly",
        "showLink": false
       },
       "data": [
        {
         "mode": "markers",
         "text": [
          "vida",
          "pelicula",
          "va",
          "leer",
          "amor",
          "matrimonio",
          "historia",
          "juntos",
          "mas",
          "siempre",
          "ambos",
          "años",
          "encuentra",
          "dos",
          "joven",
          "mundo",
          "casa"
         ],
         "type": "scatter",
         "x": [
          0.009813759125978323,
          0.005092923938048807,
          0.008741901282275245,
          -0.0033729414959433766,
          0.011247544578459102,
          0.013378919851545443,
          -0.008609863600058835,
          0.0017407468476894887,
          -0.007504502256275299,
          0.00390683783191238,
          0.005256772177210207,
          0.0003479124359193782,
          0.0010599993426826276,
          -0.006508274573881233,
          0.01771897062628889,
          -0.012668556320713563,
          0.005206708418293294
         ],
         "y": [
          -0.0004524528023835861,
          -0.009209880610912553,
          0.000181610530040619,
          -0.006250183218937366,
          -0.0024640775731448517,
          0.005991412057989587,
          0.0028276916644979022,
          -0.01776728675320089,
          0.008344021920370634,
          -0.010215136678117735,
          0.005705899819986641,
          0.007385577143627311,
          -0.007003214770748996,
          -0.009271515938565707,
          0.007209359215769055,
          -0.0048063377141486984,
          0.012371551182377353
         ]
        }
       ],
       "layout": {
        "template": {
         "data": {
          "bar": [
           {
            "error_x": {
             "color": "#2a3f5f"
            },
            "error_y": {
             "color": "#2a3f5f"
            },
            "marker": {
             "line": {
              "color": "#E5ECF6",
              "width": 0.5
             }
            },
            "type": "bar"
           }
          ],
          "barpolar": [
           {
            "marker": {
             "line": {
              "color": "#E5ECF6",
              "width": 0.5
             }
            },
            "type": "barpolar"
           }
          ],
          "carpet": [
           {
            "aaxis": {
             "endlinecolor": "#2a3f5f",
             "gridcolor": "white",
             "linecolor": "white",
             "minorgridcolor": "white",
             "startlinecolor": "#2a3f5f"
            },
            "baxis": {
             "endlinecolor": "#2a3f5f",
             "gridcolor": "white",
             "linecolor": "white",
             "minorgridcolor": "white",
             "startlinecolor": "#2a3f5f"
            },
            "type": "carpet"
           }
          ],
          "choropleth": [
           {
            "colorbar": {
             "outlinewidth": 0,
             "ticks": ""
            },
            "type": "choropleth"
           }
          ],
          "contour": [
           {
            "colorbar": {
             "outlinewidth": 0,
             "ticks": ""
            },
            "colorscale": [
             [
              0,
              "#0d0887"
             ],
             [
              0.1111111111111111,
              "#46039f"
             ],
             [
              0.2222222222222222,
              "#7201a8"
             ],
             [
              0.3333333333333333,
              "#9c179e"
             ],
             [
              0.4444444444444444,
              "#bd3786"
             ],
             [
              0.5555555555555556,
              "#d8576b"
             ],
             [
              0.6666666666666666,
              "#ed7953"
             ],
             [
              0.7777777777777778,
              "#fb9f3a"
             ],
             [
              0.8888888888888888,
              "#fdca26"
             ],
             [
              1,
              "#f0f921"
             ]
            ],
            "type": "contour"
           }
          ],
          "contourcarpet": [
           {
            "colorbar": {
             "outlinewidth": 0,
             "ticks": ""
            },
            "type": "contourcarpet"
           }
          ],
          "heatmap": [
           {
            "colorbar": {
             "outlinewidth": 0,
             "ticks": ""
            },
            "colorscale": [
             [
              0,
              "#0d0887"
             ],
             [
              0.1111111111111111,
              "#46039f"
             ],
             [
              0.2222222222222222,
              "#7201a8"
             ],
             [
              0.3333333333333333,
              "#9c179e"
             ],
             [
              0.4444444444444444,
              "#bd3786"
             ],
             [
              0.5555555555555556,
              "#d8576b"
             ],
             [
              0.6666666666666666,
              "#ed7953"
             ],
             [
              0.7777777777777778,
              "#fb9f3a"
             ],
             [
              0.8888888888888888,
              "#fdca26"
             ],
             [
              1,
              "#f0f921"
             ]
            ],
            "type": "heatmap"
           }
          ],
          "heatmapgl": [
           {
            "colorbar": {
             "outlinewidth": 0,
             "ticks": ""
            },
            "colorscale": [
             [
              0,
              "#0d0887"
             ],
             [
              0.1111111111111111,
              "#46039f"
             ],
             [
              0.2222222222222222,
              "#7201a8"
             ],
             [
              0.3333333333333333,
              "#9c179e"
             ],
             [
              0.4444444444444444,
              "#bd3786"
             ],
             [
              0.5555555555555556,
              "#d8576b"
             ],
             [
              0.6666666666666666,
              "#ed7953"
             ],
             [
              0.7777777777777778,
              "#fb9f3a"
             ],
             [
              0.8888888888888888,
              "#fdca26"
             ],
             [
              1,
              "#f0f921"
             ]
            ],
            "type": "heatmapgl"
           }
          ],
          "histogram": [
           {
            "marker": {
             "colorbar": {
              "outlinewidth": 0,
              "ticks": ""
             }
            },
            "type": "histogram"
           }
          ],
          "histogram2d": [
           {
            "colorbar": {
             "outlinewidth": 0,
             "ticks": ""
            },
            "colorscale": [
             [
              0,
              "#0d0887"
             ],
             [
              0.1111111111111111,
              "#46039f"
             ],
             [
              0.2222222222222222,
              "#7201a8"
             ],
             [
              0.3333333333333333,
              "#9c179e"
             ],
             [
              0.4444444444444444,
              "#bd3786"
             ],
             [
              0.5555555555555556,
              "#d8576b"
             ],
             [
              0.6666666666666666,
              "#ed7953"
             ],
             [
              0.7777777777777778,
              "#fb9f3a"
             ],
             [
              0.8888888888888888,
              "#fdca26"
             ],
             [
              1,
              "#f0f921"
             ]
            ],
            "type": "histogram2d"
           }
          ],
          "histogram2dcontour": [
           {
            "colorbar": {
             "outlinewidth": 0,
             "ticks": ""
            },
            "colorscale": [
             [
              0,
              "#0d0887"
             ],
             [
              0.1111111111111111,
              "#46039f"
             ],
             [
              0.2222222222222222,
              "#7201a8"
             ],
             [
              0.3333333333333333,
              "#9c179e"
             ],
             [
              0.4444444444444444,
              "#bd3786"
             ],
             [
              0.5555555555555556,
              "#d8576b"
             ],
             [
              0.6666666666666666,
              "#ed7953"
             ],
             [
              0.7777777777777778,
              "#fb9f3a"
             ],
             [
              0.8888888888888888,
              "#fdca26"
             ],
             [
              1,
              "#f0f921"
             ]
            ],
            "type": "histogram2dcontour"
           }
          ],
          "mesh3d": [
           {
            "colorbar": {
             "outlinewidth": 0,
             "ticks": ""
            },
            "type": "mesh3d"
           }
          ],
          "parcoords": [
           {
            "line": {
             "colorbar": {
              "outlinewidth": 0,
              "ticks": ""
             }
            },
            "type": "parcoords"
           }
          ],
          "pie": [
           {
            "automargin": true,
            "type": "pie"
           }
          ],
          "scatter": [
           {
            "marker": {
             "colorbar": {
              "outlinewidth": 0,
              "ticks": ""
             }
            },
            "type": "scatter"
           }
          ],
          "scatter3d": [
           {
            "line": {
             "colorbar": {
              "outlinewidth": 0,
              "ticks": ""
             }
            },
            "marker": {
             "colorbar": {
              "outlinewidth": 0,
              "ticks": ""
             }
            },
            "type": "scatter3d"
           }
          ],
          "scattercarpet": [
           {
            "marker": {
             "colorbar": {
              "outlinewidth": 0,
              "ticks": ""
             }
            },
            "type": "scattercarpet"
           }
          ],
          "scattergeo": [
           {
            "marker": {
             "colorbar": {
              "outlinewidth": 0,
              "ticks": ""
             }
            },
            "type": "scattergeo"
           }
          ],
          "scattergl": [
           {
            "marker": {
             "colorbar": {
              "outlinewidth": 0,
              "ticks": ""
             }
            },
            "type": "scattergl"
           }
          ],
          "scattermapbox": [
           {
            "marker": {
             "colorbar": {
              "outlinewidth": 0,
              "ticks": ""
             }
            },
            "type": "scattermapbox"
           }
          ],
          "scatterpolar": [
           {
            "marker": {
             "colorbar": {
              "outlinewidth": 0,
              "ticks": ""
             }
            },
            "type": "scatterpolar"
           }
          ],
          "scatterpolargl": [
           {
            "marker": {
             "colorbar": {
              "outlinewidth": 0,
              "ticks": ""
             }
            },
            "type": "scatterpolargl"
           }
          ],
          "scatterternary": [
           {
            "marker": {
             "colorbar": {
              "outlinewidth": 0,
              "ticks": ""
             }
            },
            "type": "scatterternary"
           }
          ],
          "surface": [
           {
            "colorbar": {
             "outlinewidth": 0,
             "ticks": ""
            },
            "colorscale": [
             [
              0,
              "#0d0887"
             ],
             [
              0.1111111111111111,
              "#46039f"
             ],
             [
              0.2222222222222222,
              "#7201a8"
             ],
             [
              0.3333333333333333,
              "#9c179e"
             ],
             [
              0.4444444444444444,
              "#bd3786"
             ],
             [
              0.5555555555555556,
              "#d8576b"
             ],
             [
              0.6666666666666666,
              "#ed7953"
             ],
             [
              0.7777777777777778,
              "#fb9f3a"
             ],
             [
              0.8888888888888888,
              "#fdca26"
             ],
             [
              1,
              "#f0f921"
             ]
            ],
            "type": "surface"
           }
          ],
          "table": [
           {
            "cells": {
             "fill": {
              "color": "#EBF0F8"
             },
             "line": {
              "color": "white"
             }
            },
            "header": {
             "fill": {
              "color": "#C8D4E3"
             },
             "line": {
              "color": "white"
             }
            },
            "type": "table"
           }
          ]
         },
         "layout": {
          "annotationdefaults": {
           "arrowcolor": "#2a3f5f",
           "arrowhead": 0,
           "arrowwidth": 1
          },
          "coloraxis": {
           "colorbar": {
            "outlinewidth": 0,
            "ticks": ""
           }
          },
          "colorscale": {
           "diverging": [
            [
             0,
             "#8e0152"
            ],
            [
             0.1,
             "#c51b7d"
            ],
            [
             0.2,
             "#de77ae"
            ],
            [
             0.3,
             "#f1b6da"
            ],
            [
             0.4,
             "#fde0ef"
            ],
            [
             0.5,
             "#f7f7f7"
            ],
            [
             0.6,
             "#e6f5d0"
            ],
            [
             0.7,
             "#b8e186"
            ],
            [
             0.8,
             "#7fbc41"
            ],
            [
             0.9,
             "#4d9221"
            ],
            [
             1,
             "#276419"
            ]
           ],
           "sequential": [
            [
             0,
             "#0d0887"
            ],
            [
             0.1111111111111111,
             "#46039f"
            ],
            [
             0.2222222222222222,
             "#7201a8"
            ],
            [
             0.3333333333333333,
             "#9c179e"
            ],
            [
             0.4444444444444444,
             "#bd3786"
            ],
            [
             0.5555555555555556,
             "#d8576b"
            ],
            [
             0.6666666666666666,
             "#ed7953"
            ],
            [
             0.7777777777777778,
             "#fb9f3a"
            ],
            [
             0.8888888888888888,
             "#fdca26"
            ],
            [
             1,
             "#f0f921"
            ]
           ],
           "sequentialminus": [
            [
             0,
             "#0d0887"
            ],
            [
             0.1111111111111111,
             "#46039f"
            ],
            [
             0.2222222222222222,
             "#7201a8"
            ],
            [
             0.3333333333333333,
             "#9c179e"
            ],
            [
             0.4444444444444444,
             "#bd3786"
            ],
            [
             0.5555555555555556,
             "#d8576b"
            ],
            [
             0.6666666666666666,
             "#ed7953"
            ],
            [
             0.7777777777777778,
             "#fb9f3a"
            ],
            [
             0.8888888888888888,
             "#fdca26"
            ],
            [
             1,
             "#f0f921"
            ]
           ]
          },
          "colorway": [
           "#636efa",
           "#EF553B",
           "#00cc96",
           "#ab63fa",
           "#FFA15A",
           "#19d3f3",
           "#FF6692",
           "#B6E880",
           "#FF97FF",
           "#FECB52"
          ],
          "font": {
           "color": "#2a3f5f"
          },
          "geo": {
           "bgcolor": "white",
           "lakecolor": "white",
           "landcolor": "#E5ECF6",
           "showlakes": true,
           "showland": true,
           "subunitcolor": "white"
          },
          "hoverlabel": {
           "align": "left"
          },
          "hovermode": "closest",
          "mapbox": {
           "style": "light"
          },
          "paper_bgcolor": "white",
          "plot_bgcolor": "#E5ECF6",
          "polar": {
           "angularaxis": {
            "gridcolor": "white",
            "linecolor": "white",
            "ticks": ""
           },
           "bgcolor": "#E5ECF6",
           "radialaxis": {
            "gridcolor": "white",
            "linecolor": "white",
            "ticks": ""
           }
          },
          "scene": {
           "xaxis": {
            "backgroundcolor": "#E5ECF6",
            "gridcolor": "white",
            "gridwidth": 2,
            "linecolor": "white",
            "showbackground": true,
            "ticks": "",
            "zerolinecolor": "white"
           },
           "yaxis": {
            "backgroundcolor": "#E5ECF6",
            "gridcolor": "white",
            "gridwidth": 2,
            "linecolor": "white",
            "showbackground": true,
            "ticks": "",
            "zerolinecolor": "white"
           },
           "zaxis": {
            "backgroundcolor": "#E5ECF6",
            "gridcolor": "white",
            "gridwidth": 2,
            "linecolor": "white",
            "showbackground": true,
            "ticks": "",
            "zerolinecolor": "white"
           }
          },
          "shapedefaults": {
           "line": {
            "color": "#2a3f5f"
           }
          },
          "ternary": {
           "aaxis": {
            "gridcolor": "white",
            "linecolor": "white",
            "ticks": ""
           },
           "baxis": {
            "gridcolor": "white",
            "linecolor": "white",
            "ticks": ""
           },
           "bgcolor": "#E5ECF6",
           "caxis": {
            "gridcolor": "white",
            "linecolor": "white",
            "ticks": ""
           }
          },
          "title": {
           "x": 0.05
          },
          "xaxis": {
           "automargin": true,
           "gridcolor": "white",
           "linecolor": "white",
           "ticks": "",
           "title": {
            "standoff": 15
           },
           "zerolinecolor": "white",
           "zerolinewidth": 2
          },
          "yaxis": {
           "automargin": true,
           "gridcolor": "white",
           "linecolor": "white",
           "ticks": "",
           "title": {
            "standoff": 15
           },
           "zerolinecolor": "white",
           "zerolinewidth": 2
          }
         }
        },
        "title": {
         "text": "PCA"
        }
       }
      },
      "text/html": [
       "<div>                            <div id=\"8891944a-efaf-4923-8492-774c7e04bc52\" class=\"plotly-graph-div\" style=\"height:525px; width:100%;\"></div>            <script type=\"text/javascript\">                require([\"plotly\"], function(Plotly) {                    window.PLOTLYENV=window.PLOTLYENV || {};                                    if (document.getElementById(\"8891944a-efaf-4923-8492-774c7e04bc52\")) {                    Plotly.newPlot(                        \"8891944a-efaf-4923-8492-774c7e04bc52\",                        [{\"mode\": \"markers\", \"text\": [\"vida\", \"pelicula\", \"va\", \"leer\", \"amor\", \"matrimonio\", \"historia\", \"juntos\", \"mas\", \"siempre\", \"ambos\", \"a\\u00f1os\", \"encuentra\", \"dos\", \"joven\", \"mundo\", \"casa\"], \"type\": \"scatter\", \"x\": [0.009813759125978323, 0.005092923938048807, 0.008741901282275245, -0.0033729414959433766, 0.011247544578459102, 0.013378919851545443, -0.008609863600058835, 0.0017407468476894887, -0.007504502256275299, 0.00390683783191238, 0.005256772177210207, 0.0003479124359193782, 0.0010599993426826276, -0.006508274573881233, 0.01771897062628889, -0.012668556320713563, 0.005206708418293294], \"y\": [-0.0004524528023835861, -0.009209880610912553, 0.000181610530040619, -0.006250183218937366, -0.0024640775731448517, 0.005991412057989587, 0.0028276916644979022, -0.01776728675320089, 0.008344021920370634, -0.010215136678117735, 0.005705899819986641, 0.007385577143627311, -0.007003214770748996, -0.009271515938565707, 0.007209359215769055, -0.0048063377141486984, 0.012371551182377353]}],                        {\"template\": {\"data\": {\"bar\": [{\"error_x\": {\"color\": \"#2a3f5f\"}, \"error_y\": {\"color\": \"#2a3f5f\"}, \"marker\": {\"line\": {\"color\": \"#E5ECF6\", \"width\": 0.5}}, \"type\": \"bar\"}], \"barpolar\": [{\"marker\": {\"line\": {\"color\": \"#E5ECF6\", \"width\": 0.5}}, \"type\": \"barpolar\"}], \"carpet\": [{\"aaxis\": {\"endlinecolor\": \"#2a3f5f\", \"gridcolor\": \"white\", \"linecolor\": \"white\", \"minorgridcolor\": \"white\", \"startlinecolor\": \"#2a3f5f\"}, \"baxis\": {\"endlinecolor\": \"#2a3f5f\", \"gridcolor\": \"white\", \"linecolor\": \"white\", \"minorgridcolor\": \"white\", \"startlinecolor\": \"#2a3f5f\"}, \"type\": \"carpet\"}], \"choropleth\": [{\"colorbar\": {\"outlinewidth\": 0, \"ticks\": \"\"}, \"type\": \"choropleth\"}], \"contour\": [{\"colorbar\": {\"outlinewidth\": 0, \"ticks\": \"\"}, \"colorscale\": [[0.0, \"#0d0887\"], [0.1111111111111111, \"#46039f\"], [0.2222222222222222, \"#7201a8\"], [0.3333333333333333, \"#9c179e\"], [0.4444444444444444, \"#bd3786\"], [0.5555555555555556, \"#d8576b\"], [0.6666666666666666, \"#ed7953\"], [0.7777777777777778, \"#fb9f3a\"], [0.8888888888888888, \"#fdca26\"], [1.0, \"#f0f921\"]], \"type\": \"contour\"}], \"contourcarpet\": [{\"colorbar\": {\"outlinewidth\": 0, \"ticks\": \"\"}, \"type\": \"contourcarpet\"}], \"heatmap\": [{\"colorbar\": {\"outlinewidth\": 0, \"ticks\": \"\"}, \"colorscale\": [[0.0, \"#0d0887\"], [0.1111111111111111, \"#46039f\"], [0.2222222222222222, \"#7201a8\"], [0.3333333333333333, \"#9c179e\"], [0.4444444444444444, \"#bd3786\"], [0.5555555555555556, \"#d8576b\"], [0.6666666666666666, \"#ed7953\"], [0.7777777777777778, \"#fb9f3a\"], [0.8888888888888888, \"#fdca26\"], [1.0, \"#f0f921\"]], \"type\": \"heatmap\"}], \"heatmapgl\": [{\"colorbar\": {\"outlinewidth\": 0, \"ticks\": \"\"}, \"colorscale\": [[0.0, \"#0d0887\"], [0.1111111111111111, \"#46039f\"], [0.2222222222222222, \"#7201a8\"], [0.3333333333333333, \"#9c179e\"], [0.4444444444444444, \"#bd3786\"], [0.5555555555555556, \"#d8576b\"], [0.6666666666666666, \"#ed7953\"], [0.7777777777777778, \"#fb9f3a\"], [0.8888888888888888, \"#fdca26\"], [1.0, \"#f0f921\"]], \"type\": \"heatmapgl\"}], \"histogram\": [{\"marker\": {\"colorbar\": {\"outlinewidth\": 0, \"ticks\": \"\"}}, \"type\": \"histogram\"}], \"histogram2d\": [{\"colorbar\": {\"outlinewidth\": 0, \"ticks\": \"\"}, \"colorscale\": [[0.0, \"#0d0887\"], [0.1111111111111111, \"#46039f\"], [0.2222222222222222, \"#7201a8\"], [0.3333333333333333, \"#9c179e\"], [0.4444444444444444, \"#bd3786\"], [0.5555555555555556, \"#d8576b\"], [0.6666666666666666, \"#ed7953\"], [0.7777777777777778, \"#fb9f3a\"], [0.8888888888888888, \"#fdca26\"], [1.0, \"#f0f921\"]], \"type\": \"histogram2d\"}], \"histogram2dcontour\": [{\"colorbar\": {\"outlinewidth\": 0, \"ticks\": \"\"}, \"colorscale\": [[0.0, \"#0d0887\"], [0.1111111111111111, \"#46039f\"], [0.2222222222222222, \"#7201a8\"], [0.3333333333333333, \"#9c179e\"], [0.4444444444444444, \"#bd3786\"], [0.5555555555555556, \"#d8576b\"], [0.6666666666666666, \"#ed7953\"], [0.7777777777777778, \"#fb9f3a\"], [0.8888888888888888, \"#fdca26\"], [1.0, \"#f0f921\"]], \"type\": \"histogram2dcontour\"}], \"mesh3d\": [{\"colorbar\": {\"outlinewidth\": 0, \"ticks\": \"\"}, \"type\": \"mesh3d\"}], \"parcoords\": [{\"line\": {\"colorbar\": {\"outlinewidth\": 0, \"ticks\": \"\"}}, \"type\": \"parcoords\"}], \"pie\": [{\"automargin\": true, \"type\": \"pie\"}], \"scatter\": [{\"marker\": {\"colorbar\": {\"outlinewidth\": 0, \"ticks\": \"\"}}, \"type\": \"scatter\"}], \"scatter3d\": [{\"line\": {\"colorbar\": {\"outlinewidth\": 0, \"ticks\": \"\"}}, \"marker\": {\"colorbar\": {\"outlinewidth\": 0, \"ticks\": \"\"}}, \"type\": \"scatter3d\"}], \"scattercarpet\": [{\"marker\": {\"colorbar\": {\"outlinewidth\": 0, \"ticks\": \"\"}}, \"type\": \"scattercarpet\"}], \"scattergeo\": [{\"marker\": {\"colorbar\": {\"outlinewidth\": 0, \"ticks\": \"\"}}, \"type\": \"scattergeo\"}], \"scattergl\": [{\"marker\": {\"colorbar\": {\"outlinewidth\": 0, \"ticks\": \"\"}}, \"type\": \"scattergl\"}], \"scattermapbox\": [{\"marker\": {\"colorbar\": {\"outlinewidth\": 0, \"ticks\": \"\"}}, \"type\": \"scattermapbox\"}], \"scatterpolar\": [{\"marker\": {\"colorbar\": {\"outlinewidth\": 0, \"ticks\": \"\"}}, \"type\": \"scatterpolar\"}], \"scatterpolargl\": [{\"marker\": {\"colorbar\": {\"outlinewidth\": 0, \"ticks\": \"\"}}, \"type\": \"scatterpolargl\"}], \"scatterternary\": [{\"marker\": {\"colorbar\": {\"outlinewidth\": 0, \"ticks\": \"\"}}, \"type\": \"scatterternary\"}], \"surface\": [{\"colorbar\": {\"outlinewidth\": 0, \"ticks\": \"\"}, \"colorscale\": [[0.0, \"#0d0887\"], [0.1111111111111111, \"#46039f\"], [0.2222222222222222, \"#7201a8\"], [0.3333333333333333, \"#9c179e\"], [0.4444444444444444, \"#bd3786\"], [0.5555555555555556, \"#d8576b\"], [0.6666666666666666, \"#ed7953\"], [0.7777777777777778, \"#fb9f3a\"], [0.8888888888888888, \"#fdca26\"], [1.0, \"#f0f921\"]], \"type\": \"surface\"}], \"table\": [{\"cells\": {\"fill\": {\"color\": \"#EBF0F8\"}, \"line\": {\"color\": \"white\"}}, \"header\": {\"fill\": {\"color\": \"#C8D4E3\"}, \"line\": {\"color\": \"white\"}}, \"type\": \"table\"}]}, \"layout\": {\"annotationdefaults\": {\"arrowcolor\": \"#2a3f5f\", \"arrowhead\": 0, \"arrowwidth\": 1}, \"coloraxis\": {\"colorbar\": {\"outlinewidth\": 0, \"ticks\": \"\"}}, \"colorscale\": {\"diverging\": [[0, \"#8e0152\"], [0.1, \"#c51b7d\"], [0.2, \"#de77ae\"], [0.3, \"#f1b6da\"], [0.4, \"#fde0ef\"], [0.5, \"#f7f7f7\"], [0.6, \"#e6f5d0\"], [0.7, \"#b8e186\"], [0.8, \"#7fbc41\"], [0.9, \"#4d9221\"], [1, \"#276419\"]], \"sequential\": [[0.0, \"#0d0887\"], [0.1111111111111111, \"#46039f\"], [0.2222222222222222, \"#7201a8\"], [0.3333333333333333, \"#9c179e\"], [0.4444444444444444, \"#bd3786\"], [0.5555555555555556, \"#d8576b\"], [0.6666666666666666, \"#ed7953\"], [0.7777777777777778, \"#fb9f3a\"], [0.8888888888888888, \"#fdca26\"], [1.0, \"#f0f921\"]], \"sequentialminus\": [[0.0, \"#0d0887\"], [0.1111111111111111, \"#46039f\"], [0.2222222222222222, \"#7201a8\"], [0.3333333333333333, \"#9c179e\"], [0.4444444444444444, \"#bd3786\"], [0.5555555555555556, \"#d8576b\"], [0.6666666666666666, \"#ed7953\"], [0.7777777777777778, \"#fb9f3a\"], [0.8888888888888888, \"#fdca26\"], [1.0, \"#f0f921\"]]}, \"colorway\": [\"#636efa\", \"#EF553B\", \"#00cc96\", \"#ab63fa\", \"#FFA15A\", \"#19d3f3\", \"#FF6692\", \"#B6E880\", \"#FF97FF\", \"#FECB52\"], \"font\": {\"color\": \"#2a3f5f\"}, \"geo\": {\"bgcolor\": \"white\", \"lakecolor\": \"white\", \"landcolor\": \"#E5ECF6\", \"showlakes\": true, \"showland\": true, \"subunitcolor\": \"white\"}, \"hoverlabel\": {\"align\": \"left\"}, \"hovermode\": \"closest\", \"mapbox\": {\"style\": \"light\"}, \"paper_bgcolor\": \"white\", \"plot_bgcolor\": \"#E5ECF6\", \"polar\": {\"angularaxis\": {\"gridcolor\": \"white\", \"linecolor\": \"white\", \"ticks\": \"\"}, \"bgcolor\": \"#E5ECF6\", \"radialaxis\": {\"gridcolor\": \"white\", \"linecolor\": \"white\", \"ticks\": \"\"}}, \"scene\": {\"xaxis\": {\"backgroundcolor\": \"#E5ECF6\", \"gridcolor\": \"white\", \"gridwidth\": 2, \"linecolor\": \"white\", \"showbackground\": true, \"ticks\": \"\", \"zerolinecolor\": \"white\"}, \"yaxis\": {\"backgroundcolor\": \"#E5ECF6\", \"gridcolor\": \"white\", \"gridwidth\": 2, \"linecolor\": \"white\", \"showbackground\": true, \"ticks\": \"\", \"zerolinecolor\": \"white\"}, \"zaxis\": {\"backgroundcolor\": \"#E5ECF6\", \"gridcolor\": \"white\", \"gridwidth\": 2, \"linecolor\": \"white\", \"showbackground\": true, \"ticks\": \"\", \"zerolinecolor\": \"white\"}}, \"shapedefaults\": {\"line\": {\"color\": \"#2a3f5f\"}}, \"ternary\": {\"aaxis\": {\"gridcolor\": \"white\", \"linecolor\": \"white\", \"ticks\": \"\"}, \"baxis\": {\"gridcolor\": \"white\", \"linecolor\": \"white\", \"ticks\": \"\"}, \"bgcolor\": \"#E5ECF6\", \"caxis\": {\"gridcolor\": \"white\", \"linecolor\": \"white\", \"ticks\": \"\"}}, \"title\": {\"x\": 0.05}, \"xaxis\": {\"automargin\": true, \"gridcolor\": \"white\", \"linecolor\": \"white\", \"ticks\": \"\", \"title\": {\"standoff\": 15}, \"zerolinecolor\": \"white\", \"zerolinewidth\": 2}, \"yaxis\": {\"automargin\": true, \"gridcolor\": \"white\", \"linecolor\": \"white\", \"ticks\": \"\", \"title\": {\"standoff\": 15}, \"zerolinecolor\": \"white\", \"zerolinewidth\": 2}}}, \"title\": {\"text\": \"PCA\"}},                        {\"responsive\": true}                    ).then(function(){\n",
       "                            \n",
       "var gd = document.getElementById('8891944a-efaf-4923-8492-774c7e04bc52');\n",
       "var x = new MutationObserver(function (mutations, observer) {{\n",
       "        var display = window.getComputedStyle(gd).display;\n",
       "        if (!display || display === 'none') {{\n",
       "            console.log([gd, 'removed!']);\n",
       "            Plotly.purge(gd);\n",
       "            observer.disconnect();\n",
       "        }}\n",
       "}});\n",
       "\n",
       "// Listen for the removal of the full notebook cells\n",
       "var notebookContainer = gd.closest('#notebook-container');\n",
       "if (notebookContainer) {{\n",
       "    x.observe(notebookContainer, {childList: true});\n",
       "}}\n",
       "\n",
       "// Listen for the clearing of the current output cell\n",
       "var outputEl = gd.closest('.output');\n",
       "if (outputEl) {{\n",
       "    x.observe(outputEl, {childList: true});\n",
       "}}\n",
       "\n",
       "                        })                };                });            </script>        </div>"
      ]
     },
     "metadata": {},
     "output_type": "display_data"
    }
   ],
   "source": [
    "trace = go.Scatter(x=resul_red['X'].values,\n",
    "                   y=resul_red['Y'].values,\n",
    "                   text=resul_red['Palabra'].values,\n",
    "                   mode='markers') \n",
    "\n",
    "layout = go.Layout(title=\"PCA\")\n",
    "\n",
    "fig = go.Figure(data=trace, layout=layout)\n",
    "iplot(fig)"
   ]
  },
  {
   "cell_type": "code",
   "execution_count": 293,
   "metadata": {},
   "outputs": [],
   "source": [
    "#La idea de este análisis es validar entre las 27 mejores películas de amor si había relación o similitud en los temas, \n",
    "#pero realizando los diferentes análisis, se llega a la conclusión que no hay ninguna relación.\n",
    "\n",
    "#Al crear un gráfico de dispersión con los puntos anotados con las palabras seleccionadas no generó\n",
    "#mucho significado dado que se utilizó un corpus pequeño para encajar en el modelo.\n"
   ]
  },
  {
   "cell_type": "code",
   "execution_count": 294,
   "metadata": {},
   "outputs": [],
   "source": [
    "#Validando la similitud de varias palabras se evidencia que no hay mucha relación entre ellas."
   ]
  }
 ],
 "metadata": {
  "kernelspec": {
   "display_name": "Python 3",
   "language": "python",
   "name": "python3"
  },
  "language_info": {
   "codemirror_mode": {
    "name": "ipython",
    "version": 3
   },
   "file_extension": ".py",
   "mimetype": "text/x-python",
   "name": "python",
   "nbconvert_exporter": "python",
   "pygments_lexer": "ipython3",
   "version": "3.7.4"
  }
 },
 "nbformat": 4,
 "nbformat_minor": 2
}
